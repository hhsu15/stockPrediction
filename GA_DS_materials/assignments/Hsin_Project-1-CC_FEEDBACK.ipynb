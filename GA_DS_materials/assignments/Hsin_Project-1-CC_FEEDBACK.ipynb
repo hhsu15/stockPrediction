{
 "cells": [
  {
   "cell_type": "markdown",
   "metadata": {},
   "source": [
    "<img src=\"http://imgur.com/1ZcRyrc.png\" style=\"float: left; margin: 20px; height: 55px\">\n",
    "\n",
    "# Project 1: Python Coding Exercises\n",
    "\n",
    "_Authors: Joseph Nelson (DC) _\n",
    "\n",
    "---"
   ]
  },
  {
   "cell_type": "markdown",
   "metadata": {},
   "source": [
    "The following code challenges are drawn from common exercises used in technical interviews.\n",
    "\n",
    "Note that there may be several ways to approach each challenge!"
   ]
  },
  {
   "cell_type": "markdown",
   "metadata": {},
   "source": [
    "### Challenge 1.1: Largest Palindrome\n",
    "A palindromic number reads the same both ways. For example, 1234321 is a palindrome. The largest palindrome made from the product of two two-digit numbers is 9009 = 91 × 99. Find the largest palindrome made from the product of two three-digit numbers."
   ]
  },
  {
   "cell_type": "code",
   "execution_count": null,
   "metadata": {
    "collapsed": true
   },
   "outputs": [],
   "source": [
    "'''\n",
    "First solution: store all palindrome and get the max in the end\n",
    "'''\n",
    "first_item = range(100,1000)\n",
    "second_item = range(100,1000)\n",
    "palindrome_list = []\n",
    "for number_in_first in first_item:\n",
    "    for number_in_second in second_item:\n",
    "        product = number_in_first * number_in_second\n",
    "        if str(product) == str(product)[::-1]: # test for plaindromic\n",
    "            palindrome_list.append(product)\n",
    "print(max(palindrome_list))\n",
    "\n"
   ]
  },
  {
   "cell_type": "code",
   "execution_count": null,
   "metadata": {
    "collapsed": true
   },
   "outputs": [],
   "source": [
    "'''\n",
    "Second solution: assign the max \n",
    "'''\n",
    "last_product = 0 \n",
    "max_product = 0\n",
    "first_item = range(100,1000)\n",
    "second_item = range(100,1000)\n",
    "for number_in_first in first_item:\n",
    "    for number_in_second in second_item:\n",
    "        product = number_in_first * number_in_second\n",
    "        if str(product) == str(product)[::-1]: # test for plaindromic\n",
    "            last_product = product\n",
    "            if last_product > max_product:\n",
    "                max_product = last_product\n",
    "                value_1, value_2 = number_in_first, number_in_second\n",
    "                \n",
    "print('{} = {} x {}'.format(max_product, value_1, value_2))\n",
    "\n"
   ]
  },
  {
   "cell_type": "markdown",
   "metadata": {},
   "source": [
    "### FEEDBACK ###\n",
    "\n",
    "Good job! You nailed it with this one. Check out the suggested answer at:\n",
    "\n",
    "https://git.generalassemb.ly/dat-918/unit-1_project/blob/master/solution-code/Project-1-CC-Solutions.ipynb"
   ]
  },
  {
   "cell_type": "markdown",
   "metadata": {},
   "source": [
    "\n",
    "### Challenge 1.2: Summation of Primes\n",
    "The sum of the primes below 10 is 2 + 3 + 5 + 7 = 17. Find the sum of all the primes below 2,000."
   ]
  },
  {
   "cell_type": "code",
   "execution_count": 1,
   "metadata": {},
   "outputs": [
    {
     "name": "stdout",
     "output_type": "stream",
     "text": [
      "277050\n"
     ]
    }
   ],
   "source": [
    "prime_list = [2] # initiate first prime\n",
    "\n",
    "for number in range(2,2000):\n",
    "    prime = True\n",
    "    for d in prime_list:\n",
    "        if number % d == 0: \n",
    "            prime = False\n",
    "    if prime == True:\n",
    "        prime_list.append(number)  \n",
    "        \n",
    "print(sum(prime_list))"
   ]
  },
  {
   "cell_type": "markdown",
   "metadata": {},
   "source": [
    "### FEEDBACK ###\n",
    "\n",
    "Good job! You nailed it with this one. Check out the suggested answer at:\n",
    "\n",
    "https://git.generalassemb.ly/dat-918/unit-1_project/blob/master/solution-code/Project-1-CC-Solutions.ipynb"
   ]
  },
  {
   "cell_type": "markdown",
   "metadata": {},
   "source": [
    "### Challenge 1.3: Multiples of 3 and 5\n",
    "If we list all of the natural numbers below 10 that are multiples of 3 or 5, we get 3, 5, 6, and 9. The sum of these multiples is 23. Find the sum of all the multiples of 3 and 5 below 1,000."
   ]
  },
  {
   "cell_type": "code",
   "execution_count": null,
   "metadata": {
    "collapsed": true
   },
   "outputs": [],
   "source": [
    "my_list = []\n",
    "for number in range(1,1000):\n",
    "    if number % 3 ==0 or number % 5 ==0:\n",
    "        my_list.append(number)\n",
    "        \n",
    "sum(my_list)"
   ]
  },
  {
   "cell_type": "markdown",
   "metadata": {},
   "source": [
    "### FEEDBACK ###\n",
    "\n",
    "Good job! You nailed it with this one. Check out the suggested answer at:\n",
    "\n",
    "https://git.generalassemb.ly/dat-918/unit-1_project/blob/master/solution-code/Project-1-CC-Solutions.ipynb"
   ]
  },
  {
   "cell_type": "markdown",
   "metadata": {},
   "source": [
    "### Challenge 2: FizzBuzz\n",
    "Write a program that prints all of the numbers from 1 to 100. For multiples of 3, instead of the number, print \"Fizz;\" for multiples of 5, print \"Buzz.\" For numbers that are multiples of both 3 and 5, print \"FizzBuzz.\" Bonus: If that's too easy, create three unique solutions. Sometimes you'll encounter unexpected constraints, so make sure you're able to think creatively!"
   ]
  },
  {
   "cell_type": "code",
   "execution_count": 6,
   "metadata": {},
   "outputs": [
    {
     "name": "stdout",
     "output_type": "stream",
     "text": [
      "1\n",
      "2\n",
      "Fizz\n",
      "4\n",
      "Buzz\n",
      "Fizz\n",
      "7\n",
      "8\n",
      "Fizz\n",
      "Buzz\n",
      "11\n",
      "Fizz\n",
      "13\n",
      "14\n",
      "FizzBuzz\n",
      "16\n",
      "17\n",
      "Fizz\n",
      "19\n",
      "Buzz\n",
      "Fizz\n",
      "22\n",
      "23\n",
      "Fizz\n",
      "Buzz\n",
      "26\n",
      "Fizz\n",
      "28\n",
      "29\n",
      "FizzBuzz\n",
      "31\n",
      "32\n",
      "Fizz\n",
      "34\n",
      "Buzz\n",
      "Fizz\n",
      "37\n",
      "38\n",
      "Fizz\n",
      "Buzz\n",
      "41\n",
      "Fizz\n",
      "43\n",
      "44\n",
      "FizzBuzz\n",
      "46\n",
      "47\n",
      "Fizz\n",
      "49\n",
      "Buzz\n",
      "Fizz\n",
      "52\n",
      "53\n",
      "Fizz\n",
      "Buzz\n",
      "56\n",
      "Fizz\n",
      "58\n",
      "59\n",
      "FizzBuzz\n",
      "61\n",
      "62\n",
      "Fizz\n",
      "64\n",
      "Buzz\n",
      "Fizz\n",
      "67\n",
      "68\n",
      "Fizz\n",
      "Buzz\n",
      "71\n",
      "Fizz\n",
      "73\n",
      "74\n",
      "FizzBuzz\n",
      "76\n",
      "77\n",
      "Fizz\n",
      "79\n",
      "Buzz\n",
      "Fizz\n",
      "82\n",
      "83\n",
      "Fizz\n",
      "Buzz\n",
      "86\n",
      "Fizz\n",
      "88\n",
      "89\n",
      "FizzBuzz\n",
      "91\n",
      "92\n",
      "Fizz\n",
      "94\n",
      "Buzz\n",
      "Fizz\n",
      "97\n",
      "98\n",
      "Fizz\n",
      "Buzz\n"
     ]
    }
   ],
   "source": [
    "# solution 1\n",
    "for number in range(1,101):\n",
    "    word = ''\n",
    "    if number % 3 == 0:\n",
    "        word = word + 'Fizz'\n",
    "    if number % 5 == 0:\n",
    "        word = word + 'Buzz'\n",
    "    if word == '':\n",
    "        word = number\n",
    "    print word      "
   ]
  },
  {
   "cell_type": "code",
   "execution_count": 4,
   "metadata": {},
   "outputs": [
    {
     "name": "stdout",
     "output_type": "stream",
     "text": [
      "1\n",
      "2\n",
      "Fizz\n",
      "4\n",
      "Buzz\n",
      "Fizz\n",
      "7\n",
      "8\n",
      "Fizz\n",
      "Buzz\n",
      "11\n",
      "Fizz\n",
      "13\n",
      "14\n",
      "FizzBuzz\n",
      "16\n",
      "17\n",
      "Fizz\n",
      "19\n",
      "Buzz\n",
      "Fizz\n",
      "22\n",
      "23\n",
      "Fizz\n",
      "Buzz\n",
      "26\n",
      "Fizz\n",
      "28\n",
      "29\n",
      "FizzBuzz\n",
      "31\n",
      "32\n",
      "Fizz\n",
      "34\n",
      "Buzz\n",
      "Fizz\n",
      "37\n",
      "38\n",
      "Fizz\n",
      "Buzz\n",
      "41\n",
      "Fizz\n",
      "43\n",
      "44\n",
      "FizzBuzz\n",
      "46\n",
      "47\n",
      "Fizz\n",
      "49\n",
      "Buzz\n",
      "Fizz\n",
      "52\n",
      "53\n",
      "Fizz\n",
      "Buzz\n",
      "56\n",
      "Fizz\n",
      "58\n",
      "59\n",
      "FizzBuzz\n",
      "61\n",
      "62\n",
      "Fizz\n",
      "64\n",
      "Buzz\n",
      "Fizz\n",
      "67\n",
      "68\n",
      "Fizz\n",
      "Buzz\n",
      "71\n",
      "Fizz\n",
      "73\n",
      "74\n",
      "FizzBuzz\n",
      "76\n",
      "77\n",
      "Fizz\n",
      "79\n",
      "Buzz\n",
      "Fizz\n",
      "82\n",
      "83\n",
      "Fizz\n",
      "Buzz\n",
      "86\n",
      "Fizz\n",
      "88\n",
      "89\n",
      "FizzBuzz\n",
      "91\n",
      "92\n",
      "Fizz\n",
      "94\n",
      "Buzz\n",
      "Fizz\n",
      "97\n",
      "98\n",
      "Fizz\n",
      "Buzz\n"
     ]
    }
   ],
   "source": [
    "# solution 2\n",
    "for number in range(1,101):\n",
    "    if number % 3 ==0  and number % 5 ==0:\n",
    "        print 'FizzBuzz'\n",
    "    elif number % 3 ==0:\n",
    "        print 'Fizz'\n",
    "    elif number % 5 ==0:\n",
    "        print 'Buzz'\n",
    "    else:\n",
    "        print number"
   ]
  },
  {
   "cell_type": "markdown",
   "metadata": {},
   "source": [
    "### FEEDBACK ###\n",
    "\n",
    "Good attempt. Re-read the question text a few times to make sure you are clear on the requirements. While your code correctly prints the various combinations of Fizz, Buzz, and FizzBuzz, it does not print out the integers (instead printing `None`). Check out the suggested answer at:\n",
    "\n",
    "https://git.generalassemb.ly/dat-918/unit-1_project/blob/master/solution-code/Project-1-CC-Solutions.ipynb"
   ]
  },
  {
   "cell_type": "markdown",
   "metadata": {},
   "source": [
    "### Challenge 3: String Compressor\n",
    "Implement a method to perform basic string compression using the counts of repeated characters. (This is called run-length encoding.) For example, the string \"aabcccccaaa\" would become a2b1c5a3. If the “compressed” string would not become smaller than the original string, your method should return the original string. You can assume the string has only uppercase and lowercase letters (a–z). Specify whether your solution is case sensitive or case insensitive and what you would need to change to make it the other."
   ]
  },
  {
   "cell_type": "code",
   "execution_count": 9,
   "metadata": {
    "collapsed": true
   },
   "outputs": [],
   "source": [
    "def string_compressor(string, case_sen=True): # you can use the parameter case_sen=False if you want it to be case insensitive\n",
    "    last_letter = ''\n",
    "    new_string = ''\n",
    "    count = 0\n",
    "    \n",
    "    # control case sensetivity \n",
    "    if case_sen == False:\n",
    "        string = string.lower()\n",
    "    \n",
    "    # actual code: reconstruct the string\n",
    "    for index, letter in enumerate(string):\n",
    "        if last_letter != letter:\n",
    "            if count !=0:\n",
    "                new_string = new_string + last_letter + str(count) # this will construct the string for the \"previous\" letter\n",
    "            count = 1\n",
    "            last_letter = letter\n",
    "        else:\n",
    "            count += 1 # same letter so increase the count\n",
    "        if index == len(string)-1: # when it reaches the last element, concatenate the string with count\n",
    "            new_string = new_string + last_letter + str(count)\n",
    "    \n",
    "    # if new string is longer then fall abck to original string\n",
    "    if len(new_string) > len(string):\n",
    "        return string\n",
    "    else:\n",
    "        return new_string"
   ]
  },
  {
   "cell_type": "code",
   "execution_count": 10,
   "metadata": {},
   "outputs": [
    {
     "name": "stdout",
     "output_type": "stream",
     "text": [
      "A2a2b1c5a3\n"
     ]
    }
   ],
   "source": [
    "print string_compressor('AAaabcccccaaa')"
   ]
  },
  {
   "cell_type": "code",
   "execution_count": null,
   "metadata": {
    "collapsed": true
   },
   "outputs": [],
   "source": [
    "print string_compressor('AAaabcccccaaa', False)"
   ]
  },
  {
   "cell_type": "code",
   "execution_count": null,
   "metadata": {
    "collapsed": true
   },
   "outputs": [],
   "source": [
    "string_compressor('cat')"
   ]
  },
  {
   "cell_type": "markdown",
   "metadata": {
    "collapsed": true
   },
   "source": [
    "### FEEDBACK ###\n",
    "\n",
    "Good job! You nailed it with this one. Check out the suggested answer at:\n",
    "\n",
    "https://git.generalassemb.ly/dat-918/unit-1_project/blob/master/solution-code/Project-1-CC-Solutions.ipynb"
   ]
  },
  {
   "cell_type": "code",
   "execution_count": null,
   "metadata": {
    "collapsed": true
   },
   "outputs": [],
   "source": []
  }
 ],
 "metadata": {
  "anaconda-cloud": {},
  "kernelspec": {
   "display_name": "Python 2",
   "language": "python",
   "name": "python2"
  },
  "language_info": {
   "codemirror_mode": {
    "name": "ipython",
    "version": 2
   },
   "file_extension": ".py",
   "mimetype": "text/x-python",
   "name": "python",
   "nbconvert_exporter": "python",
   "pygments_lexer": "ipython2",
   "version": "2.7.13"
  }
 },
 "nbformat": 4,
 "nbformat_minor": 2
}
