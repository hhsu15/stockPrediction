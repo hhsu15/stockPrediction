{
 "cells": [
  {
   "cell_type": "markdown",
   "metadata": {},
   "source": [
    "#### Pandas Data Manipulation Lab¶\n",
    "This lab is intentionally open-ended, and you're encouraged to answer your own inquisitivities about the dataset.\n",
    "\n",
    "##### Lab Summary\n",
    "On next week's episode of the 'Are You Entertained?' podcast, we're going to be analyzing the latest generation's guilty pleasure- the music of the '00s. Our Data Scientists have poured through Billboard chart data to analyze what made a hit soar to the top of the charts, and how long they stayed there. Tune in next week for an awesome exploration of music and data as we continue to address an omnipresent question in the industry- why do we like what we like?\n",
    "You must provide, at least, a markdown cell explaining your key learnings about top hits: what are they, what common themes are there, is there a trend among artists (type of music)?\n",
    "\n",
    "##### Minimum Requirements\n",
    "At a minimum, you must:\n",
    "- Use Pandas to read in your data\n",
    "- Rename column names where appropriate\n",
    "- Describe your data: check the value counts and descriptive statistics\n",
    "- Make use of groupby statements\n",
    "- Utilize Boolean sorting\n",
    "- Assess the validity of your data (missing data, distributions?)\n",
    "\n",
    "##### At a maximum, you should strive:\n",
    "- Produce a blog-post ready description of your lab\n",
    "- State your assumptions about the data\n",
    "- Describe limitations\n",
    "- Consider how you can action this from a stakeholder perspective (radio, record label, fan)\n",
    "- Include visualization* (tomorrow will help)"
   ]
  },
  {
   "cell_type": "markdown",
   "metadata": {},
   "source": [
    "# Time it takes a song to get to the top.\n",
    "pd.to_datetime\n",
    "# Converting song time to an actual time (from a string)\n",
    "\n",
    "# Weekly Average Rating\n",
    "\n",
    "# How many weeks a song was number 1 \n",
    "\n",
    "# Get the correct genre for each artist\n",
    "\n",
    "# Word that appears most often in song Names\n",
    "\n",
    "# Entry level rating of Genre\n",
    "\n",
    "# Time to peak grouped by Genre\n",
    "\n",
    "# Visualize the lifecycle of a song (average)"
   ]
  },
  {
   "cell_type": "markdown",
   "metadata": {},
   "source": [
    "##### Use Pandas to read in your data"
   ]
  },
  {
   "cell_type": "code",
   "execution_count": 1,
   "metadata": {
    "collapsed": false
   },
   "outputs": [],
   "source": [
    "import numpy as np\n",
    "import pandas as pd\n",
    "\n",
    "music = pd.read_csv('../datasets/billboard.csv')"
   ]
  },
  {
   "cell_type": "code",
   "execution_count": 2,
   "metadata": {
    "collapsed": false
   },
   "outputs": [
    {
     "name": "stdout",
     "output_type": "stream",
     "text": [
      "317\n"
     ]
    }
   ],
   "source": [
    "print len(music)\n",
    "# This Dataset has 317 values"
   ]
  },
  {
   "cell_type": "code",
   "execution_count": 3,
   "metadata": {
    "collapsed": false
   },
   "outputs": [
    {
     "data": {
      "text/plain": [
       "year                 0\n",
       "artist.inverted      0\n",
       "track                0\n",
       "time                 0\n",
       "genre                0\n",
       "date.entered         0\n",
       "date.peaked          0\n",
       "x1st.week            0\n",
       "x2nd.week            5\n",
       "x3rd.week           10\n",
       "x4th.week           17\n",
       "x5th.week           25\n",
       "x6th.week           37\n",
       "x7th.week           48\n",
       "x8th.week           57\n",
       "x9th.week           64\n",
       "x10th.week          73\n",
       "x11th.week          81\n",
       "x12th.week          95\n",
       "x13th.week         107\n",
       "x14th.week         113\n",
       "x15th.week         120\n",
       "x16th.week         135\n",
       "x17th.week         140\n",
       "x18th.week         151\n",
       "x19th.week         161\n",
       "x20th.week         171\n",
       "x21st.week         252\n",
       "x22nd.week         262\n",
       "x23rd.week         269\n",
       "                  ... \n",
       "x47th.week         312\n",
       "x48th.week         313\n",
       "x49th.week         313\n",
       "x50th.week         313\n",
       "x51st.week         313\n",
       "x52nd.week         313\n",
       "x53rd.week         313\n",
       "x54th.week         315\n",
       "x55th.week         315\n",
       "x56th.week         315\n",
       "x57th.week         315\n",
       "x58th.week         315\n",
       "x59th.week         315\n",
       "x60th.week         315\n",
       "x61st.week         315\n",
       "x62nd.week         315\n",
       "x63rd.week         315\n",
       "x64th.week         315\n",
       "x65th.week         316\n",
       "x66th.week         317\n",
       "x67th.week         317\n",
       "x68th.week         317\n",
       "x69th.week         317\n",
       "x70th.week         317\n",
       "x71st.week         317\n",
       "x72nd.week         317\n",
       "x73rd.week         317\n",
       "x74th.week         317\n",
       "x75th.week         317\n",
       "x76th.week         317\n",
       "dtype: int64"
      ]
     },
     "execution_count": 3,
     "metadata": {},
     "output_type": "execute_result"
    }
   ],
   "source": [
    "# You can run this cell if you don't believe me\n",
    "music.isnull().sum()"
   ]
  },
  {
   "cell_type": "markdown",
   "metadata": {},
   "source": [
    "Given that there are 317 observations in this dataset and for weeks 66-76 there are 317 nulls, It is safe to assume that those weeks can be dropped because they contain no relevant information.  "
   ]
  },
  {
   "cell_type": "markdown",
   "metadata": {},
   "source": [
    "##### Rename column names where appropriate"
   ]
  },
  {
   "cell_type": "code",
   "execution_count": 4,
   "metadata": {
    "collapsed": false
   },
   "outputs": [],
   "source": [
    "# creating a list of week names that arn't crap\n",
    "week = 1\n",
    "week_list = []\n",
    "while week < 77:\n",
    "    week_num = 'week '+ str(week)\n",
    "    week_list.append(week_num)\n",
    "    week += 1"
   ]
  },
  {
   "cell_type": "markdown",
   "metadata": {},
   "source": [
    "Week_list is a list that states weeks as 'week x' to be appeneded to the silly way the variables are currently displayed.\n",
    "\n",
    "Other than the weeks, the other features are ... \n",
    "['year', 'artist.inverted', 'track', 'time', 'genre', 'date.entered', 'date.peaked']\n",
    "\n",
    "Im going to change them to...\n",
    "['year','artist','track', 'length','genre','first_apperence','peak_date']"
   ]
  },
  {
   "cell_type": "code",
   "execution_count": 5,
   "metadata": {
    "collapsed": false
   },
   "outputs": [
    {
     "data": {
      "text/html": [
       "<div>\n",
       "<table border=\"1\" class=\"dataframe\">\n",
       "  <thead>\n",
       "    <tr style=\"text-align: right;\">\n",
       "      <th></th>\n",
       "      <th>year</th>\n",
       "      <th>artist</th>\n",
       "      <th>track</th>\n",
       "      <th>length</th>\n",
       "      <th>genre</th>\n",
       "      <th>first_apperence</th>\n",
       "      <th>highest_data</th>\n",
       "      <th>week 1</th>\n",
       "      <th>week 2</th>\n",
       "      <th>week 3</th>\n",
       "      <th>...</th>\n",
       "      <th>week 67</th>\n",
       "      <th>week 68</th>\n",
       "      <th>week 69</th>\n",
       "      <th>week 70</th>\n",
       "      <th>week 71</th>\n",
       "      <th>week 72</th>\n",
       "      <th>week 73</th>\n",
       "      <th>week 74</th>\n",
       "      <th>week 75</th>\n",
       "      <th>week 76</th>\n",
       "    </tr>\n",
       "  </thead>\n",
       "  <tbody>\n",
       "    <tr>\n",
       "      <th>0</th>\n",
       "      <td>2000</td>\n",
       "      <td>Destiny's Child</td>\n",
       "      <td>Independent Women Part I</td>\n",
       "      <td>3:38</td>\n",
       "      <td>Rock</td>\n",
       "      <td>2000-09-23</td>\n",
       "      <td>2000-11-18</td>\n",
       "      <td>78</td>\n",
       "      <td>63.0</td>\n",
       "      <td>49.0</td>\n",
       "      <td>...</td>\n",
       "      <td>NaN</td>\n",
       "      <td>NaN</td>\n",
       "      <td>NaN</td>\n",
       "      <td>NaN</td>\n",
       "      <td>NaN</td>\n",
       "      <td>NaN</td>\n",
       "      <td>NaN</td>\n",
       "      <td>NaN</td>\n",
       "      <td>NaN</td>\n",
       "      <td>NaN</td>\n",
       "    </tr>\n",
       "    <tr>\n",
       "      <th>1</th>\n",
       "      <td>2000</td>\n",
       "      <td>Santana</td>\n",
       "      <td>Maria, Maria</td>\n",
       "      <td>4:18</td>\n",
       "      <td>Rock</td>\n",
       "      <td>2000-02-12</td>\n",
       "      <td>2000-04-08</td>\n",
       "      <td>15</td>\n",
       "      <td>8.0</td>\n",
       "      <td>6.0</td>\n",
       "      <td>...</td>\n",
       "      <td>NaN</td>\n",
       "      <td>NaN</td>\n",
       "      <td>NaN</td>\n",
       "      <td>NaN</td>\n",
       "      <td>NaN</td>\n",
       "      <td>NaN</td>\n",
       "      <td>NaN</td>\n",
       "      <td>NaN</td>\n",
       "      <td>NaN</td>\n",
       "      <td>NaN</td>\n",
       "    </tr>\n",
       "    <tr>\n",
       "      <th>2</th>\n",
       "      <td>2000</td>\n",
       "      <td>Savage Garden</td>\n",
       "      <td>I Knew I Loved You</td>\n",
       "      <td>4:07</td>\n",
       "      <td>Rock</td>\n",
       "      <td>1999-10-23</td>\n",
       "      <td>2000-01-29</td>\n",
       "      <td>71</td>\n",
       "      <td>48.0</td>\n",
       "      <td>43.0</td>\n",
       "      <td>...</td>\n",
       "      <td>NaN</td>\n",
       "      <td>NaN</td>\n",
       "      <td>NaN</td>\n",
       "      <td>NaN</td>\n",
       "      <td>NaN</td>\n",
       "      <td>NaN</td>\n",
       "      <td>NaN</td>\n",
       "      <td>NaN</td>\n",
       "      <td>NaN</td>\n",
       "      <td>NaN</td>\n",
       "    </tr>\n",
       "    <tr>\n",
       "      <th>3</th>\n",
       "      <td>2000</td>\n",
       "      <td>Madonna</td>\n",
       "      <td>Music</td>\n",
       "      <td>3:45</td>\n",
       "      <td>Rock</td>\n",
       "      <td>2000-08-12</td>\n",
       "      <td>2000-09-16</td>\n",
       "      <td>41</td>\n",
       "      <td>23.0</td>\n",
       "      <td>18.0</td>\n",
       "      <td>...</td>\n",
       "      <td>NaN</td>\n",
       "      <td>NaN</td>\n",
       "      <td>NaN</td>\n",
       "      <td>NaN</td>\n",
       "      <td>NaN</td>\n",
       "      <td>NaN</td>\n",
       "      <td>NaN</td>\n",
       "      <td>NaN</td>\n",
       "      <td>NaN</td>\n",
       "      <td>NaN</td>\n",
       "    </tr>\n",
       "    <tr>\n",
       "      <th>4</th>\n",
       "      <td>2000</td>\n",
       "      <td>Aguilera, Christina</td>\n",
       "      <td>Come On Over Baby (All I Want Is You)</td>\n",
       "      <td>3:38</td>\n",
       "      <td>Rock</td>\n",
       "      <td>2000-08-05</td>\n",
       "      <td>2000-10-14</td>\n",
       "      <td>57</td>\n",
       "      <td>47.0</td>\n",
       "      <td>45.0</td>\n",
       "      <td>...</td>\n",
       "      <td>NaN</td>\n",
       "      <td>NaN</td>\n",
       "      <td>NaN</td>\n",
       "      <td>NaN</td>\n",
       "      <td>NaN</td>\n",
       "      <td>NaN</td>\n",
       "      <td>NaN</td>\n",
       "      <td>NaN</td>\n",
       "      <td>NaN</td>\n",
       "      <td>NaN</td>\n",
       "    </tr>\n",
       "  </tbody>\n",
       "</table>\n",
       "<p>5 rows × 83 columns</p>\n",
       "</div>"
      ],
      "text/plain": [
       "   year               artist                                  track length  \\\n",
       "0  2000      Destiny's Child               Independent Women Part I   3:38   \n",
       "1  2000              Santana                           Maria, Maria   4:18   \n",
       "2  2000        Savage Garden                     I Knew I Loved You   4:07   \n",
       "3  2000              Madonna                                  Music   3:45   \n",
       "4  2000  Aguilera, Christina  Come On Over Baby (All I Want Is You)   3:38   \n",
       "\n",
       "  genre first_apperence highest_data  week 1  week 2  week 3   ...     \\\n",
       "0  Rock      2000-09-23   2000-11-18      78    63.0    49.0   ...      \n",
       "1  Rock      2000-02-12   2000-04-08      15     8.0     6.0   ...      \n",
       "2  Rock      1999-10-23   2000-01-29      71    48.0    43.0   ...      \n",
       "3  Rock      2000-08-12   2000-09-16      41    23.0    18.0   ...      \n",
       "4  Rock      2000-08-05   2000-10-14      57    47.0    45.0   ...      \n",
       "\n",
       "   week 67  week 68  week 69  week 70  week 71  week 72  week 73  week 74  \\\n",
       "0      NaN      NaN      NaN      NaN      NaN      NaN      NaN      NaN   \n",
       "1      NaN      NaN      NaN      NaN      NaN      NaN      NaN      NaN   \n",
       "2      NaN      NaN      NaN      NaN      NaN      NaN      NaN      NaN   \n",
       "3      NaN      NaN      NaN      NaN      NaN      NaN      NaN      NaN   \n",
       "4      NaN      NaN      NaN      NaN      NaN      NaN      NaN      NaN   \n",
       "\n",
       "   week 75  week 76  \n",
       "0      NaN      NaN  \n",
       "1      NaN      NaN  \n",
       "2      NaN      NaN  \n",
       "3      NaN      NaN  \n",
       "4      NaN      NaN  \n",
       "\n",
       "[5 rows x 83 columns]"
      ]
     },
     "execution_count": 5,
     "metadata": {},
     "output_type": "execute_result"
    }
   ],
   "source": [
    "names = ['year','artist','track', 'length','genre','first_apperence','highest_data']\n",
    "for item in week_list:\n",
    "    names.append(item)\n",
    "music.columns = names\n",
    "music.head()"
   ]
  },
  {
   "cell_type": "code",
   "execution_count": 6,
   "metadata": {
    "collapsed": false
   },
   "outputs": [],
   "source": [
    "# dropping all those columns with zero values in them.\n",
    "music.drop(['week 66','week 67','week 68','week 69','week 70','week 71',\n",
    "           'week 72','week 73','week 74','week 74','week 75','week 76'],\n",
    "           axis =1,inplace = True)"
   ]
  },
  {
   "cell_type": "code",
   "execution_count": 7,
   "metadata": {
    "collapsed": true
   },
   "outputs": [],
   "source": [
    "# getting only the columns that correspond to weekly ratings\n",
    "music[music.columns[7:72]].count(axis=1)\n",
    "\n",
    "# Creates a dataframe column called 'weeks_active' that is the number of weeks the song is on the top 100\n",
    "music['weeks_active'] = music[music.columns[7:72]].count(axis=1)"
   ]
  },
  {
   "cell_type": "code",
   "execution_count": 8,
   "metadata": {
    "collapsed": false
   },
   "outputs": [
    {
     "data": {
      "text/html": [
       "<div>\n",
       "<table border=\"1\" class=\"dataframe\">\n",
       "  <thead>\n",
       "    <tr style=\"text-align: right;\">\n",
       "      <th></th>\n",
       "      <th>week 1</th>\n",
       "      <th>week 2</th>\n",
       "      <th>week 3</th>\n",
       "      <th>week 4</th>\n",
       "      <th>week 5</th>\n",
       "      <th>week 6</th>\n",
       "      <th>week 7</th>\n",
       "      <th>week 8</th>\n",
       "      <th>week 9</th>\n",
       "      <th>week 10</th>\n",
       "      <th>...</th>\n",
       "      <th>week 56</th>\n",
       "      <th>week 57</th>\n",
       "      <th>week 58</th>\n",
       "      <th>week 59</th>\n",
       "      <th>week 60</th>\n",
       "      <th>week 61</th>\n",
       "      <th>week 62</th>\n",
       "      <th>week 63</th>\n",
       "      <th>week 64</th>\n",
       "      <th>week 65</th>\n",
       "    </tr>\n",
       "  </thead>\n",
       "  <tbody>\n",
       "    <tr>\n",
       "      <th>0</th>\n",
       "      <td>78</td>\n",
       "      <td>63.0</td>\n",
       "      <td>49.0</td>\n",
       "      <td>33.0</td>\n",
       "      <td>23.0</td>\n",
       "      <td>15.0</td>\n",
       "      <td>7.0</td>\n",
       "      <td>5.0</td>\n",
       "      <td>1.0</td>\n",
       "      <td>1.0</td>\n",
       "      <td>...</td>\n",
       "      <td>NaN</td>\n",
       "      <td>NaN</td>\n",
       "      <td>NaN</td>\n",
       "      <td>NaN</td>\n",
       "      <td>NaN</td>\n",
       "      <td>NaN</td>\n",
       "      <td>NaN</td>\n",
       "      <td>NaN</td>\n",
       "      <td>NaN</td>\n",
       "      <td>NaN</td>\n",
       "    </tr>\n",
       "    <tr>\n",
       "      <th>1</th>\n",
       "      <td>15</td>\n",
       "      <td>8.0</td>\n",
       "      <td>6.0</td>\n",
       "      <td>5.0</td>\n",
       "      <td>2.0</td>\n",
       "      <td>3.0</td>\n",
       "      <td>2.0</td>\n",
       "      <td>2.0</td>\n",
       "      <td>1.0</td>\n",
       "      <td>1.0</td>\n",
       "      <td>...</td>\n",
       "      <td>NaN</td>\n",
       "      <td>NaN</td>\n",
       "      <td>NaN</td>\n",
       "      <td>NaN</td>\n",
       "      <td>NaN</td>\n",
       "      <td>NaN</td>\n",
       "      <td>NaN</td>\n",
       "      <td>NaN</td>\n",
       "      <td>NaN</td>\n",
       "      <td>NaN</td>\n",
       "    </tr>\n",
       "    <tr>\n",
       "      <th>2</th>\n",
       "      <td>71</td>\n",
       "      <td>48.0</td>\n",
       "      <td>43.0</td>\n",
       "      <td>31.0</td>\n",
       "      <td>20.0</td>\n",
       "      <td>13.0</td>\n",
       "      <td>7.0</td>\n",
       "      <td>6.0</td>\n",
       "      <td>4.0</td>\n",
       "      <td>4.0</td>\n",
       "      <td>...</td>\n",
       "      <td>NaN</td>\n",
       "      <td>NaN</td>\n",
       "      <td>NaN</td>\n",
       "      <td>NaN</td>\n",
       "      <td>NaN</td>\n",
       "      <td>NaN</td>\n",
       "      <td>NaN</td>\n",
       "      <td>NaN</td>\n",
       "      <td>NaN</td>\n",
       "      <td>NaN</td>\n",
       "    </tr>\n",
       "    <tr>\n",
       "      <th>3</th>\n",
       "      <td>41</td>\n",
       "      <td>23.0</td>\n",
       "      <td>18.0</td>\n",
       "      <td>14.0</td>\n",
       "      <td>2.0</td>\n",
       "      <td>1.0</td>\n",
       "      <td>1.0</td>\n",
       "      <td>1.0</td>\n",
       "      <td>1.0</td>\n",
       "      <td>2.0</td>\n",
       "      <td>...</td>\n",
       "      <td>NaN</td>\n",
       "      <td>NaN</td>\n",
       "      <td>NaN</td>\n",
       "      <td>NaN</td>\n",
       "      <td>NaN</td>\n",
       "      <td>NaN</td>\n",
       "      <td>NaN</td>\n",
       "      <td>NaN</td>\n",
       "      <td>NaN</td>\n",
       "      <td>NaN</td>\n",
       "    </tr>\n",
       "    <tr>\n",
       "      <th>4</th>\n",
       "      <td>57</td>\n",
       "      <td>47.0</td>\n",
       "      <td>45.0</td>\n",
       "      <td>29.0</td>\n",
       "      <td>23.0</td>\n",
       "      <td>18.0</td>\n",
       "      <td>11.0</td>\n",
       "      <td>9.0</td>\n",
       "      <td>9.0</td>\n",
       "      <td>11.0</td>\n",
       "      <td>...</td>\n",
       "      <td>NaN</td>\n",
       "      <td>NaN</td>\n",
       "      <td>NaN</td>\n",
       "      <td>NaN</td>\n",
       "      <td>NaN</td>\n",
       "      <td>NaN</td>\n",
       "      <td>NaN</td>\n",
       "      <td>NaN</td>\n",
       "      <td>NaN</td>\n",
       "      <td>NaN</td>\n",
       "    </tr>\n",
       "  </tbody>\n",
       "</table>\n",
       "<p>5 rows × 65 columns</p>\n",
       "</div>"
      ],
      "text/plain": [
       "   week 1  week 2  week 3  week 4  week 5  week 6  week 7  week 8  week 9  \\\n",
       "0      78    63.0    49.0    33.0    23.0    15.0     7.0     5.0     1.0   \n",
       "1      15     8.0     6.0     5.0     2.0     3.0     2.0     2.0     1.0   \n",
       "2      71    48.0    43.0    31.0    20.0    13.0     7.0     6.0     4.0   \n",
       "3      41    23.0    18.0    14.0     2.0     1.0     1.0     1.0     1.0   \n",
       "4      57    47.0    45.0    29.0    23.0    18.0    11.0     9.0     9.0   \n",
       "\n",
       "   week 10   ...     week 56  week 57  week 58  week 59  week 60  week 61  \\\n",
       "0      1.0   ...         NaN      NaN      NaN      NaN      NaN      NaN   \n",
       "1      1.0   ...         NaN      NaN      NaN      NaN      NaN      NaN   \n",
       "2      4.0   ...         NaN      NaN      NaN      NaN      NaN      NaN   \n",
       "3      2.0   ...         NaN      NaN      NaN      NaN      NaN      NaN   \n",
       "4     11.0   ...         NaN      NaN      NaN      NaN      NaN      NaN   \n",
       "\n",
       "   week 62  week 63  week 64  week 65  \n",
       "0      NaN      NaN      NaN      NaN  \n",
       "1      NaN      NaN      NaN      NaN  \n",
       "2      NaN      NaN      NaN      NaN  \n",
       "3      NaN      NaN      NaN      NaN  \n",
       "4      NaN      NaN      NaN      NaN  \n",
       "\n",
       "[5 rows x 65 columns]"
      ]
     },
     "execution_count": 8,
     "metadata": {},
     "output_type": "execute_result"
    }
   ],
   "source": [
    "df = music[music.columns[7:72]]\n",
    "df.head()"
   ]
  },
  {
   "cell_type": "code",
   "execution_count": 12,
   "metadata": {
    "collapsed": false
   },
   "outputs": [
    {
     "name": "stderr",
     "output_type": "stream",
     "text": [
      "C:\\ProgramData\\Anaconda2\\lib\\site-packages\\pandas\\core\\indexing.py:297: SettingWithCopyWarning: \n",
      "A value is trying to be set on a copy of a slice from a DataFrame.\n",
      "Try using .loc[row_indexer,col_indexer] = value instead\n",
      "\n",
      "See the caveats in the documentation: http://pandas.pydata.org/pandas-docs/stable/indexing.html#indexing-view-versus-copy\n",
      "  self.obj[key] = _infer_fill_value(value)\n",
      "C:\\ProgramData\\Anaconda2\\lib\\site-packages\\pandas\\core\\indexing.py:477: SettingWithCopyWarning: \n",
      "A value is trying to be set on a copy of a slice from a DataFrame.\n",
      "Try using .loc[row_indexer,col_indexer] = value instead\n",
      "\n",
      "See the caveats in the documentation: http://pandas.pydata.org/pandas-docs/stable/indexing.html#indexing-view-versus-copy\n",
      "  self.obj[item] = s\n"
     ]
    },
    {
     "data": {
      "text/html": [
       "<div>\n",
       "<table border=\"1\" class=\"dataframe\">\n",
       "  <thead>\n",
       "    <tr style=\"text-align: right;\">\n",
       "      <th></th>\n",
       "      <th>week 1</th>\n",
       "      <th>week 2</th>\n",
       "      <th>week 3</th>\n",
       "      <th>week 4</th>\n",
       "      <th>week 5</th>\n",
       "      <th>week 6</th>\n",
       "      <th>week 7</th>\n",
       "      <th>week 8</th>\n",
       "      <th>week 9</th>\n",
       "      <th>week 10</th>\n",
       "      <th>...</th>\n",
       "      <th>week 57</th>\n",
       "      <th>week 58</th>\n",
       "      <th>week 59</th>\n",
       "      <th>week 60</th>\n",
       "      <th>week 61</th>\n",
       "      <th>week 62</th>\n",
       "      <th>week 63</th>\n",
       "      <th>week 64</th>\n",
       "      <th>week 65</th>\n",
       "      <th>number_1_weeks</th>\n",
       "    </tr>\n",
       "  </thead>\n",
       "  <tbody>\n",
       "    <tr>\n",
       "      <th>0</th>\n",
       "      <td>78</td>\n",
       "      <td>63.0</td>\n",
       "      <td>49.0</td>\n",
       "      <td>33.0</td>\n",
       "      <td>23.0</td>\n",
       "      <td>15.0</td>\n",
       "      <td>7.0</td>\n",
       "      <td>5.0</td>\n",
       "      <td>1.0</td>\n",
       "      <td>1.0</td>\n",
       "      <td>...</td>\n",
       "      <td>NaN</td>\n",
       "      <td>NaN</td>\n",
       "      <td>NaN</td>\n",
       "      <td>NaN</td>\n",
       "      <td>NaN</td>\n",
       "      <td>NaN</td>\n",
       "      <td>NaN</td>\n",
       "      <td>NaN</td>\n",
       "      <td>NaN</td>\n",
       "      <td>11.0</td>\n",
       "    </tr>\n",
       "    <tr>\n",
       "      <th>1</th>\n",
       "      <td>15</td>\n",
       "      <td>8.0</td>\n",
       "      <td>6.0</td>\n",
       "      <td>5.0</td>\n",
       "      <td>2.0</td>\n",
       "      <td>3.0</td>\n",
       "      <td>2.0</td>\n",
       "      <td>2.0</td>\n",
       "      <td>1.0</td>\n",
       "      <td>1.0</td>\n",
       "      <td>...</td>\n",
       "      <td>NaN</td>\n",
       "      <td>NaN</td>\n",
       "      <td>NaN</td>\n",
       "      <td>NaN</td>\n",
       "      <td>NaN</td>\n",
       "      <td>NaN</td>\n",
       "      <td>NaN</td>\n",
       "      <td>NaN</td>\n",
       "      <td>NaN</td>\n",
       "      <td>10.0</td>\n",
       "    </tr>\n",
       "    <tr>\n",
       "      <th>2</th>\n",
       "      <td>71</td>\n",
       "      <td>48.0</td>\n",
       "      <td>43.0</td>\n",
       "      <td>31.0</td>\n",
       "      <td>20.0</td>\n",
       "      <td>13.0</td>\n",
       "      <td>7.0</td>\n",
       "      <td>6.0</td>\n",
       "      <td>4.0</td>\n",
       "      <td>4.0</td>\n",
       "      <td>...</td>\n",
       "      <td>NaN</td>\n",
       "      <td>NaN</td>\n",
       "      <td>NaN</td>\n",
       "      <td>NaN</td>\n",
       "      <td>NaN</td>\n",
       "      <td>NaN</td>\n",
       "      <td>NaN</td>\n",
       "      <td>NaN</td>\n",
       "      <td>NaN</td>\n",
       "      <td>4.0</td>\n",
       "    </tr>\n",
       "    <tr>\n",
       "      <th>3</th>\n",
       "      <td>41</td>\n",
       "      <td>23.0</td>\n",
       "      <td>18.0</td>\n",
       "      <td>14.0</td>\n",
       "      <td>2.0</td>\n",
       "      <td>1.0</td>\n",
       "      <td>1.0</td>\n",
       "      <td>1.0</td>\n",
       "      <td>1.0</td>\n",
       "      <td>2.0</td>\n",
       "      <td>...</td>\n",
       "      <td>NaN</td>\n",
       "      <td>NaN</td>\n",
       "      <td>NaN</td>\n",
       "      <td>NaN</td>\n",
       "      <td>NaN</td>\n",
       "      <td>NaN</td>\n",
       "      <td>NaN</td>\n",
       "      <td>NaN</td>\n",
       "      <td>NaN</td>\n",
       "      <td>4.0</td>\n",
       "    </tr>\n",
       "    <tr>\n",
       "      <th>4</th>\n",
       "      <td>57</td>\n",
       "      <td>47.0</td>\n",
       "      <td>45.0</td>\n",
       "      <td>29.0</td>\n",
       "      <td>23.0</td>\n",
       "      <td>18.0</td>\n",
       "      <td>11.0</td>\n",
       "      <td>9.0</td>\n",
       "      <td>9.0</td>\n",
       "      <td>11.0</td>\n",
       "      <td>...</td>\n",
       "      <td>NaN</td>\n",
       "      <td>NaN</td>\n",
       "      <td>NaN</td>\n",
       "      <td>NaN</td>\n",
       "      <td>NaN</td>\n",
       "      <td>NaN</td>\n",
       "      <td>NaN</td>\n",
       "      <td>NaN</td>\n",
       "      <td>NaN</td>\n",
       "      <td>4.0</td>\n",
       "    </tr>\n",
       "  </tbody>\n",
       "</table>\n",
       "<p>5 rows × 66 columns</p>\n",
       "</div>"
      ],
      "text/plain": [
       "   week 1  week 2  week 3  week 4  week 5  week 6  week 7  week 8  week 9  \\\n",
       "0      78    63.0    49.0    33.0    23.0    15.0     7.0     5.0     1.0   \n",
       "1      15     8.0     6.0     5.0     2.0     3.0     2.0     2.0     1.0   \n",
       "2      71    48.0    43.0    31.0    20.0    13.0     7.0     6.0     4.0   \n",
       "3      41    23.0    18.0    14.0     2.0     1.0     1.0     1.0     1.0   \n",
       "4      57    47.0    45.0    29.0    23.0    18.0    11.0     9.0     9.0   \n",
       "\n",
       "   week 10       ...        week 57  week 58  week 59  week 60  week 61  \\\n",
       "0      1.0       ...            NaN      NaN      NaN      NaN      NaN   \n",
       "1      1.0       ...            NaN      NaN      NaN      NaN      NaN   \n",
       "2      4.0       ...            NaN      NaN      NaN      NaN      NaN   \n",
       "3      2.0       ...            NaN      NaN      NaN      NaN      NaN   \n",
       "4     11.0       ...            NaN      NaN      NaN      NaN      NaN   \n",
       "\n",
       "   week 62  week 63  week 64  week 65  number_1_weeks  \n",
       "0      NaN      NaN      NaN      NaN            11.0  \n",
       "1      NaN      NaN      NaN      NaN            10.0  \n",
       "2      NaN      NaN      NaN      NaN             4.0  \n",
       "3      NaN      NaN      NaN      NaN             4.0  \n",
       "4      NaN      NaN      NaN      NaN             4.0  \n",
       "\n",
       "[5 rows x 66 columns]"
      ]
     },
     "execution_count": 12,
     "metadata": {},
     "output_type": "execute_result"
    }
   ],
   "source": [
    "############# This little program finds the number of weeks a song has been #1 in Billboard charts #####\n",
    "for row in range(len(df)):\n",
    "    try:\n",
    "        df.ix[row, 'number_1_weeks'] = pd.value_counts(df.ix[row].values)[1]\n",
    "    except:\n",
    "        df.ix[row,'number_1_weeks'] =  0\n",
    "df.head()"
   ]
  },
  {
   "cell_type": "code",
   "execution_count": 9,
   "metadata": {
    "collapsed": false
   },
   "outputs": [
    {
     "data": {
      "text/html": [
       "<div>\n",
       "<table border=\"1\" class=\"dataframe\">\n",
       "  <thead>\n",
       "    <tr style=\"text-align: right;\">\n",
       "      <th></th>\n",
       "      <th>a</th>\n",
       "      <th>b</th>\n",
       "      <th>c</th>\n",
       "      <th>new_col</th>\n",
       "    </tr>\n",
       "  </thead>\n",
       "  <tbody>\n",
       "    <tr>\n",
       "      <th>0</th>\n",
       "      <td>78.0</td>\n",
       "      <td>15.0</td>\n",
       "      <td>115.0</td>\n",
       "      <td>0.0</td>\n",
       "    </tr>\n",
       "    <tr>\n",
       "      <th>1</th>\n",
       "      <td>63.0</td>\n",
       "      <td>8.0</td>\n",
       "      <td>28.0</td>\n",
       "      <td>0.0</td>\n",
       "    </tr>\n",
       "    <tr>\n",
       "      <th>2</th>\n",
       "      <td>49.0</td>\n",
       "      <td>6.0</td>\n",
       "      <td>16.0</td>\n",
       "      <td>0.0</td>\n",
       "    </tr>\n",
       "    <tr>\n",
       "      <th>3</th>\n",
       "      <td>33.0</td>\n",
       "      <td>5.0</td>\n",
       "      <td>12.0</td>\n",
       "      <td>0.0</td>\n",
       "    </tr>\n",
       "    <tr>\n",
       "      <th>4</th>\n",
       "      <td>23.0</td>\n",
       "      <td>2.0</td>\n",
       "      <td>8.0</td>\n",
       "      <td>0.0</td>\n",
       "    </tr>\n",
       "    <tr>\n",
       "      <th>5</th>\n",
       "      <td>15.0</td>\n",
       "      <td>3.0</td>\n",
       "      <td>5.0</td>\n",
       "      <td>0.0</td>\n",
       "    </tr>\n",
       "    <tr>\n",
       "      <th>6</th>\n",
       "      <td>7.0</td>\n",
       "      <td>2.0</td>\n",
       "      <td>2.0</td>\n",
       "      <td>0.0</td>\n",
       "    </tr>\n",
       "    <tr>\n",
       "      <th>7</th>\n",
       "      <td>5.0</td>\n",
       "      <td>2.0</td>\n",
       "      <td>2.0</td>\n",
       "      <td>0.0</td>\n",
       "    </tr>\n",
       "    <tr>\n",
       "      <th>8</th>\n",
       "      <td>2.0</td>\n",
       "      <td>1.0</td>\n",
       "      <td>1.0</td>\n",
       "      <td>2.0</td>\n",
       "    </tr>\n",
       "    <tr>\n",
       "      <th>9</th>\n",
       "      <td>1.0</td>\n",
       "      <td>1.0</td>\n",
       "      <td>1.0</td>\n",
       "      <td>3.0</td>\n",
       "    </tr>\n",
       "  </tbody>\n",
       "</table>\n",
       "</div>"
      ],
      "text/plain": [
       "      a     b      c  new_col\n",
       "0  78.0  15.0  115.0      0.0\n",
       "1  63.0   8.0   28.0      0.0\n",
       "2  49.0   6.0   16.0      0.0\n",
       "3  33.0   5.0   12.0      0.0\n",
       "4  23.0   2.0    8.0      0.0\n",
       "5  15.0   3.0    5.0      0.0\n",
       "6   7.0   2.0    2.0      0.0\n",
       "7   5.0   2.0    2.0      0.0\n",
       "8   2.0   1.0    1.0      2.0\n",
       "9   1.0   1.0    1.0      3.0"
      ]
     },
     "execution_count": 9,
     "metadata": {},
     "output_type": "execute_result"
    }
   ],
   "source": [
    "d=[78,63.0,49.0,33.0,23.0,15.0,7.0,5.0,2.0,1.0] \n",
    "e=[15,8.0,6.0,5.0,2.0,3.0,2.0,2.0,1.0,1.0]\n",
    "f=[115,28.0,16.0,12.0,8.0,5.0,2.0,2.0,1.0,1.0]\n",
    "dft = pd.DataFrame({'a':d,'b':e,'c':f})\n",
    "for row in range(len(dft)):\n",
    "    try:\n",
    "        dft.ix[row, 'new_col'] = pd.value_counts(dft.ix[row].values)[1]\n",
    "    except:\n",
    "        dft.ix[row,'new_col'] =  0\n",
    "dft"
   ]
  },
  {
   "cell_type": "code",
   "execution_count": 13,
   "metadata": {
    "collapsed": false
   },
   "outputs": [
    {
     "data": {
      "text/plain": [
       "0.0      1\n",
       "115.0    1\n",
       "15.0     1\n",
       "78.0     1\n",
       "dtype: int64"
      ]
     },
     "execution_count": 13,
     "metadata": {},
     "output_type": "execute_result"
    }
   ],
   "source": [
    "pd.value_counts(dft.ix[0].values)"
   ]
  },
  {
   "cell_type": "code",
   "execution_count": null,
   "metadata": {
    "collapsed": false
   },
   "outputs": [],
   "source": [
    "df['number_1_weeks'].head(2)"
   ]
  },
  {
   "cell_type": "code",
   "execution_count": null,
   "metadata": {
    "collapsed": false
   },
   "outputs": [],
   "source": [
    "music['number_1_weeks'] = df['number_1_weeks']\n",
    "music.head(2)"
   ]
  },
  {
   "cell_type": "code",
   "execution_count": null,
   "metadata": {
    "collapsed": false
   },
   "outputs": [],
   "source": [
    "music1 = music[:]\n",
    "subset = ['year',\n",
    " 'artist',\n",
    " 'track',\n",
    " 'length',\n",
    " 'genre',\n",
    " 'first_apperence',\n",
    " 'highest_data',\n",
    "'weeks_active',\n",
    " 'number_1_weeks']"
   ]
  },
  {
   "cell_type": "code",
   "execution_count": null,
   "metadata": {
    "collapsed": true
   },
   "outputs": [],
   "source": [
    "music1 = music[subset]"
   ]
  },
  {
   "cell_type": "code",
   "execution_count": null,
   "metadata": {
    "collapsed": false
   },
   "outputs": [],
   "source": [
    "music1.to_csv('../datasets/billboard_ram1.csv',index=False)"
   ]
  },
  {
   "cell_type": "markdown",
   "metadata": {},
   "source": [
    "##### Describe your data: check the value counts and descriptive statistics"
   ]
  },
  {
   "cell_type": "code",
   "execution_count": null,
   "metadata": {
    "collapsed": false
   },
   "outputs": [],
   "source": [
    "music.head()\n",
    "#not exactly the most useful\n"
   ]
  },
  {
   "cell_type": "code",
   "execution_count": null,
   "metadata": {
    "collapsed": false
   },
   "outputs": [],
   "source": [
    "# I wonder What musicians were on the board the most in 2000?\n",
    "music['artist'].value_counts().head(10)"
   ]
  },
  {
   "cell_type": "code",
   "execution_count": null,
   "metadata": {
    "collapsed": true
   },
   "outputs": [],
   "source": [
    "#I am old"
   ]
  },
  {
   "cell_type": "code",
   "execution_count": null,
   "metadata": {
    "collapsed": false
   },
   "outputs": [],
   "source": [
    "# Wow, sure looks like Country and HipHop dominate the chart.  Lets see what distribution of songs that make it to\n",
    "# the top 100 are\n",
    "music['genre'].value_counts()"
   ]
  },
  {
   "cell_type": "markdown",
   "metadata": {},
   "source": []
  },
  {
   "cell_type": "code",
   "execution_count": null,
   "metadata": {
    "collapsed": true
   },
   "outputs": [],
   "source": [
    "# Getting a dataframe that will only be used for a plot\n",
    "plot_frame = music[['genre','weeks_active']]\n"
   ]
  },
  {
   "cell_type": "markdown",
   "metadata": {},
   "source": [
    "Going to try to plot average length on top 100 by genre.\n"
   ]
  },
  {
   "cell_type": "code",
   "execution_count": null,
   "metadata": {
    "collapsed": false
   },
   "outputs": [],
   "source": [
    "# Stacking distribution of of songs lifes grouped by genre(color) \n",
    "import matplotlib.pyplot as plt\n",
    "import seaborn as sns\n",
    "\n",
    "genres = ['Rock','Country','Rap','R&B']\n",
    "\n",
    "\n",
    "for m_type in genres:\n",
    "    sub_df = plot_frame[plot_frame['genre']== m_type]\n",
    "    sns.distplot(sub_df['weeks_active'])\n",
    "plt.show()"
   ]
  },
  {
   "cell_type": "markdown",
   "metadata": {},
   "source": [
    "- Green = Country\n",
    "- Blue = Rock\n",
    "- Red = Rap\n",
    "- Purple = R&B\n",
    "\n"
   ]
  },
  {
   "cell_type": "markdown",
   "metadata": {},
   "source": [
    "##### Addressing* Validity of data"
   ]
  },
  {
   "cell_type": "code",
   "execution_count": null,
   "metadata": {
    "collapsed": false
   },
   "outputs": [],
   "source": [
    "# Making a DF copy where all the Nulls are filled with 0's\n",
    "music2 = music.fillna(value = 0)\n"
   ]
  },
  {
   "cell_type": "code",
   "execution_count": null,
   "metadata": {
    "collapsed": false
   },
   "outputs": [],
   "source": [
    "# Engineered column displaying a songs average weekly rating.\n",
    "music['avg_weekly_rating'] = music2[music2.columns[7:73]].sum(axis =1)/music2['weeks_active']"
   ]
  },
  {
   "cell_type": "code",
   "execution_count": null,
   "metadata": {
    "collapsed": false
   },
   "outputs": [],
   "source": [
    "music.head()"
   ]
  },
  {
   "cell_type": "code",
   "execution_count": null,
   "metadata": {
    "collapsed": false
   },
   "outputs": [],
   "source": [
    "# Before I continue. lets check out the average_weekly rating grouped by Genre\n",
    "music.groupby(['genre'])['avg_weekly_rating'].mean()"
   ]
  },
  {
   "cell_type": "code",
   "execution_count": null,
   "metadata": {
    "collapsed": false
   },
   "outputs": [],
   "source": [
    "#music['median_weekly_rating'] = \n",
    "music['median_weekly_rating'] = music[music.columns[7:73]].median(axis =1)\n"
   ]
  },
  {
   "cell_type": "code",
   "execution_count": null,
   "metadata": {
    "collapsed": false
   },
   "outputs": [],
   "source": [
    "# Plotting the weekly mean rating by weeks active.  Color is genre\n",
    "sns.lmplot(x = 'weeks_active',y ='avg_weekly_rating', hue = 'genre', data = music, fit_reg=False)"
   ]
  },
  {
   "cell_type": "code",
   "execution_count": null,
   "metadata": {
    "collapsed": false
   },
   "outputs": [],
   "source": [
    "# Plotting the median rating as well so we can see if the datas medians and means are vastly different.\n",
    "sns.lmplot(x='weeks_active', y='median_weekly_rating', hue = 'genre', data = music, fit_reg=False)"
   ]
  },
  {
   "cell_type": "markdown",
   "metadata": {},
   "source": [
    "##### Stakeholder Insights\n",
    "As clear from the visualizations, 20 weeks active seems to be where alot of songs hover.  A goal by a record label to have a song stay in the top 100 for more than 20 weeks would be beneficial as songs that maintain activity longer than 20 weeks on average recieve better ratings.  \n",
    "\n",
    "##### Yearly Insights\n",
    "Rock dominates those songs that maintain long lifes on the top 100 and coincidentally are also those with the best weekly ratings.\n",
    "\n",
    "##### idk\n",
    "While Rock music seems to have the most songs appear within the top 100, longest lifestyle and average weekly rating, no rock group appears in the top 10 most frequent artists.\n",
    "\n",
    "##### Data Limitations\n",
    "It would be nice to have additional years of information."
   ]
  },
  {
   "cell_type": "markdown",
   "metadata": {},
   "source": [
    "going to want a DF for this where\n",
    "\n",
    "DF is called the song name\n",
    "Column 1 = Week Number\n",
    "Column 2 = Chart Rating"
   ]
  },
  {
   "cell_type": "markdown",
   "metadata": {},
   "source": [
    "Calling the function below will return a chart of any songs life trend.  This is case sensitive so make sure your song is typed exactly as it appears in the dataframe.\n",
    "\n",
    "There is an example below"
   ]
  },
  {
   "cell_type": "code",
   "execution_count": null,
   "metadata": {
    "collapsed": true
   },
   "outputs": [],
   "source": [
    "def song_life(title):\n",
    "    #Grabbing the column i want to plot (this shit is stupid)\n",
    "    samp = music[music['track'] == title][music[music['track'] == title].columns[7:72]]\n",
    "    \n",
    "    #Dropping null values\n",
    "    samp.dropna(axis=1, inplace = True)\n",
    "    \n",
    "    #Transposing the matrix\n",
    "    samp_t = samp.transpose()\n",
    "    \n",
    "    #Reset index twice to get a collumn where week is listed as an int value for plotting\n",
    "    samp_t.reset_index(inplace = True)\n",
    "    samp_t.reset_index(inplace = True)\n",
    "    \n",
    "    #Renaming the columns because I\"M BATMAN!\n",
    "    samp_t.columns = ['Week','numbered_week','Rating']\n",
    "    \n",
    "    #Plotting dat shit#\n",
    "    plt.plot((samp_t['Week']+1),samp_t['Rating'])\n",
    "    plt.xlabel('Weeks in Top 100')\n",
    "    plt.ylabel('Weekly Rating')\n",
    "    plt.gca().invert_yaxis()\n",
    "\n"
   ]
  },
  {
   "cell_type": "code",
   "execution_count": null,
   "metadata": {
    "collapsed": false
   },
   "outputs": [],
   "source": [
    "song_life('Kryptonite')"
   ]
  },
  {
   "cell_type": "code",
   "execution_count": null,
   "metadata": {
    "collapsed": false
   },
   "outputs": [],
   "source": []
  },
  {
   "cell_type": "code",
   "execution_count": null,
   "metadata": {
    "collapsed": true
   },
   "outputs": [],
   "source": []
  },
  {
   "cell_type": "code",
   "execution_count": null,
   "metadata": {
    "collapsed": true
   },
   "outputs": [],
   "source": []
  }
 ],
 "metadata": {
  "anaconda-cloud": {},
  "kernelspec": {
   "display_name": "Python 2",
   "language": "python",
   "name": "python2"
  },
  "language_info": {
   "codemirror_mode": {
    "name": "ipython",
    "version": 2
   },
   "file_extension": ".py",
   "mimetype": "text/x-python",
   "name": "python",
   "nbconvert_exporter": "python",
   "pygments_lexer": "ipython2",
   "version": "2.7.13"
  }
 },
 "nbformat": 4,
 "nbformat_minor": 1
}
