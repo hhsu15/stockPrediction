{
 "cells": [
  {
   "cell_type": "markdown",
   "metadata": {},
   "source": [
    "<img src=\"http://imgur.com/1ZcRyrc.png\" style=\"float: left; margin: 20px; height: 55px\">\n",
    "\n",
    "# Train-test Split and Cross-Validation Lab\n",
    "\n",
    "_Authors: Joseph Nelson (DC), Kiefer Katovich (SF)_\n",
    "\n",
    "---\n",
    "\n",
    "## Review of train/test validation methods\n",
    "\n",
    "We've discussed overfitting, underfitting, and how to validate the \"generalizeability\" of your models by testing them on unseen data. \n",
    "\n",
    "In this lab you'll practice two related validation methods: \n",
    "1. **train/test split**\n",
    "2. **k-fold cross-validation**\n",
    "\n",
    "Train/test split and k-fold cross-validation both serve two useful purposes:\n",
    "- We prevent overfitting by not using all the data, and\n",
    "- We retain some remaining data to evaluate our model.\n",
    "\n",
    "In the case of cross-validation, the model fitting and evaluation is performed multiple times on different train/test splits of the data.\n",
    "\n",
    "Ultimately we can the training and testing validation framework to compare multiple models on the same dataset. This could be comparisons of two linear models, or of completely different models on the same data.\n"
   ]
  },
  {
   "cell_type": "markdown",
   "metadata": {},
   "source": [
    "## Instructions\n",
    "\n",
    "For your independent practice, fit **three different models** on the Boston housing data. For example, you could pick three different subsets of variables, one or more polynomial models, or any other model that you like. \n",
    "\n",
    "**Start with train/test split validation:**\n",
    "* Fix a testing/training split of the data\n",
    "* Train each of your models on the training data\n",
    "* Evaluate each of the models on the test data\n",
    "* Rank the models by how well they score on the testing data set.\n",
    "\n",
    "**Then try K-Fold cross-validation:**\n",
    "* Perform a k-fold cross validation and use the cross-validation scores to compare your models. Did this change your rankings?\n",
    "* Try a few different K-splits of the data for the same models.\n",
    "\n",
    "If you're interested, try a variety of response variables.  We start with **MEDV** (the `.target` attribute from the dataset load method)."
   ]
  },
  {
   "cell_type": "code",
   "execution_count": 81,
   "metadata": {},
   "outputs": [],
   "source": [
    "from matplotlib import pyplot as plt\n",
    "\n",
    "import numpy as np\n",
    "import pandas as pd\n",
    "from scipy import stats\n",
    "import seaborn as sns\n",
    "\n",
    "from sklearn.linear_model import LinearRegression\n",
    "from sklearn.model_selection import train_test_split\n",
    "\n",
    "%config InlineBackend.figure_format = 'retina'\n",
    "%matplotlib inline\n",
    "\n",
    "plt.style.use('fivethirtyeight')\n"
   ]
  },
  {
   "cell_type": "code",
   "execution_count": 82,
   "metadata": {},
   "outputs": [],
   "source": [
    "import pandas as pd\n",
    "import numpy as np\n",
    "from sklearn.datasets import load_boston\n",
    "boston = load_boston()\n"
   ]
  },
  {
   "cell_type": "code",
   "execution_count": 83,
   "metadata": {
    "collapsed": true
   },
   "outputs": [],
   "source": [
    "# A:\n",
    "X = pd.DataFrame(boston.data, columns=boston.feature_names)\n",
    "y = boston.target"
   ]
  },
  {
   "cell_type": "code",
   "execution_count": null,
   "metadata": {},
   "outputs": [],
   "source": []
  },
  {
   "cell_type": "markdown",
   "metadata": {},
   "source": [
    "### 1. Clean up any data problems\n",
    "\n",
    "Load the Boston housing data.  Fix any problems, if applicable."
   ]
  },
  {
   "cell_type": "code",
   "execution_count": 84,
   "metadata": {},
   "outputs": [
    {
     "data": {
      "text/plain": [
       "Index([u'CRIM', u'ZN', u'INDUS', u'CHAS', u'NOX', u'RM', u'AGE', u'DIS',\n",
       "       u'RAD', u'TAX', u'PTRATIO', u'B', u'LSTAT'],\n",
       "      dtype='object')"
      ]
     },
     "execution_count": 84,
     "metadata": {},
     "output_type": "execute_result"
    }
   ],
   "source": [
    "# A:\n",
    "X.columns"
   ]
  },
  {
   "cell_type": "markdown",
   "metadata": {},
   "source": [
    "### 2. Select 3-4 variables with your dataset to perform a 50/50 test train split on\n",
    "\n",
    "- Use sklearn.\n",
    "- Score and plot your predictions."
   ]
  },
  {
   "cell_type": "code",
   "execution_count": 8,
   "metadata": {},
   "outputs": [
    {
     "data": {
      "text/plain": [
       "Index([u'CRIM', u'ZN', u'INDUS', u'CHAS', u'NOX', u'RM', u'AGE', u'DIS',\n",
       "       u'RAD', u'TAX', u'PTRATIO', u'B', u'LSTAT'],\n",
       "      dtype='object')"
      ]
     },
     "execution_count": 8,
     "metadata": {},
     "output_type": "execute_result"
    }
   ],
   "source": [
    "# A:\n",
    "X.columns\n"
   ]
  },
  {
   "cell_type": "code",
   "execution_count": 37,
   "metadata": {},
   "outputs": [
    {
     "data": {
      "text/plain": [
       "0.66355757221887601"
      ]
     },
     "execution_count": 37,
     "metadata": {},
     "output_type": "execute_result"
    }
   ],
   "source": [
    "from sklearn.cross_validation import train_test_split\n",
    "\n",
    "labels = ['CRIM','RM','B','LSTAT']\n",
    "\n",
    "X_train, X_test, y_train, y_test = train_test_split(X[labels], y, train_size=0.5, random_state=8)\n",
    "from sklearn.linear_model import LinearRegression\n",
    "\n",
    "lr = LinearRegression()\n",
    "\n",
    "lr.fit(X_train, y_train)\n",
    "\n",
    "lr.score(X_test, y_test)\n"
   ]
  },
  {
   "cell_type": "code",
   "execution_count": 34,
   "metadata": {},
   "outputs": [
    {
     "data": {
      "text/plain": [
       "<seaborn.axisgrid.JointGrid at 0xe404ef0>"
      ]
     },
     "execution_count": 34,
     "metadata": {},
     "output_type": "execute_result"
    },
    {
     "data": {
      "image/png": "[encoded data removed]",
      "text/plain": [
       "<matplotlib.figure.Figure at 0xe404e48>"
      ]
     },
     "metadata": {
      "image/png": {
       "height": 416,
       "width": 413
      }
     },
     "output_type": "display_data"
    }
   ],
   "source": [
    "yhat = lr.predict(X_test)\n",
    "sns.jointplot(y_test, yhat)"
   ]
  },
  {
   "cell_type": "markdown",
   "metadata": {},
   "source": [
    "### 3. Try 70/30 and 90/10\n",
    "- Score and plot.  \n",
    "- How do your metrics change?"
   ]
  },
  {
   "cell_type": "code",
   "execution_count": 40,
   "metadata": {},
   "outputs": [
    {
     "data": {
      "text/plain": [
       "0.61618000609842993"
      ]
     },
     "execution_count": 40,
     "metadata": {},
     "output_type": "execute_result"
    }
   ],
   "source": [
    "# A:\n",
    "from sklearn.cross_validation import train_test_split\n",
    "\n",
    "labels = ['CRIM','RM','B','LSTAT']\n",
    "\n",
    "X_train, X_test, y_train, y_test = train_test_split(X[labels], y, train_size=0.7, random_state=8)\n",
    "from sklearn.linear_model import LinearRegression\n",
    "\n",
    "lr = LinearRegression()\n",
    "\n",
    "lr.fit(X_train, y_train)\n",
    "\n",
    "lr.score(X_test, y_test)"
   ]
  },
  {
   "cell_type": "code",
   "execution_count": 41,
   "metadata": {},
   "outputs": [
    {
     "data": {
      "text/plain": [
       "0.58392447563809857"
      ]
     },
     "execution_count": 41,
     "metadata": {},
     "output_type": "execute_result"
    }
   ],
   "source": [
    "from sklearn.cross_validation import train_test_split\n",
    "X_train, X_test, y_train, y_test = train_test_split(X[labels], y, train_size=0.9, random_state=8)\n",
    "\n",
    "from sklearn.linear_model import LinearRegression\n",
    "lr2 = LinearRegression()\n",
    "\n",
    "lr2.fit(X_train,y_train)\n",
    "\n",
    "lr2.score(X_test, y_test)"
   ]
  },
  {
   "cell_type": "markdown",
   "metadata": {},
   "source": [
    "### 4. Try K-Folds cross-validation with K between 5-10 for your regression. \n",
    "\n",
    "- What seems optimal? \n",
    "- How do your scores change?  \n",
    "- What the variance of scores like?\n",
    "- Try different folds to get a sense of how this impacts your score."
   ]
  },
  {
   "cell_type": "code",
   "execution_count": 85,
   "metadata": {},
   "outputs": [
    {
     "name": "stdout",
     "output_type": "stream",
     "text": [
      "------------------------------------\n",
      "\n",
      "K: 5\n",
      "Cross-validated scores: [ 0.64631693  0.70482771  0.44121527  0.08620083 -0.50525881]\n",
      "Mean CV R2: 0.274660385693\n",
      "Std CV R2: 0.446027804377\n",
      "Cross-Predicted R2: 0.517343172523\n",
      "------------------------------------\n",
      "\n",
      "K: 6\n",
      "Cross-validated scores: [ 0.60617609  0.70748062  0.52005295  0.6187581  -0.31575052 -0.22205816]\n",
      "Mean CV R2: 0.319109846991\n",
      "Std CV R2: 0.420181823716\n",
      "Cross-Predicted R2: 0.479865451485\n",
      "------------------------------------\n",
      "\n",
      "K: 7\n",
      "Cross-validated scores: [ 0.6551403   0.59539945  0.53563504  0.49472098  0.24503727 -0.64989835\n",
      "  0.11581191]\n",
      "Mean CV R2: 0.284549513906\n",
      "Std CV R2: 0.421630778862\n",
      "Cross-Predicted R2: 0.431468483359\n",
      "------------------------------------\n",
      "\n",
      "K: 8\n",
      "Cross-validated scores: [ 0.67247147  0.61771501  0.68493632  0.61008211  0.58758257 -0.28401756\n",
      " -1.07692607  0.03328161]\n",
      "Mean CV R2: 0.230640682757\n",
      "Std CV R2: 0.595437166493\n",
      "Cross-Predicted R2: 0.58058433287\n",
      "------------------------------------\n",
      "\n",
      "K: 9\n",
      "Cross-validated scores: [ 0.69100518  0.6025288   0.68881703  0.45761742  0.56596941  0.60141937\n",
      " -0.05866307 -0.84532542  0.08215394]\n",
      "Mean CV R2: 0.309502517444\n",
      "Std CV R2: 0.479476307932\n",
      "Cross-Predicted R2: 0.578658782682\n",
      "------------------------------------\n",
      "\n",
      "K: 10\n",
      "Cross-validated scores: [ 0.67432584  0.61859779 -0.92538157  0.49747799  0.64115103  0.50127088\n",
      " -0.22118889 -0.1021357  -1.53463597  0.2315533 ]\n",
      "Mean CV R2: 0.0381034696348\n",
      "Std CV R2: 0.711133114421\n",
      "Cross-Predicted R2: 0.53610223661\n"
     ]
    }
   ],
   "source": [
    "# A: \n",
    "# this is very useful! just copy this!!!!!!!\n",
    "\n",
    "\n",
    "from sklearn.cross_validation import cross_val_score, cross_val_predict\n",
    "from sklearn import metrics\n",
    "\n",
    "# iterate through folds 5-10\n",
    "for folds in range(5,11):\n",
    "    print '------------------------------------\\n'\n",
    "    print 'K:', folds\n",
    "    model = LinearRegression()\n",
    "    \n",
    "    # Perform cross-validation\n",
    "    scores = cross_val_score(model, X[labels], y, cv=folds)\n",
    "    print \"Cross-validated scores:\", scores\n",
    "    print \"Mean CV R2:\", np.mean(scores)\n",
    "    print 'Std CV R2:', np.std(scores)\n",
    "    \n",
    "    # Make cross-validated predictions\n",
    "    predictions = cross_val_predict(model, X[labels], y, cv=folds)\n",
    "    \n",
    "    \n",
    "    r2 = metrics.r2_score(y, predictions)\n",
    "    print \"Cross-Predicted R2:\", r2\n"
   ]
  },
  {
   "cell_type": "code",
   "execution_count": 66,
   "metadata": {},
   "outputs": [
    {
     "name": "stdout",
     "output_type": "stream",
     "text": [
      "~~~~ CROSS VALIDATION each fold ~~~~\n",
      "Model 1\n",
      "MSE: 21.565456707\n",
      "R2: 0.739282616363\n",
      "Model 2\n",
      "MSE: 21.565456707\n",
      "R2: 0.739282616363\n",
      "Model 3\n",
      "MSE: 21.565456707\n",
      "R2: 0.739282616363\n",
      "Model 4\n",
      "MSE: 21.565456707\n",
      "R2: 0.739282616363\n",
      "Model 5\n",
      "MSE: 21.565456707\n",
      "R2: 0.739282616363\n",
      "~~~~ SUMMARY OF CROSS VALIDATION ~~~~\n",
      "Mean of MSE for all folds: 21.565456707\n",
      "Mean of R2 for all folds: 0.739282616363\n"
     ]
    }
   ],
   "source": [
    "from sklearn import model_selection\n",
    "\n",
    "kf = model_selection.KFold(n_splits=5, shuffle=True)\n",
    "mse_values = []\n",
    "scores = []\n",
    "n= 0\n",
    "print \"~~~~ CROSS VALIDATION each fold ~~~~\"\n",
    "for i in kf.split(X, y):\n",
    "    lr = LinearRegression().fit(X.iloc[train_index], pd.Series(y).iloc[train_index])\n",
    "    mse_values.append(metrics.mean_squared_error(pd.Series(y).iloc[test_index], lr.predict(X.iloc[test_index])))\n",
    "    scores.append(lr.score(X, y))\n",
    "    n+=1\n",
    "    print 'Model', n\n",
    "    print 'MSE:', mse_values[n-1]\n",
    "    print 'R2:', scores[n-1]\n",
    "\n",
    "\n",
    "print \"~~~~ SUMMARY OF CROSS VALIDATION ~~~~\"\n",
    "print 'Mean of MSE for all folds:', np.mean(mse_values)\n",
    "print 'Mean of R2 for all folds:', np.mean(scores)"
   ]
  },
  {
   "cell_type": "code",
   "execution_count": 87,
   "metadata": {},
   "outputs": [
    {
     "name": "stdout",
     "output_type": "stream",
     "text": [
      "--------------THIS IS THE K-FOLD----------------------\n",
      "\n",
      "K: 5\n",
      "Cross-validated scores: [ 0.64631693  0.70482771  0.44121527  0.08620083 -0.50525881]\n",
      "Mean CV R2: 0.274660385693\n",
      "Std CV R2: 0.446027804377\n",
      "Crodd-validated predictions [ 29.59640755  26.39060907  33.10583026  32.84772617  32.19406453\n",
      "  28.71778646  22.42775786  19.26826268  10.15425693  19.53973896\n",
      "  19.45708515  21.93018702  19.83921399  24.54323354  23.90863667\n",
      "  23.84162346  25.32308659  20.85279676  18.94731819  21.60542206\n",
      "  14.90902439  21.28021325  19.28794924  16.98421622  19.65252785\n",
      "  16.96297087  19.80564791  18.7318275   24.44630662  25.70792519\n",
      "  14.51724135  22.0633393   11.30216173  16.94277906  16.50460903\n",
      "  23.67379677  21.99652599  23.80049134  23.52549497  30.0678522\n",
      "  33.55069897  30.50496221  26.96046422  26.32357261  24.33388426\n",
      "  22.12099594  20.31178481  18.72621839   8.60269445  18.19950411\n",
      "  21.58647781  24.68515586  29.10188427  24.72966088  20.4439403\n",
      "  32.99504154  28.1876611   31.34284645  26.30115594  23.9119332\n",
      "  20.66341294  20.82689742  27.97408328  27.83128064  30.34747213\n",
      "  28.37711532  22.62899763  24.32669092  19.99698764  23.95677772\n",
      "  27.65069801  23.47466004  26.70428495  26.24565862  27.02761291\n",
      "  25.69525996  23.77597649  24.23588728  23.46599867  23.7149493\n",
      "  30.1575681   28.47782457  27.22963968  26.03566452  25.94918498\n",
      "  28.90158797  22.19646276  25.30746392  31.40759716  31.63481765\n",
      "  26.51361347  26.82875913  27.04922341  27.07751539  24.69157209\n",
      "  28.43773635  23.7685485   37.3761557   36.49753421  33.00884434\n",
      "  27.69606425  29.00241288  21.40007113  21.55355134  22.30560335\n",
      "  18.50099882  17.21631283  21.08473745  23.82099139  20.77571112\n",
      "  22.07297129  26.15127524  18.94982695  19.3185138   23.73425511\n",
      "  18.80632891  22.51684611  22.7649687   18.7033275   19.50789424\n",
      "  19.72557025  20.31119046  18.06071912  13.29920771  17.87895006\n",
      "  19.98509522  10.99230072  17.321557    21.87266126  16.41523305\n",
      "  23.54444995  23.06903696  23.86221188  19.10675585  16.31290197\n",
      "  20.50205928  18.5334164   22.40178468  15.78816488  18.81040587\n",
      "  15.66387504   4.43628047  10.39625513  10.87747438   6.67568277\n",
      "  11.28668723  15.12626363   6.62960542   8.22217457  13.94482953\n",
      "  20.81676343  17.58886069  16.4172495   16.85094079  19.81549048\n",
      "  17.68258915  12.95562293  29.97967873  24.69006462  26.35154505\n",
      "  25.95010762  34.25873105  35.75440088  37.70094286  21.08950046\n",
      "  21.80642972  35.16113891  19.39671284  22.6876466   23.25383231\n",
      "  18.74348382  20.5547906   18.19888744  25.35855946  22.35790359\n",
      "  28.01212898  22.86005961  26.42189974  28.61560494  30.29038945\n",
      "  32.59341083  23.8522609   31.21637809  27.94971187  18.69730938\n",
      "  21.73366371  34.62118333  28.40292989  28.41152903  31.06594935\n",
      "  29.93895611  29.27488046  32.38382051  29.41115435  28.6906528\n",
      "  35.67615384  32.28637228  28.50115321  30.75943216  30.53708726\n",
      "  31.24244402  25.04176638  34.34987536  32.75050692  33.87760252\n",
      "  22.27759887  23.53635413  17.35522195  20.30406221  12.88408052\n",
      "  18.43367272  12.49988426  18.72030833  24.62109273   8.65803227\n",
      "  24.02722845  20.58050158  25.31015119  18.02978849  23.97497755\n",
      "  26.22617525  16.43005341  25.8393494   26.55124687  33.74030488\n",
      "  34.81275473  33.69228505  28.82895426  32.02871912  28.64151517\n",
      "  21.89380356  30.32536681  35.00149334  33.75171987  26.31992491\n",
      "  22.70189143  25.30950329  30.59350769  26.80065298  26.58547523\n",
      "  25.01984553  21.92882877  23.30963789  27.22484665  20.13396522\n",
      "  16.55514141  23.95791308  23.59647157  24.62252142  27.51418587\n",
      "  27.23916621  28.3838854   30.1037955   34.18709747  25.62585625\n",
      "  23.2425946   31.90868277  34.4958697   28.52865365  27.64131356\n",
      "  27.07782862  29.48751656  33.03683306  26.4046401   27.98473238\n",
      "  21.44693131  23.13937842  31.74065887  31.92706884  20.57699147\n",
      "  20.75452119  26.04602942  26.23657408  30.48083601  29.57669642\n",
      "  30.21677132  29.49973379  29.36269887  26.42078986  28.90404123\n",
      "  32.63654594  29.52245902  32.48502666  33.39849591  27.8638498\n",
      "  25.66379708  21.59613096  25.61163103  25.6491886   25.01985168\n",
      "  30.0218363   30.7608399   28.44666811  24.4500202   22.94084695\n",
      "  27.60182081  26.47124235  18.83918759  27.16731128  29.48834484\n",
      "  28.28065643  25.29474217  25.42361228  29.37783121  33.00131173\n",
      "  27.40109938  34.67036283  29.7942252   29.14147439  21.99412304\n",
      "  12.28034802  24.57630829  21.78476894  24.99507808  26.91987747\n",
      "  19.35632683  18.49721959  18.40920318  25.07066534  22.12941964\n",
      "  26.56920434  26.29044891  23.34912228  19.2014431   26.85585051\n",
      "  27.29758086  26.03432487  21.89265683  20.94272706  25.40959066\n",
      "  23.18696284  19.00266476  22.6287555   26.11510686  25.68614203\n",
      "  23.22069972  21.26553158  21.16650115  23.20510958  22.20082792\n",
      "  22.22491375  33.56801307  26.84170447  28.71155843  30.86349696\n",
      "  21.95473119  19.91596498  27.50226376  28.54517666  30.958599\n",
      "  27.50771967  27.92310426  22.00981376  29.68952366  20.00895084\n",
      "  22.91432778  20.53577992  23.94489069  22.4796994   21.89713824\n",
      "  25.57615787  21.77143418  16.70276215  18.10601465  44.93598762\n",
      "   3.08517092  11.07666956  -0.99146579  15.91009127  29.2227064\n",
      "  32.37969822  23.19554529  20.4519927    4.4418083   -3.03385463\n",
      "  30.6027492   21.49041713  24.14827786  19.47544975  19.08185385\n",
      "  23.82114771  22.00214714  13.41956622  13.00242647  -0.64742863\n",
      "   8.53771263   4.19987111   5.70939913   5.14987323  13.27695569\n",
      "  17.14501792  19.01421298   8.6491312   21.59127005  18.57637642\n",
      "  23.00833237  21.89398831  16.37254396   9.15478324  12.60959748\n",
      "  15.23605234  20.74093178  21.0435257   12.67781931   9.5913017\n",
      "   8.11149129   2.48141177  18.41139935  12.05947441  23.23055025\n",
      "  18.26007907  22.00844142   2.12256166  10.64702448  -2.66803965\n",
      "  16.42989508  20.96577901   9.08589867  12.27820394  22.49422244\n",
      "  22.33561162  19.76942103  17.9007702   18.24615891  17.57965004\n",
      "  15.52349578  19.62088416  20.18065803  19.19993892  19.153189\n",
      "  22.04039829  24.03737927  25.38098065  23.48979442  21.74233089\n",
      "  20.7435071   22.28345963  16.23206648  11.01270019  13.246749\n",
      "  13.68788162  19.92366607  20.47322166  20.73179617  14.70514413\n",
      "  20.61203592  20.99538259  20.38652072  19.15646306  20.69864503\n",
      "  25.29331838  22.9495405   20.75202844  27.8272064   24.24802812\n",
      "  23.45368863  19.68853353  20.13614343  21.5778397   20.38715859\n",
      "  24.42485182  22.63334394  22.26781403  25.42038402  21.83318232\n",
      "  19.23080646  20.46427419  17.21380852  17.03419191  17.39383607\n",
      "  20.40137021  22.49711626  23.16986477  27.97157228  14.59570396\n",
      "  16.84361841  21.24123996   9.87777318  19.20312962  21.47034175\n",
      "  23.43864899  28.20053832  30.54813031  20.79926266  20.23469786\n",
      "  24.21016792  20.58899476  21.05512594  15.34668645  12.46559369\n",
      "   7.74657314  18.78286519  21.03908828  19.90272782  20.5391219\n",
      "  16.96934902  13.41795063  19.44122047  21.46789611  17.51859479\n",
      "  20.83692686  26.78776641  24.00041986  31.18989679  29.62039652\n",
      "  24.00170636]\n",
      "Cross-Predicted R2: 0.517343172523\n"
     ]
    }
   ],
   "source": [
    "# here is the basic model \n",
    "\n",
    "from sklearn.cross_validation import cross_val_score, cross_val_predict\n",
    "from sklearn import metrics\n",
    "\n",
    "print '--------------THIS IS THE K-FOLD----------------------\\n'\n",
    "K = 5\n",
    "print 'K:', K\n",
    "model = LinearRegression()\n",
    "\n",
    "# Perform cross-validation\n",
    "scores = cross_val_score(model, X[labels], y, cv=K)\n",
    "print \"Cross-validated scores:\", scores\n",
    "print \"Mean CV R2:\", np.mean(scores)\n",
    "print 'Std CV R2:', np.std(scores)\n",
    "\n",
    "# Make cross-validated predictions\n",
    "predictions = cross_val_predict(model, X[labels], y, cv=K)\n",
    "print 'Crodd-validated predictions', predictions\n",
    "r2 = metrics.r2_score(y, predictions)\n",
    "print \"Cross-Predicted R2:\", r2"
   ]
  },
  {
   "cell_type": "code",
   "execution_count": 91,
   "metadata": {},
   "outputs": [
    {
     "data": {
      "text/plain": [
       "array([ 24. ,  21.6,  34.7,  33.4,  36.2,  28.7,  22.9,  27.1,  16.5,\n",
       "        18.9,  15. ,  18.9,  21.7,  20.4,  18.2,  19.9,  23.1,  17.5,\n",
       "        20.2,  18.2,  13.6,  19.6,  15.2,  14.5,  15.6,  13.9,  16.6,\n",
       "        14.8,  18.4,  21. ,  12.7,  14.5,  13.2,  13.1,  13.5,  18.9,\n",
       "        20. ,  21. ,  24.7,  30.8,  34.9,  26.6,  25.3,  24.7,  21.2,\n",
       "        19.3,  20. ,  16.6,  14.4,  19.4,  19.7,  20.5,  25. ,  23.4,\n",
       "        18.9,  35.4,  24.7,  31.6,  23.3,  19.6,  18.7,  16. ,  22.2,\n",
       "        25. ,  33. ,  23.5,  19.4,  22. ,  17.4,  20.9,  24.2,  21.7,\n",
       "        22.8,  23.4,  24.1,  21.4,  20. ,  20.8,  21.2,  20.3,  28. ,\n",
       "        23.9,  24.8,  22.9,  23.9,  26.6,  22.5,  22.2,  23.6,  28.7,\n",
       "        22.6,  22. ,  22.9,  25. ,  20.6,  28.4,  21.4,  38.7,  43.8,\n",
       "        33.2,  27.5,  26.5,  18.6,  19.3,  20.1,  19.5,  19.5,  20.4,\n",
       "        19.8,  19.4,  21.7,  22.8,  18.8,  18.7,  18.5,  18.3,  21.2,\n",
       "        19.2,  20.4,  19.3,  22. ,  20.3,  20.5,  17.3,  18.8,  21.4,\n",
       "        15.7,  16.2,  18. ,  14.3,  19.2,  19.6,  23. ,  18.4,  15.6,\n",
       "        18.1,  17.4,  17.1,  13.3,  17.8,  14. ,  14.4,  13.4,  15.6,\n",
       "        11.8,  13.8,  15.6,  14.6,  17.8,  15.4,  21.5,  19.6,  15.3,\n",
       "        19.4,  17. ,  15.6,  13.1,  41.3,  24.3,  23.3,  27. ,  50. ,\n",
       "        50. ,  50. ,  22.7,  25. ,  50. ,  23.8,  23.8,  22.3,  17.4,\n",
       "        19.1,  23.1,  23.6,  22.6,  29.4,  23.2,  24.6,  29.9,  37.2,\n",
       "        39.8,  36.2,  37.9,  32.5,  26.4,  29.6,  50. ,  32. ,  29.8,\n",
       "        34.9,  37. ,  30.5,  36.4,  31.1,  29.1,  50. ,  33.3,  30.3,\n",
       "        34.6,  34.9,  32.9,  24.1,  42.3,  48.5,  50. ,  22.6,  24.4,\n",
       "        22.5,  24.4,  20. ,  21.7,  19.3,  22.4,  28.1,  23.7,  25. ,\n",
       "        23.3,  28.7,  21.5,  23. ,  26.7,  21.7,  27.5,  30.1,  44.8,\n",
       "        50. ,  37.6,  31.6,  46.7,  31.5,  24.3,  31.7,  41.7,  48.3,\n",
       "        29. ,  24. ,  25.1,  31.5,  23.7,  23.3,  22. ,  20.1,  22.2,\n",
       "        23.7,  17.6,  18.5,  24.3,  20.5,  24.5,  26.2,  24.4,  24.8,\n",
       "        29.6,  42.8,  21.9,  20.9,  44. ,  50. ,  36. ,  30.1,  33.8,\n",
       "        43.1,  48.8,  31. ,  36.5,  22.8,  30.7,  50. ,  43.5,  20.7,\n",
       "        21.1,  25.2,  24.4,  35.2,  32.4,  32. ,  33.2,  33.1,  29.1,\n",
       "        35.1,  45.4,  35.4,  46. ,  50. ,  32.2,  22. ,  20.1,  23.2,\n",
       "        22.3,  24.8,  28.5,  37.3,  27.9,  23.9,  21.7,  28.6,  27.1,\n",
       "        20.3,  22.5,  29. ,  24.8,  22. ,  26.4,  33.1,  36.1,  28.4,\n",
       "        33.4,  28.2,  22.8,  20.3,  16.1,  22.1,  19.4,  21.6,  23.8,\n",
       "        16.2,  17.8,  19.8,  23.1,  21. ,  23.8,  23.1,  20.4,  18.5,\n",
       "        25. ,  24.6,  23. ,  22.2,  19.3,  22.6,  19.8,  17.1,  19.4,\n",
       "        22.2,  20.7,  21.1,  19.5,  18.5,  20.6,  19. ,  18.7,  32.7,\n",
       "        16.5,  23.9,  31.2,  17.5,  17.2,  23.1,  24.5,  26.6,  22.9,\n",
       "        24.1,  18.6,  30.1,  18.2,  20.6,  17.8,  21.7,  22.7,  22.6,\n",
       "        25. ,  19.9,  20.8,  16.8,  21.9,  27.5,  21.9,  23.1,  50. ,\n",
       "        50. ,  50. ,  50. ,  50. ,  13.8,  13.8,  15. ,  13.9,  13.3,\n",
       "        13.1,  10.2,  10.4,  10.9,  11.3,  12.3,   8.8,   7.2,  10.5,\n",
       "         7.4,  10.2,  11.5,  15.1,  23.2,   9.7,  13.8,  12.7,  13.1,\n",
       "        12.5,   8.5,   5. ,   6.3,   5.6,   7.2,  12.1,   8.3,   8.5,\n",
       "         5. ,  11.9,  27.9,  17.2,  27.5,  15. ,  17.2,  17.9,  16.3,\n",
       "         7. ,   7.2,   7.5,  10.4,   8.8,   8.4,  16.7,  14.2,  20.8,\n",
       "        13.4,  11.7,   8.3,  10.2,  10.9,  11. ,   9.5,  14.5,  14.1,\n",
       "        16.1,  14.3,  11.7,  13.4,   9.6,   8.7,   8.4,  12.8,  10.5,\n",
       "        17.1,  18.4,  15.4,  10.8,  11.8,  14.9,  12.6,  14.1,  13. ,\n",
       "        13.4,  15.2,  16.1,  17.8,  14.9,  14.1,  12.7,  13.5,  14.9,\n",
       "        20. ,  16.4,  17.7,  19.5,  20.2,  21.4,  19.9,  19. ,  19.1,\n",
       "        19.1,  20.1,  19.9,  19.6,  23.2,  29.8,  13.8,  13.3,  16.7,\n",
       "        12. ,  14.6,  21.4,  23. ,  23.7,  25. ,  21.8,  20.6,  21.2,\n",
       "        19.1,  20.6,  15.2,   7. ,   8.1,  13.6,  20.1,  21.8,  24.5,\n",
       "        23.1,  19.7,  18.3,  21.2,  17.5,  16.8,  22.4,  20.6,  23.9,\n",
       "        22. ,  11.9])"
      ]
     },
     "execution_count": 91,
     "metadata": {},
     "output_type": "execute_result"
    }
   ],
   "source": [
    "one_prediction = cross_val_predict(model, X[labels], y, cv=K)"
   ]
  },
  {
   "cell_type": "code",
   "execution_count": 100,
   "metadata": {},
   "outputs": [],
   "source": [
    "X[labels][1:2]\n",
    "test = [[0.022,5.21,300.0,5]]"
   ]
  },
  {
   "cell_type": "markdown",
   "metadata": {},
   "source": [
    "### 5. [Bonus] optimize the $R^2$ score\n",
    "\n",
    "Can you optimize your R^2 by selecting the best features and validating the model using either train/test split or K-Folds?\n",
    "\n",
    "Your code will need to iterate through the different combinations of predictors, cross-validate the current model parameterization, and determine which set of features performed best.\n",
    "\n",
    "The number of K-folds is up to you.\n",
    "\n",
    "> *Hint:* the `itertools` package is useful for combinations and permutations.\n"
   ]
  },
  {
   "cell_type": "code",
   "execution_count": 50,
   "metadata": {
    "collapsed": true
   },
   "outputs": [],
   "source": [
    "# A:\n",
    "from itertools import combinations\n",
    "combs = []\n",
    "for i in range(1, len(X.columns)+1):\n",
    "    for c in combinations(X.columns.tolist(), i):\n",
    "        combs.append(c)"
   ]
  },
  {
   "cell_type": "code",
   "execution_count": 51,
   "metadata": {},
   "outputs": [
    {
     "name": "stdout",
     "output_type": "stream",
     "text": [
      "0\n",
      "250\n",
      "500\n",
      "750\n",
      "1000\n",
      "1250\n",
      "1500\n",
      "1750\n",
      "2000\n",
      "2250\n",
      "2500\n",
      "2750\n",
      "3000\n",
      "3250\n",
      "3500\n",
      "3750\n",
      "4000\n",
      "4250\n",
      "4500\n",
      "4750\n",
      "5000\n",
      "5250\n",
      "5500\n",
      "5750\n",
      "6000\n",
      "6250\n",
      "6500\n",
      "6750\n",
      "7000\n",
      "7250\n",
      "7500\n",
      "7750\n",
      "8000\n"
     ]
    }
   ],
   "source": [
    "R2_results = {}\n",
    "linreg = LinearRegression()\n",
    "for i,c in enumerate(combs):\n",
    "    if (i % 250) == 0:\n",
    "        print i\n",
    "    subX = X[list(c)]\n",
    "    R2_results[c] = np.mean(cross_val_score(linreg, subX, y))"
   ]
  },
  {
   "cell_type": "markdown",
   "metadata": {},
   "source": [
    "### 5.1 Can you explain what could be wrong with this approach?"
   ]
  },
  {
   "cell_type": "code",
   "execution_count": 9,
   "metadata": {
    "collapsed": true
   },
   "outputs": [],
   "source": [
    "# A:"
   ]
  },
  {
   "cell_type": "markdown",
   "metadata": {},
   "source": [
    "### 6. [Bonus] Explore another target variable and practice `patsy` formulas\n",
    "\n",
    "Can you find another response variable, given a combination of predictors, that can be predicted accurately through the exploration of different predictors in this dataset?\n",
    "\n",
    "**Try out using patsy to construct your target and predictor matrices from formula strings.**\n",
    "\n",
    "> *Tip: Check out pairplots, coefficients, and pearson scores.*"
   ]
  },
  {
   "cell_type": "code",
   "execution_count": 73,
   "metadata": {},
   "outputs": [],
   "source": [
    "import patsy\n",
    "\n",
    "df = X.copy()\n",
    "\n",
    "# Add response to core DataFrame\n",
    "df['MEDV'] = y"
   ]
  },
  {
   "cell_type": "code",
   "execution_count": 74,
   "metadata": {
    "collapsed": true
   },
   "outputs": [],
   "source": [
    "# Easily change your variable predictors without reslicing your DataFrame\n",
    "y, X = patsy.dmatrices(\"LSTAT ~ AGE + RM + MEDV\", data=df, return_type=\"dataframe\")\n",
    "\n",
    "# \"unravel\" y\n",
    "y = y.values.ravel()\n",
    "\n",
    "X_train, X_test, y_train, y_test = train_test_split(X, y, train_size=.7)\n"
   ]
  },
  {
   "cell_type": "code",
   "execution_count": 76,
   "metadata": {},
   "outputs": [
    {
     "name": "stdout",
     "output_type": "stream",
     "text": [
      "R^2 Score:  0.66327514181\n"
     ]
    }
   ],
   "source": [
    "from sklearn import linear_model\n",
    "# Build a new model and calculate the score:\n",
    "lm = linear_model.LinearRegression()\n",
    "model = lm.fit(X_train, y_train)\n",
    "\n",
    "predictions = model.predict(X_test)\n",
    "print \"R^2 Score: \", metrics.r2_score(y_test, predictions)"
   ]
  },
  {
   "cell_type": "code",
   "execution_count": null,
   "metadata": {
    "collapsed": true
   },
   "outputs": [],
   "source": []
  }
 ],
 "metadata": {
  "anaconda-cloud": {},
  "kernelspec": {
   "display_name": "Python 2",
   "language": "python",
   "name": "python2"
  },
  "language_info": {
   "codemirror_mode": {
    "name": "ipython",
    "version": 2
   },
   "file_extension": ".py",
   "mimetype": "text/x-python",
   "name": "python",
   "nbconvert_exporter": "python",
   "pygments_lexer": "ipython2",
   "version": "2.7.13"
  }
 },
 "nbformat": 4,
 "nbformat_minor": 1
}
