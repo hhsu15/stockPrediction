{
 "cells": [
  {
   "cell_type": "markdown",
   "metadata": {},
   "source": [
    "<img src=\"http://imgur.com/1ZcRyrc.png\" style=\"float: left; margin: 20px; height: 55px\">\n",
    "\n",
    "# Predicting \"Greenness\" Of Content\n",
    "\n",
    "_Authors: Joseph Nelson (DC), Kiefer Katovich (SF)_\n",
    "\n",
    "---\n",
    "\n",
    "\n",
    "This dataset comes from [stumbleupon](https://www.stumbleupon.com/), a web page recommender and was made available [here](https://www.kaggle.com/c/stumbleupon/download/train.tsv)\n",
    "\n",
    "A description of the columns is below\n",
    "\n",
    "FieldName|Type|Description\n",
    "---------|----|-----------\n",
    "url|string|Url of the webpage to be classified\n",
    "urlid|integer| StumbleUpon's unique identifier for each url\n",
    "boilerplate|json|Boilerplate text\n",
    "alchemy_category|string|Alchemy category (per the publicly available Alchemy API found at www.alchemyapi.com)\n",
    "alchemy_category_score|double|Alchemy category score (per the publicly available Alchemy API found at www.alchemyapi.com)\n",
    "avglinksize| double|Average number of words in each link\n",
    "commonLinkRatio_1|double|# of links sharing at least 1 word with 1 other links / # of links\n",
    "commonLinkRatio_2|double|# of links sharing at least 1 word with 2 other links / # of links\n",
    "commonLinkRatio_3|double|# of links sharing at least 1 word with 3 other links / # of links\n",
    "commonLinkRatio_4|double|# of links sharing at least 1 word with 4 other links / # of links\n",
    "compression_ratio|double|Compression achieved on this page via gzip (measure of redundancy)\n",
    "embed_ratio|double|Count of number of <embed> usage\n",
    "frameBased|integer (0 or 1)|A page is frame-based (1) if it has no body markup but have a frameset markup\n",
    "frameTagRatio|double|Ratio of iframe markups over total number of markups\n",
    "hasDomainLink|integer (0 or 1)|True (1) if it contains an <a> with an url with domain\n",
    "html_ratio|double|Ratio of tags vs text in the page\n",
    "image_ratio|double|Ratio of <img> tags vs text in the page\n",
    "is_news|integer (0 or 1) | True (1) if StumbleUpon's news classifier determines that this webpage is news\n",
    "lengthyLinkDomain| integer (0 or 1)|True (1) if at least 3 <a> 's text contains more than 30 alphanumeric characters\n",
    "linkwordscore|double|Percentage of words on the page that are in hyperlink's text\n",
    "news_front_page| integer (0 or 1)|True (1) if StumbleUpon's news classifier determines that this webpage is front-page news\n",
    "non_markup_alphanum_characters|integer| Page's text's number of alphanumeric characters\n",
    "numberOfLinks|integer Number of <a>|markups\n",
    "numwords_in_url| double|Number of words in url\n",
    "parametrizedLinkRatio|double|A link is parametrized if it's url contains parameters or has an attached onClick event\n",
    "spelling_errors_ratio|double|Ratio of words not found in wiki (considered to be a spelling mistake)\n",
    "label|integer (0 or 1)|User-determined label. Either evergreen (1) or non-evergreen (0); available for train.tsv only"
   ]
  },
  {
   "cell_type": "code",
   "execution_count": 45,
   "metadata": {
    "collapsed": true
   },
   "outputs": [],
   "source": [
    "import pandas as pd\n",
    "import numpy as np\n",
    "import seaborn as sns\n",
    "import matplotlib.pyplot as plt\n",
    "import json\n",
    "%matplotlib inline\n",
    "\n",
    "# set max printout options for pandas:\n",
    "pd.options.display.max_columns = 50\n",
    "pd.options.display.max_colwidth = 300"
   ]
  },
  {
   "cell_type": "markdown",
   "metadata": {},
   "source": [
    "### 1. Load the data\n",
    "- Note it is a `.tsv` file and has a tab separator instead of comma.\n",
    "- Clean the `is_news` column.\n",
    "- Make two new columns, `title` and `body`, from the `boilerplate` column.\n",
    "\n",
    "> **Note:** The `boilerplate` column is in json dictionary format. You can use the `json.loads()` function from the `json` module to convert this into a python dictionary."
   ]
  },
  {
   "cell_type": "code",
   "execution_count": 46,
   "metadata": {
    "collapsed": true
   },
   "outputs": [],
   "source": [
    "evergreen_tsv = '../data/evergreen_sites.tsv'"
   ]
  },
  {
   "cell_type": "code",
   "execution_count": 28,
   "metadata": {
    "collapsed": true
   },
   "outputs": [],
   "source": [
    "# A\n",
    "data = pd.read_csv(evergreen_tsv, sep='\\t', na_values={'is_news' : '?'}).fillna(0)\n",
    "\n",
    "# Extract the title and body from the boilerplate JSON text\n",
    "data['title'] = data.boilerplate.map(lambda x: json.loads(x).get('title', ''))\n",
    "data['body'] = data.boilerplate.map(lambda x: json.loads(x).get('body', ''))"
   ]
  },
  {
   "cell_type": "code",
   "execution_count": 36,
   "metadata": {},
   "outputs": [
    {
     "data": {
      "text/plain": [
       "u'IBM Sees Holographic Calls Air Breathing Batteries ibm sees holographic calls, air-breathing batteries'"
      ]
     },
     "execution_count": 36,
     "metadata": {},
     "output_type": "execute_result"
    }
   ],
   "source": [
    "#by the way this is how it normally works\n",
    "json.loads(data.boilerplate[0])['title']"
   ]
  },
  {
   "cell_type": "code",
   "execution_count": null,
   "metadata": {
    "collapsed": true
   },
   "outputs": [],
   "source": []
  },
  {
   "cell_type": "markdown",
   "metadata": {},
   "source": [
    "### 2. What are 'evergreen' sites?\n",
    "- These are websites that always relevant like recipes or reviews (as opposed to current events).\n",
    "- Stored as a binary indicator in the `label` column.\n",
    "- Look at some examples."
   ]
  },
  {
   "cell_type": "code",
   "execution_count": 32,
   "metadata": {},
   "outputs": [
    {
     "data": {
      "text/html": [
       "<div>\n",
       "<style>\n",
       "    .dataframe thead tr:only-child th {\n",
       "        text-align: right;\n",
       "    }\n",
       "\n",
       "    .dataframe thead th {\n",
       "        text-align: left;\n",
       "    }\n",
       "\n",
       "    .dataframe tbody tr th {\n",
       "        vertical-align: top;\n",
       "    }\n",
       "</style>\n",
       "<table border=\"1\" class=\"dataframe\">\n",
       "  <thead>\n",
       "    <tr style=\"text-align: right;\">\n",
       "      <th></th>\n",
       "      <th>title</th>\n",
       "      <th>label</th>\n",
       "    </tr>\n",
       "  </thead>\n",
       "  <tbody>\n",
       "    <tr>\n",
       "      <th>0</th>\n",
       "      <td>IBM Sees Holographic Calls Air Breathing Batteries ibm sees holographic calls, air-breathing batteries</td>\n",
       "      <td>0</td>\n",
       "    </tr>\n",
       "    <tr>\n",
       "      <th>1</th>\n",
       "      <td>The Fully Electronic Futuristic Starting Gun That Eliminates Advantages in Races the fully electronic, futuristic starting gun that eliminates advantages in races the fully electronic, futuristic starting gun that eliminates advantages in races</td>\n",
       "      <td>1</td>\n",
       "    </tr>\n",
       "    <tr>\n",
       "      <th>2</th>\n",
       "      <td>Fruits that Fight the Flu fruits that fight the flu | cold &amp; flu | men's health</td>\n",
       "      <td>1</td>\n",
       "    </tr>\n",
       "    <tr>\n",
       "      <th>3</th>\n",
       "      <td>10 Foolproof Tips for Better Sleep</td>\n",
       "      <td>1</td>\n",
       "    </tr>\n",
       "    <tr>\n",
       "      <th>4</th>\n",
       "      <td>The 50 Coolest Jerseys You Didn t Know Existed coolest jerseys you haven't seen</td>\n",
       "      <td>0</td>\n",
       "    </tr>\n",
       "  </tbody>\n",
       "</table>\n",
       "</div>"
      ],
      "text/plain": [
       "                                                                                                                                                                                                                                                  title  \\\n",
       "0                                                                                                                                                IBM Sees Holographic Calls Air Breathing Batteries ibm sees holographic calls, air-breathing batteries   \n",
       "1  The Fully Electronic Futuristic Starting Gun That Eliminates Advantages in Races the fully electronic, futuristic starting gun that eliminates advantages in races the fully electronic, futuristic starting gun that eliminates advantages in races   \n",
       "2                                                                                                                                                                       Fruits that Fight the Flu fruits that fight the flu | cold & flu | men's health   \n",
       "3                                                                                                                                                                                                                   10 Foolproof Tips for Better Sleep    \n",
       "4                                                                                                                                                                       The 50 Coolest Jerseys You Didn t Know Existed coolest jerseys you haven't seen   \n",
       "\n",
       "   label  \n",
       "0      0  \n",
       "1      1  \n",
       "2      1  \n",
       "3      1  \n",
       "4      0  "
      ]
     },
     "execution_count": 32,
     "metadata": {},
     "output_type": "execute_result"
    }
   ],
   "source": [
    "# A:\n",
    "data[['title', 'label']].head()"
   ]
  },
  {
   "cell_type": "markdown",
   "metadata": {},
   "source": [
    "### 3. Does being a news site affect green-ness?\n",
    "\n",
    "**3.A Investigate with plots/EDA.**"
   ]
  },
  {
   "cell_type": "code",
   "execution_count": 37,
   "metadata": {},
   "outputs": [
    {
     "name": "stdout",
     "output_type": "stream",
     "text": [
      "            label\n",
      "is_news          \n",
      "0.0      0.507562\n",
      "1.0      0.516916\n"
     ]
    },
    {
     "data": {
      "text/plain": [
       "<seaborn.axisgrid.FacetGrid at 0xbd9d550>"
      ]
     },
     "execution_count": 37,
     "metadata": {},
     "output_type": "execute_result"
    },
    {
     "data": {
      "image/png": "[encoded data removed]",
      "text/plain": [
       "<matplotlib.figure.Figure at 0xf0972e8>"
      ]
     },
     "metadata": {},
     "output_type": "display_data"
    }
   ],
   "source": [
    "# A: use groupby to calculate news vs non news\n",
    "print(data.groupby('is_news')[['label']].mean())\n",
    "sns.factorplot(x='is_news', y='label', data=data, kind='bar')\n"
   ]
  },
  {
   "cell_type": "code",
   "execution_count": 41,
   "metadata": {},
   "outputs": [
    {
     "data": {
      "text/html": [
       "<div>\n",
       "<style>\n",
       "    .dataframe thead tr:only-child th {\n",
       "        text-align: right;\n",
       "    }\n",
       "\n",
       "    .dataframe thead th {\n",
       "        text-align: left;\n",
       "    }\n",
       "\n",
       "    .dataframe tbody tr th {\n",
       "        vertical-align: top;\n",
       "    }\n",
       "</style>\n",
       "<table border=\"1\" class=\"dataframe\">\n",
       "  <thead>\n",
       "    <tr style=\"text-align: right;\">\n",
       "      <th></th>\n",
       "      <th>urlid</th>\n",
       "      <th>avglinksize</th>\n",
       "      <th>commonlinkratio_1</th>\n",
       "      <th>commonlinkratio_2</th>\n",
       "      <th>commonlinkratio_3</th>\n",
       "      <th>commonlinkratio_4</th>\n",
       "      <th>compression_ratio</th>\n",
       "      <th>embed_ratio</th>\n",
       "      <th>framebased</th>\n",
       "      <th>frameTagRatio</th>\n",
       "      <th>hasDomainLink</th>\n",
       "      <th>html_ratio</th>\n",
       "      <th>image_ratio</th>\n",
       "      <th>lengthyLinkDomain</th>\n",
       "      <th>linkwordscore</th>\n",
       "      <th>non_markup_alphanum_characters</th>\n",
       "      <th>numberOfLinks</th>\n",
       "      <th>numwords_in_url</th>\n",
       "      <th>parametrizedLinkRatio</th>\n",
       "      <th>spelling_errors_ratio</th>\n",
       "      <th>label</th>\n",
       "    </tr>\n",
       "    <tr>\n",
       "      <th>is_news</th>\n",
       "      <th></th>\n",
       "      <th></th>\n",
       "      <th></th>\n",
       "      <th></th>\n",
       "      <th></th>\n",
       "      <th></th>\n",
       "      <th></th>\n",
       "      <th></th>\n",
       "      <th></th>\n",
       "      <th></th>\n",
       "      <th></th>\n",
       "      <th></th>\n",
       "      <th></th>\n",
       "      <th></th>\n",
       "      <th></th>\n",
       "      <th></th>\n",
       "      <th></th>\n",
       "      <th></th>\n",
       "      <th></th>\n",
       "      <th></th>\n",
       "      <th></th>\n",
       "    </tr>\n",
       "  </thead>\n",
       "  <tbody>\n",
       "    <tr>\n",
       "      <th>0.0</th>\n",
       "      <td>5241.115723</td>\n",
       "      <td>3.459981</td>\n",
       "      <td>0.447144</td>\n",
       "      <td>0.199897</td>\n",
       "      <td>0.082036</td>\n",
       "      <td>0.038884</td>\n",
       "      <td>3.141887</td>\n",
       "      <td>-0.136132</td>\n",
       "      <td>0.0</td>\n",
       "      <td>0.054285</td>\n",
       "      <td>0.025325</td>\n",
       "      <td>0.236477</td>\n",
       "      <td>0.394995</td>\n",
       "      <td>0.570172</td>\n",
       "      <td>30.406261</td>\n",
       "      <td>5360.385860</td>\n",
       "      <td>166.088287</td>\n",
       "      <td>4.480478</td>\n",
       "      <td>0.187178</td>\n",
       "      <td>0.105943</td>\n",
       "      <td>0.507562</td>\n",
       "    </tr>\n",
       "    <tr>\n",
       "      <th>1.0</th>\n",
       "      <td>5346.044376</td>\n",
       "      <td>2.325781</td>\n",
       "      <td>0.481400</td>\n",
       "      <td>0.222938</td>\n",
       "      <td>0.098324</td>\n",
       "      <td>0.055744</td>\n",
       "      <td>1.701253</td>\n",
       "      <td>-0.083526</td>\n",
       "      <td>0.0</td>\n",
       "      <td>0.057758</td>\n",
       "      <td>0.018673</td>\n",
       "      <td>0.232093</td>\n",
       "      <td>0.201208</td>\n",
       "      <td>0.716608</td>\n",
       "      <td>29.871485</td>\n",
       "      <td>5939.074473</td>\n",
       "      <td>186.665422</td>\n",
       "      <td>5.260545</td>\n",
       "      <td>0.163924</td>\n",
       "      <td>0.098271</td>\n",
       "      <td>0.516916</td>\n",
       "    </tr>\n",
       "  </tbody>\n",
       "</table>\n",
       "</div>"
      ],
      "text/plain": [
       "               urlid  avglinksize  commonlinkratio_1  commonlinkratio_2  \\\n",
       "is_news                                                                   \n",
       "0.0      5241.115723     3.459981           0.447144           0.199897   \n",
       "1.0      5346.044376     2.325781           0.481400           0.222938   \n",
       "\n",
       "         commonlinkratio_3  commonlinkratio_4  compression_ratio  embed_ratio  \\\n",
       "is_news                                                                         \n",
       "0.0               0.082036           0.038884           3.141887    -0.136132   \n",
       "1.0               0.098324           0.055744           1.701253    -0.083526   \n",
       "\n",
       "         framebased  frameTagRatio  hasDomainLink  html_ratio  image_ratio  \\\n",
       "is_news                                                                      \n",
       "0.0             0.0       0.054285       0.025325    0.236477     0.394995   \n",
       "1.0             0.0       0.057758       0.018673    0.232093     0.201208   \n",
       "\n",
       "         lengthyLinkDomain  linkwordscore  non_markup_alphanum_characters  \\\n",
       "is_news                                                                     \n",
       "0.0               0.570172      30.406261                     5360.385860   \n",
       "1.0               0.716608      29.871485                     5939.074473   \n",
       "\n",
       "         numberOfLinks  numwords_in_url  parametrizedLinkRatio  \\\n",
       "is_news                                                          \n",
       "0.0         166.088287         4.480478               0.187178   \n",
       "1.0         186.665422         5.260545               0.163924   \n",
       "\n",
       "         spelling_errors_ratio     label  \n",
       "is_news                                   \n",
       "0.0                   0.105943  0.507562  \n",
       "1.0                   0.098271  0.516916  "
      ]
     },
     "execution_count": 41,
     "metadata": {},
     "output_type": "execute_result"
    }
   ],
   "source": [
    "data.groupby('is_news').mean()"
   ]
  },
  {
   "cell_type": "markdown",
   "metadata": {},
   "source": [
    "**3.B Test the hypothesis with a logistic regression using statsmodels.**\n",
    "\n",
    "> **Hint:** The `sm.logit` function from `statsmodels.formula.api` will perform a logistic regression using a formula string."
   ]
  },
  {
   "cell_type": "code",
   "execution_count": 42,
   "metadata": {
    "collapsed": true
   },
   "outputs": [],
   "source": [
    "import statsmodels.formula.api as sm"
   ]
  },
  {
   "cell_type": "code",
   "execution_count": 43,
   "metadata": {},
   "outputs": [
    {
     "name": "stdout",
     "output_type": "stream",
     "text": [
      "Optimization terminated successfully.\n",
      "         Current function value: 0.692751\n",
      "         Iterations 3\n"
     ]
    },
    {
     "data": {
      "text/html": [
       "<table class=\"simpletable\">\n",
       "<caption>Logit Regression Results</caption>\n",
       "<tr>\n",
       "  <th>Dep. Variable:</th>       <td>label</td>      <th>  No. Observations:  </th>  <td>  7395</td>  \n",
       "</tr>\n",
       "<tr>\n",
       "  <th>Model:</th>               <td>Logit</td>      <th>  Df Residuals:      </th>  <td>  7393</td>  \n",
       "</tr>\n",
       "<tr>\n",
       "  <th>Method:</th>               <td>MLE</td>       <th>  Df Model:          </th>  <td>     1</td>  \n",
       "</tr>\n",
       "<tr>\n",
       "  <th>Date:</th>          <td>Wed, 01 Nov 2017</td> <th>  Pseudo R-squ.:     </th> <td>5.980e-05</td>\n",
       "</tr>\n",
       "<tr>\n",
       "  <th>Time:</th>              <td>21:43:29</td>     <th>  Log-Likelihood:    </th> <td> -5122.9</td> \n",
       "</tr>\n",
       "<tr>\n",
       "  <th>converged:</th>           <td>True</td>       <th>  LL-Null:           </th> <td> -5123.2</td> \n",
       "</tr>\n",
       "<tr>\n",
       "  <th> </th>                      <td> </td>        <th>  LLR p-value:       </th>  <td>0.4337</td>  \n",
       "</tr>\n",
       "</table>\n",
       "<table class=\"simpletable\">\n",
       "<tr>\n",
       "      <td></td>         <th>coef</th>     <th>std err</th>      <th>z</th>      <th>P>|z|</th>  <th>[0.025</th>    <th>0.975]</th>  \n",
       "</tr>\n",
       "<tr>\n",
       "  <th>Intercept</th> <td>    0.0303</td> <td>    0.038</td> <td>    0.806</td> <td> 0.420</td> <td>   -0.043</td> <td>    0.104</td>\n",
       "</tr>\n",
       "<tr>\n",
       "  <th>is_news</th>   <td>    0.0374</td> <td>    0.048</td> <td>    0.783</td> <td> 0.434</td> <td>   -0.056</td> <td>    0.131</td>\n",
       "</tr>\n",
       "</table>"
      ],
      "text/plain": [
       "<class 'statsmodels.iolib.summary.Summary'>\n",
       "\"\"\"\n",
       "                           Logit Regression Results                           \n",
       "==============================================================================\n",
       "Dep. Variable:                  label   No. Observations:                 7395\n",
       "Model:                          Logit   Df Residuals:                     7393\n",
       "Method:                           MLE   Df Model:                            1\n",
       "Date:                Wed, 01 Nov 2017   Pseudo R-squ.:               5.980e-05\n",
       "Time:                        21:43:29   Log-Likelihood:                -5122.9\n",
       "converged:                       True   LL-Null:                       -5123.2\n",
       "                                        LLR p-value:                    0.4337\n",
       "==============================================================================\n",
       "                 coef    std err          z      P>|z|      [0.025      0.975]\n",
       "------------------------------------------------------------------------------\n",
       "Intercept      0.0303      0.038      0.806      0.420      -0.043       0.104\n",
       "is_news        0.0374      0.048      0.783      0.434      -0.056       0.131\n",
       "==============================================================================\n",
       "\"\"\""
      ]
     },
     "execution_count": 43,
     "metadata": {},
     "output_type": "execute_result"
    }
   ],
   "source": [
    "# A:\n",
    "news_data = data[['label','is_news']]\n",
    "\n",
    "news_model = sm.logit(\"label ~ is_news\", data=news_data).fit()\n",
    "news_model.summary()"
   ]
  },
  {
   "cell_type": "code",
   "execution_count": null,
   "metadata": {
    "collapsed": true
   },
   "outputs": [],
   "source": [
    "from sklearn.linear_model import LogisticRegression\n",
    "\n",
    "logreg = LogisticRegression()\n",
    "\n",
    "feature_cols = ['is_news']\n",
    "X = glass[feature_cols]\n",
    "y = glass.household\n",
    "\n",
    "logreg.fit(X,y)\n",
    "pred = logreg.predict(X)"
   ]
  },
  {
   "cell_type": "markdown",
   "metadata": {},
   "source": [
    "**3.C Interpret the results of your model.**"
   ]
  },
  {
   "cell_type": "code",
   "execution_count": 8,
   "metadata": {
    "collapsed": true
   },
   "outputs": [],
   "source": [
    "# A:"
   ]
  },
  {
   "cell_type": "markdown",
   "metadata": {},
   "source": [
    "### 4. Does the website category affect green-ness?\n",
    "\n",
    "**4.A Investigate with plots/EDA.**"
   ]
  },
  {
   "cell_type": "code",
   "execution_count": 9,
   "metadata": {
    "collapsed": true
   },
   "outputs": [],
   "source": [
    "# A:"
   ]
  },
  {
   "cell_type": "markdown",
   "metadata": {},
   "source": [
    "**4.B Test the hypothesis with a logistic regression.**"
   ]
  },
  {
   "cell_type": "code",
   "execution_count": 10,
   "metadata": {
    "collapsed": true
   },
   "outputs": [],
   "source": [
    "# A:"
   ]
  },
  {
   "cell_type": "markdown",
   "metadata": {},
   "source": [
    "**4.C Interpret the model results.**"
   ]
  },
  {
   "cell_type": "code",
   "execution_count": 11,
   "metadata": {
    "collapsed": true
   },
   "outputs": [],
   "source": [
    "# A:"
   ]
  },
  {
   "cell_type": "markdown",
   "metadata": {},
   "source": [
    "### 5. Does the image ratio affect green-ness?\n",
    "\n",
    "**5.A Investigate with plots/EDA.**"
   ]
  },
  {
   "cell_type": "code",
   "execution_count": 12,
   "metadata": {
    "collapsed": true
   },
   "outputs": [],
   "source": [
    "# A:"
   ]
  },
  {
   "cell_type": "markdown",
   "metadata": {},
   "source": [
    "**5.B Test the hypothesis using a logistic regression.**\n",
    "\n",
    "> **Note**: It is worth thinking about how to best represent this variable. It may not be wise to input the image ratio as-is."
   ]
  },
  {
   "cell_type": "code",
   "execution_count": 13,
   "metadata": {
    "collapsed": true
   },
   "outputs": [],
   "source": [
    "# A:"
   ]
  },
  {
   "cell_type": "markdown",
   "metadata": {},
   "source": [
    "**5.C Interpret the model.**"
   ]
  },
  {
   "cell_type": "code",
   "execution_count": 14,
   "metadata": {
    "collapsed": true
   },
   "outputs": [],
   "source": [
    "# A:"
   ]
  },
  {
   "cell_type": "markdown",
   "metadata": {},
   "source": [
    "### 6. Fit a logistic regression with multiple predictors.\n",
    "- The choice of predictors is up to you. Test features you think may be valuable to predict evergreen status.\n",
    "- Do any EDA you may need.\n",
    "- Interpret the coefficients of the model.\n",
    "\n",
    "> **Tip:** [This pdf is very useful for an overview of interpreting logistic regression coefficients.](https://www.unm.edu/~schrader/biostat/bio2/Spr06/lec11.pdf)"
   ]
  },
  {
   "cell_type": "code",
   "execution_count": 44,
   "metadata": {},
   "outputs": [
    {
     "data": {
      "text/html": [
       "<div>\n",
       "<style>\n",
       "    .dataframe thead tr:only-child th {\n",
       "        text-align: right;\n",
       "    }\n",
       "\n",
       "    .dataframe thead th {\n",
       "        text-align: left;\n",
       "    }\n",
       "\n",
       "    .dataframe tbody tr th {\n",
       "        vertical-align: top;\n",
       "    }\n",
       "</style>\n",
       "<table border=\"1\" class=\"dataframe\">\n",
       "  <thead>\n",
       "    <tr style=\"text-align: right;\">\n",
       "      <th></th>\n",
       "      <th>url</th>\n",
       "      <th>urlid</th>\n",
       "      <th>boilerplate</th>\n",
       "      <th>alchemy_category</th>\n",
       "      <th>alchemy_category_score</th>\n",
       "      <th>avglinksize</th>\n",
       "      <th>commonlinkratio_1</th>\n",
       "      <th>commonlinkratio_2</th>\n",
       "      <th>commonlinkratio_3</th>\n",
       "      <th>commonlinkratio_4</th>\n",
       "      <th>compression_ratio</th>\n",
       "      <th>embed_ratio</th>\n",
       "      <th>framebased</th>\n",
       "      <th>frameTagRatio</th>\n",
       "      <th>hasDomainLink</th>\n",
       "      <th>html_ratio</th>\n",
       "      <th>image_ratio</th>\n",
       "      <th>is_news</th>\n",
       "      <th>lengthyLinkDomain</th>\n",
       "      <th>linkwordscore</th>\n",
       "      <th>news_front_page</th>\n",
       "      <th>non_markup_alphanum_characters</th>\n",
       "      <th>numberOfLinks</th>\n",
       "      <th>numwords_in_url</th>\n",
       "      <th>parametrizedLinkRatio</th>\n",
       "      <th>spelling_errors_ratio</th>\n",
       "      <th>label</th>\n",
       "      <th>title</th>\n",
       "      <th>body</th>\n",
       "    </tr>\n",
       "  </thead>\n",
       "  <tbody>\n",
       "    <tr>\n",
       "      <th>0</th>\n",
       "      <td>http://www.bloomberg.com/news/2010-12-23/ibm-predicts-holographic-calls-air-breathing-batteries-by-2015.html</td>\n",
       "      <td>4042</td>\n",
       "      <td>{\"title\":\"IBM Sees Holographic Calls Air Breathing Batteries ibm sees holographic calls, air-breathing batteries\",\"body\":\"A sign stands outside the International Business Machines Corp IBM Almaden Research Center campus in San Jose California Photographer Tony Avelar Bloomberg Buildings stand at...</td>\n",
       "      <td>business</td>\n",
       "      <td>0.789131</td>\n",
       "      <td>2.055556</td>\n",
       "      <td>0.676471</td>\n",
       "      <td>0.205882</td>\n",
       "      <td>0.047059</td>\n",
       "      <td>0.023529</td>\n",
       "      <td>0.443783</td>\n",
       "      <td>0.0</td>\n",
       "      <td>0</td>\n",
       "      <td>0.090774</td>\n",
       "      <td>0</td>\n",
       "      <td>0.245831</td>\n",
       "      <td>0.003883</td>\n",
       "      <td>1.0</td>\n",
       "      <td>1</td>\n",
       "      <td>24</td>\n",
       "      <td>0</td>\n",
       "      <td>5424</td>\n",
       "      <td>170</td>\n",
       "      <td>8</td>\n",
       "      <td>0.152941</td>\n",
       "      <td>0.079130</td>\n",
       "      <td>0</td>\n",
       "      <td>IBM Sees Holographic Calls Air Breathing Batteries ibm sees holographic calls, air-breathing batteries</td>\n",
       "      <td>A sign stands outside the International Business Machines Corp IBM Almaden Research Center campus in San Jose California Photographer Tony Avelar Bloomberg Buildings stand at the International Business Machines Corp IBM Almaden Research Center campus in the Santa Teresa Hills of San Jose Califor...</td>\n",
       "    </tr>\n",
       "    <tr>\n",
       "      <th>1</th>\n",
       "      <td>http://www.popsci.com/technology/article/2012-07/electronic-futuristic-starting-gun-eliminates-advantages-races</td>\n",
       "      <td>8471</td>\n",
       "      <td>{\"title\":\"The Fully Electronic Futuristic Starting Gun That Eliminates Advantages in Races the fully electronic, futuristic starting gun that eliminates advantages in races the fully electronic, futuristic starting gun that eliminates advantages in races\",\"body\":\"And that can be carried on a pla...</td>\n",
       "      <td>recreation</td>\n",
       "      <td>0.574147</td>\n",
       "      <td>3.677966</td>\n",
       "      <td>0.508021</td>\n",
       "      <td>0.288770</td>\n",
       "      <td>0.213904</td>\n",
       "      <td>0.144385</td>\n",
       "      <td>0.468649</td>\n",
       "      <td>0.0</td>\n",
       "      <td>0</td>\n",
       "      <td>0.098707</td>\n",
       "      <td>0</td>\n",
       "      <td>0.203490</td>\n",
       "      <td>0.088652</td>\n",
       "      <td>1.0</td>\n",
       "      <td>1</td>\n",
       "      <td>40</td>\n",
       "      <td>0</td>\n",
       "      <td>4973</td>\n",
       "      <td>187</td>\n",
       "      <td>9</td>\n",
       "      <td>0.181818</td>\n",
       "      <td>0.125448</td>\n",
       "      <td>1</td>\n",
       "      <td>The Fully Electronic Futuristic Starting Gun That Eliminates Advantages in Races the fully electronic, futuristic starting gun that eliminates advantages in races the fully electronic, futuristic starting gun that eliminates advantages in races</td>\n",
       "      <td>And that can be carried on a plane without the hassle too The Omega E Gun Starting Pistol Omega It s easy to take for granted just how insanely close some Olympic races are and how much the minutiae of it all can matter The perfect example is the traditional starting gun Seems easy You pull a tr...</td>\n",
       "    </tr>\n",
       "    <tr>\n",
       "      <th>2</th>\n",
       "      <td>http://www.menshealth.com/health/flu-fighting-fruits?cm_mmc=Facebook-_-MensHealth-_-Content-Health-_-FightFluWithFruit</td>\n",
       "      <td>1164</td>\n",
       "      <td>{\"title\":\"Fruits that Fight the Flu fruits that fight the flu | cold &amp; flu | men's health\",\"body\":\"Apples The most popular source of antioxidants in our diet one apple has an antioxidant effect equivalent to 1 500 mg of vitamin C Apples are loaded with protective flavonoids which may prevent hea...</td>\n",
       "      <td>health</td>\n",
       "      <td>0.996526</td>\n",
       "      <td>2.382883</td>\n",
       "      <td>0.562016</td>\n",
       "      <td>0.321705</td>\n",
       "      <td>0.120155</td>\n",
       "      <td>0.042636</td>\n",
       "      <td>0.525448</td>\n",
       "      <td>0.0</td>\n",
       "      <td>0</td>\n",
       "      <td>0.072448</td>\n",
       "      <td>0</td>\n",
       "      <td>0.226402</td>\n",
       "      <td>0.120536</td>\n",
       "      <td>1.0</td>\n",
       "      <td>1</td>\n",
       "      <td>55</td>\n",
       "      <td>0</td>\n",
       "      <td>2240</td>\n",
       "      <td>258</td>\n",
       "      <td>11</td>\n",
       "      <td>0.166667</td>\n",
       "      <td>0.057613</td>\n",
       "      <td>1</td>\n",
       "      <td>Fruits that Fight the Flu fruits that fight the flu | cold &amp; flu | men's health</td>\n",
       "      <td>Apples The most popular source of antioxidants in our diet one apple has an antioxidant effect equivalent to 1 500 mg of vitamin C Apples are loaded with protective flavonoids which may prevent heart disease and cancer Next Papayas With 250 percent of the RDA of vitamin C a papaya can help kick ...</td>\n",
       "    </tr>\n",
       "    <tr>\n",
       "      <th>3</th>\n",
       "      <td>http://www.dumblittleman.com/2007/12/10-foolproof-tips-for-better-sleep.html</td>\n",
       "      <td>6684</td>\n",
       "      <td>{\"title\":\"10 Foolproof Tips for Better Sleep \",\"body\":\"There was a period in my life when I had a lot of problems with sleep It took me very long to fall asleep I was easily awaken and I simply wasn t getting enough of rest at night I didn t want to take medication and this led me to learn sever...</td>\n",
       "      <td>health</td>\n",
       "      <td>0.801248</td>\n",
       "      <td>1.543103</td>\n",
       "      <td>0.400000</td>\n",
       "      <td>0.100000</td>\n",
       "      <td>0.016667</td>\n",
       "      <td>0.000000</td>\n",
       "      <td>0.480725</td>\n",
       "      <td>0.0</td>\n",
       "      <td>0</td>\n",
       "      <td>0.095861</td>\n",
       "      <td>0</td>\n",
       "      <td>0.265656</td>\n",
       "      <td>0.035343</td>\n",
       "      <td>1.0</td>\n",
       "      <td>0</td>\n",
       "      <td>24</td>\n",
       "      <td>0</td>\n",
       "      <td>2737</td>\n",
       "      <td>120</td>\n",
       "      <td>5</td>\n",
       "      <td>0.041667</td>\n",
       "      <td>0.100858</td>\n",
       "      <td>1</td>\n",
       "      <td>10 Foolproof Tips for Better Sleep</td>\n",
       "      <td>There was a period in my life when I had a lot of problems with sleep It took me very long to fall asleep I was easily awaken and I simply wasn t getting enough of rest at night I didn t want to take medication and this led me to learn several tips and tricks that really helped me to overcome my...</td>\n",
       "    </tr>\n",
       "    <tr>\n",
       "      <th>4</th>\n",
       "      <td>http://bleacherreport.com/articles/1205138-the-50-coolest-jerseys-you-didnt-know-existed?show_full=</td>\n",
       "      <td>9006</td>\n",
       "      <td>{\"title\":\"The 50 Coolest Jerseys You Didn t Know Existed coolest jerseys you haven't seen\",\"body\":\"Jersey sales is a curious business Whether you re buying the stylish top to represent your favorite team player or color you re always missing out on better artwork With No 18 Colts jerseys continu...</td>\n",
       "      <td>sports</td>\n",
       "      <td>0.719157</td>\n",
       "      <td>2.676471</td>\n",
       "      <td>0.500000</td>\n",
       "      <td>0.222222</td>\n",
       "      <td>0.123457</td>\n",
       "      <td>0.043210</td>\n",
       "      <td>0.446143</td>\n",
       "      <td>0.0</td>\n",
       "      <td>0</td>\n",
       "      <td>0.024908</td>\n",
       "      <td>0</td>\n",
       "      <td>0.228887</td>\n",
       "      <td>0.050473</td>\n",
       "      <td>1.0</td>\n",
       "      <td>1</td>\n",
       "      <td>14</td>\n",
       "      <td>0</td>\n",
       "      <td>12032</td>\n",
       "      <td>162</td>\n",
       "      <td>10</td>\n",
       "      <td>0.098765</td>\n",
       "      <td>0.082569</td>\n",
       "      <td>0</td>\n",
       "      <td>The 50 Coolest Jerseys You Didn t Know Existed coolest jerseys you haven't seen</td>\n",
       "      <td>Jersey sales is a curious business Whether you re buying the stylish top to represent your favorite team player or color you re always missing out on better artwork With No 18 Colts jerseys continuing to flood the streets it s about time we educate the sports public about the real masterpieces t...</td>\n",
       "    </tr>\n",
       "  </tbody>\n",
       "</table>\n",
       "</div>"
      ],
      "text/plain": [
       "                                                                                                                      url  \\\n",
       "0            http://www.bloomberg.com/news/2010-12-23/ibm-predicts-holographic-calls-air-breathing-batteries-by-2015.html   \n",
       "1         http://www.popsci.com/technology/article/2012-07/electronic-futuristic-starting-gun-eliminates-advantages-races   \n",
       "2  http://www.menshealth.com/health/flu-fighting-fruits?cm_mmc=Facebook-_-MensHealth-_-Content-Health-_-FightFluWithFruit   \n",
       "3                                            http://www.dumblittleman.com/2007/12/10-foolproof-tips-for-better-sleep.html   \n",
       "4                     http://bleacherreport.com/articles/1205138-the-50-coolest-jerseys-you-didnt-know-existed?show_full=   \n",
       "\n",
       "   urlid  \\\n",
       "0   4042   \n",
       "1   8471   \n",
       "2   1164   \n",
       "3   6684   \n",
       "4   9006   \n",
       "\n",
       "                                                                                                                                                                                                                                                                                                   boilerplate  \\\n",
       "0  {\"title\":\"IBM Sees Holographic Calls Air Breathing Batteries ibm sees holographic calls, air-breathing batteries\",\"body\":\"A sign stands outside the International Business Machines Corp IBM Almaden Research Center campus in San Jose California Photographer Tony Avelar Bloomberg Buildings stand at...   \n",
       "1  {\"title\":\"The Fully Electronic Futuristic Starting Gun That Eliminates Advantages in Races the fully electronic, futuristic starting gun that eliminates advantages in races the fully electronic, futuristic starting gun that eliminates advantages in races\",\"body\":\"And that can be carried on a pla...   \n",
       "2  {\"title\":\"Fruits that Fight the Flu fruits that fight the flu | cold & flu | men's health\",\"body\":\"Apples The most popular source of antioxidants in our diet one apple has an antioxidant effect equivalent to 1 500 mg of vitamin C Apples are loaded with protective flavonoids which may prevent hea...   \n",
       "3  {\"title\":\"10 Foolproof Tips for Better Sleep \",\"body\":\"There was a period in my life when I had a lot of problems with sleep It took me very long to fall asleep I was easily awaken and I simply wasn t getting enough of rest at night I didn t want to take medication and this led me to learn sever...   \n",
       "4  {\"title\":\"The 50 Coolest Jerseys You Didn t Know Existed coolest jerseys you haven't seen\",\"body\":\"Jersey sales is a curious business Whether you re buying the stylish top to represent your favorite team player or color you re always missing out on better artwork With No 18 Colts jerseys continu...   \n",
       "\n",
       "  alchemy_category alchemy_category_score  avglinksize  commonlinkratio_1  \\\n",
       "0         business               0.789131     2.055556           0.676471   \n",
       "1       recreation               0.574147     3.677966           0.508021   \n",
       "2           health               0.996526     2.382883           0.562016   \n",
       "3           health               0.801248     1.543103           0.400000   \n",
       "4           sports               0.719157     2.676471           0.500000   \n",
       "\n",
       "   commonlinkratio_2  commonlinkratio_3  commonlinkratio_4  compression_ratio  \\\n",
       "0           0.205882           0.047059           0.023529           0.443783   \n",
       "1           0.288770           0.213904           0.144385           0.468649   \n",
       "2           0.321705           0.120155           0.042636           0.525448   \n",
       "3           0.100000           0.016667           0.000000           0.480725   \n",
       "4           0.222222           0.123457           0.043210           0.446143   \n",
       "\n",
       "   embed_ratio  framebased  frameTagRatio  hasDomainLink  html_ratio  \\\n",
       "0          0.0           0       0.090774              0    0.245831   \n",
       "1          0.0           0       0.098707              0    0.203490   \n",
       "2          0.0           0       0.072448              0    0.226402   \n",
       "3          0.0           0       0.095861              0    0.265656   \n",
       "4          0.0           0       0.024908              0    0.228887   \n",
       "\n",
       "   image_ratio  is_news  lengthyLinkDomain  linkwordscore news_front_page  \\\n",
       "0     0.003883      1.0                  1             24               0   \n",
       "1     0.088652      1.0                  1             40               0   \n",
       "2     0.120536      1.0                  1             55               0   \n",
       "3     0.035343      1.0                  0             24               0   \n",
       "4     0.050473      1.0                  1             14               0   \n",
       "\n",
       "   non_markup_alphanum_characters  numberOfLinks  numwords_in_url  \\\n",
       "0                            5424            170                8   \n",
       "1                            4973            187                9   \n",
       "2                            2240            258               11   \n",
       "3                            2737            120                5   \n",
       "4                           12032            162               10   \n",
       "\n",
       "   parametrizedLinkRatio  spelling_errors_ratio  label  \\\n",
       "0               0.152941               0.079130      0   \n",
       "1               0.181818               0.125448      1   \n",
       "2               0.166667               0.057613      1   \n",
       "3               0.041667               0.100858      1   \n",
       "4               0.098765               0.082569      0   \n",
       "\n",
       "                                                                                                                                                                                                                                                  title  \\\n",
       "0                                                                                                                                                IBM Sees Holographic Calls Air Breathing Batteries ibm sees holographic calls, air-breathing batteries   \n",
       "1  The Fully Electronic Futuristic Starting Gun That Eliminates Advantages in Races the fully electronic, futuristic starting gun that eliminates advantages in races the fully electronic, futuristic starting gun that eliminates advantages in races   \n",
       "2                                                                                                                                                                       Fruits that Fight the Flu fruits that fight the flu | cold & flu | men's health   \n",
       "3                                                                                                                                                                                                                   10 Foolproof Tips for Better Sleep    \n",
       "4                                                                                                                                                                       The 50 Coolest Jerseys You Didn t Know Existed coolest jerseys you haven't seen   \n",
       "\n",
       "                                                                                                                                                                                                                                                                                                          body  \n",
       "0  A sign stands outside the International Business Machines Corp IBM Almaden Research Center campus in San Jose California Photographer Tony Avelar Bloomberg Buildings stand at the International Business Machines Corp IBM Almaden Research Center campus in the Santa Teresa Hills of San Jose Califor...  \n",
       "1  And that can be carried on a plane without the hassle too The Omega E Gun Starting Pistol Omega It s easy to take for granted just how insanely close some Olympic races are and how much the minutiae of it all can matter The perfect example is the traditional starting gun Seems easy You pull a tr...  \n",
       "2  Apples The most popular source of antioxidants in our diet one apple has an antioxidant effect equivalent to 1 500 mg of vitamin C Apples are loaded with protective flavonoids which may prevent heart disease and cancer Next Papayas With 250 percent of the RDA of vitamin C a papaya can help kick ...  \n",
       "3  There was a period in my life when I had a lot of problems with sleep It took me very long to fall asleep I was easily awaken and I simply wasn t getting enough of rest at night I didn t want to take medication and this led me to learn several tips and tricks that really helped me to overcome my...  \n",
       "4  Jersey sales is a curious business Whether you re buying the stylish top to represent your favorite team player or color you re always missing out on better artwork With No 18 Colts jerseys continuing to flood the streets it s about time we educate the sports public about the real masterpieces t...  "
      ]
     },
     "execution_count": 44,
     "metadata": {},
     "output_type": "execute_result"
    }
   ],
   "source": [
    "# A:\n",
    "data."
   ]
  },
  {
   "cell_type": "code",
   "execution_count": 47,
   "metadata": {
    "collapsed": true
   },
   "outputs": [],
   "source": [
    "data = pd.read_csv(evergreen_tsv, sep='\\t')"
   ]
  },
  {
   "cell_type": "code",
   "execution_count": 81,
   "metadata": {},
   "outputs": [],
   "source": [
    "data['is_news2'] = data.is_news.map({'?':0, '1':1})\n",
    "#drinks.isnull().sum()"
   ]
  },
  {
   "cell_type": "code",
   "execution_count": 82,
   "metadata": {},
   "outputs": [
    {
     "data": {
      "text/plain": [
       "0       1\n",
       "1       1\n",
       "2       1\n",
       "3       1\n",
       "4       1\n",
       "5       0\n",
       "6       1\n",
       "7       0\n",
       "8       1\n",
       "9       0\n",
       "10      1\n",
       "11      0\n",
       "12      1\n",
       "13      0\n",
       "14      0\n",
       "15      0\n",
       "16      1\n",
       "17      1\n",
       "18      1\n",
       "19      1\n",
       "20      1\n",
       "21      0\n",
       "22      0\n",
       "23      1\n",
       "24      1\n",
       "25      1\n",
       "26      1\n",
       "27      0\n",
       "28      1\n",
       "29      0\n",
       "       ..\n",
       "7365    0\n",
       "7366    0\n",
       "7367    0\n",
       "7368    1\n",
       "7369    0\n",
       "7370    0\n",
       "7371    0\n",
       "7372    1\n",
       "7373    1\n",
       "7374    1\n",
       "7375    1\n",
       "7376    0\n",
       "7377    1\n",
       "7378    0\n",
       "7379    1\n",
       "7380    0\n",
       "7381    0\n",
       "7382    1\n",
       "7383    1\n",
       "7384    0\n",
       "7385    0\n",
       "7386    0\n",
       "7387    1\n",
       "7388    1\n",
       "7389    0\n",
       "7390    1\n",
       "7391    1\n",
       "7392    0\n",
       "7393    1\n",
       "7394    0\n",
       "Name: is_news2, Length: 7395, dtype: int64"
      ]
     },
     "execution_count": 82,
     "metadata": {},
     "output_type": "execute_result"
    }
   ],
   "source": [
    "data['is_news2']"
   ]
  },
  {
   "cell_type": "code",
   "execution_count": null,
   "metadata": {
    "collapsed": true
   },
   "outputs": [],
   "source": []
  }
 ],
 "metadata": {
  "anaconda-cloud": {},
  "kernelspec": {
   "display_name": "Python 2",
   "language": "python",
   "name": "python2"
  },
  "language_info": {
   "codemirror_mode": {
    "name": "ipython",
    "version": 2
   },
   "file_extension": ".py",
   "mimetype": "text/x-python",
   "name": "python",
   "nbconvert_exporter": "python",
   "pygments_lexer": "ipython2",
   "version": "2.7.13"
  }
 },
 "nbformat": 4,
 "nbformat_minor": 1
}
