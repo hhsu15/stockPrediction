{
 "cells": [
  {
   "cell_type": "markdown",
   "metadata": {},
   "source": [
    "# Collaborative Based Recommender Systems Pt. 1\n",
    "\n",
    "A collaborative based recommender system recommends items based base on user-item ratings. Similar users are found based on a user-ratings, and then items are recommended based on the preferences of those similar users. One example is Amazon's \"Customers who bought this item also bought\" approach.\n",
    "\n",
    "In this notebook, we'll be looking a data set containing movie ratings. This dataset is a small part of the MovieLens dataset (https://grouplens.org/datasets/movielens/). For this example, we will only be using the user-movie ratings to develop a recommendation engine."
   ]
  },
  {
   "cell_type": "code",
   "execution_count": 1,
   "metadata": {
    "collapsed": true
   },
   "outputs": [],
   "source": [
    "# import packages we'll be using\n",
    "import pandas as pd\n",
    "import numpy as np\n",
    "from scipy.spatial.distance import cdist"
   ]
  },
  {
   "cell_type": "code",
   "execution_count": 4,
   "metadata": {},
   "outputs": [
    {
     "data": {
      "text/html": [
       "<div>\n",
       "<style>\n",
       "    .dataframe thead tr:only-child th {\n",
       "        text-align: right;\n",
       "    }\n",
       "\n",
       "    .dataframe thead th {\n",
       "        text-align: left;\n",
       "    }\n",
       "\n",
       "    .dataframe tbody tr th {\n",
       "        vertical-align: top;\n",
       "    }\n",
       "</style>\n",
       "<table border=\"1\" class=\"dataframe\">\n",
       "  <thead>\n",
       "    <tr style=\"text-align: right;\">\n",
       "      <th></th>\n",
       "      <th>userId</th>\n",
       "      <th>movieId</th>\n",
       "      <th>rating</th>\n",
       "      <th>timestamp</th>\n",
       "    </tr>\n",
       "  </thead>\n",
       "  <tbody>\n",
       "    <tr>\n",
       "      <th>0</th>\n",
       "      <td>1</td>\n",
       "      <td>31</td>\n",
       "      <td>2.5</td>\n",
       "      <td>1260759144</td>\n",
       "    </tr>\n",
       "    <tr>\n",
       "      <th>1</th>\n",
       "      <td>1</td>\n",
       "      <td>1029</td>\n",
       "      <td>3.0</td>\n",
       "      <td>1260759179</td>\n",
       "    </tr>\n",
       "    <tr>\n",
       "      <th>2</th>\n",
       "      <td>1</td>\n",
       "      <td>1061</td>\n",
       "      <td>3.0</td>\n",
       "      <td>1260759182</td>\n",
       "    </tr>\n",
       "    <tr>\n",
       "      <th>3</th>\n",
       "      <td>1</td>\n",
       "      <td>1129</td>\n",
       "      <td>2.0</td>\n",
       "      <td>1260759185</td>\n",
       "    </tr>\n",
       "    <tr>\n",
       "      <th>4</th>\n",
       "      <td>1</td>\n",
       "      <td>1172</td>\n",
       "      <td>4.0</td>\n",
       "      <td>1260759205</td>\n",
       "    </tr>\n",
       "  </tbody>\n",
       "</table>\n",
       "</div>"
      ],
      "text/plain": [
       "   userId  movieId  rating   timestamp\n",
       "0       1       31     2.5  1260759144\n",
       "1       1     1029     3.0  1260759179\n",
       "2       1     1061     3.0  1260759182\n",
       "3       1     1129     2.0  1260759185\n",
       "4       1     1172     4.0  1260759205"
      ]
     },
     "execution_count": 4,
     "metadata": {},
     "output_type": "execute_result"
    }
   ],
   "source": [
    "# read the data into a DataFrame\n",
    "ratings_data = pd.read_csv('../data/ratings.csv')\n",
    "movies_data = pd.read_csv('../data/movies.csv')\n",
    "\n",
    "ratings_data.head()"
   ]
  },
  {
   "cell_type": "code",
   "execution_count": 6,
   "metadata": {},
   "outputs": [
    {
     "data": {
      "text/html": [
       "<div>\n",
       "<style>\n",
       "    .dataframe thead tr:only-child th {\n",
       "        text-align: right;\n",
       "    }\n",
       "\n",
       "    .dataframe thead th {\n",
       "        text-align: left;\n",
       "    }\n",
       "\n",
       "    .dataframe tbody tr th {\n",
       "        vertical-align: top;\n",
       "    }\n",
       "</style>\n",
       "<table border=\"1\" class=\"dataframe\">\n",
       "  <thead>\n",
       "    <tr style=\"text-align: right;\">\n",
       "      <th></th>\n",
       "      <th>movieId</th>\n",
       "      <th>title</th>\n",
       "      <th>genres</th>\n",
       "    </tr>\n",
       "  </thead>\n",
       "  <tbody>\n",
       "    <tr>\n",
       "      <th>0</th>\n",
       "      <td>1</td>\n",
       "      <td>Toy Story (1995)</td>\n",
       "      <td>Adventure|Animation|Children|Comedy|Fantasy</td>\n",
       "    </tr>\n",
       "    <tr>\n",
       "      <th>1</th>\n",
       "      <td>2</td>\n",
       "      <td>Jumanji (1995)</td>\n",
       "      <td>Adventure|Children|Fantasy</td>\n",
       "    </tr>\n",
       "    <tr>\n",
       "      <th>2</th>\n",
       "      <td>3</td>\n",
       "      <td>Grumpier Old Men (1995)</td>\n",
       "      <td>Comedy|Romance</td>\n",
       "    </tr>\n",
       "    <tr>\n",
       "      <th>3</th>\n",
       "      <td>4</td>\n",
       "      <td>Waiting to Exhale (1995)</td>\n",
       "      <td>Comedy|Drama|Romance</td>\n",
       "    </tr>\n",
       "    <tr>\n",
       "      <th>4</th>\n",
       "      <td>5</td>\n",
       "      <td>Father of the Bride Part II (1995)</td>\n",
       "      <td>Comedy</td>\n",
       "    </tr>\n",
       "  </tbody>\n",
       "</table>\n",
       "</div>"
      ],
      "text/plain": [
       "   movieId                               title  \\\n",
       "0        1                    Toy Story (1995)   \n",
       "1        2                      Jumanji (1995)   \n",
       "2        3             Grumpier Old Men (1995)   \n",
       "3        4            Waiting to Exhale (1995)   \n",
       "4        5  Father of the Bride Part II (1995)   \n",
       "\n",
       "                                        genres  \n",
       "0  Adventure|Animation|Children|Comedy|Fantasy  \n",
       "1                   Adventure|Children|Fantasy  \n",
       "2                               Comedy|Romance  \n",
       "3                         Comedy|Drama|Romance  \n",
       "4                                       Comedy  "
      ]
     },
     "execution_count": 6,
     "metadata": {},
     "output_type": "execute_result"
    }
   ],
   "source": [
    "movies_data.head()"
   ]
  },
  {
   "cell_type": "code",
   "execution_count": 7,
   "metadata": {},
   "outputs": [
    {
     "name": "stdout",
     "output_type": "stream",
     "text": [
      "671 users\n",
      "9066 movies\n"
     ]
    }
   ],
   "source": [
    "# count number of unique users and unique movies\n",
    "n_users = len(ratings_data['userId'].unique())\n",
    "n_movies = len(ratings_data['movieId'].unique())\n",
    "\n",
    "print(str(n_users) + ' users')\n",
    "print(str(n_movies) + ' movies')"
   ]
  },
  {
   "cell_type": "code",
   "execution_count": 9,
   "metadata": {},
   "outputs": [
    {
     "data": {
      "text/html": [
       "<div>\n",
       "<style>\n",
       "    .dataframe thead tr:only-child th {\n",
       "        text-align: right;\n",
       "    }\n",
       "\n",
       "    .dataframe thead th {\n",
       "        text-align: left;\n",
       "    }\n",
       "\n",
       "    .dataframe tbody tr th {\n",
       "        vertical-align: top;\n",
       "    }\n",
       "</style>\n",
       "<table border=\"1\" class=\"dataframe\">\n",
       "  <thead>\n",
       "    <tr style=\"text-align: right;\">\n",
       "      <th>movieId</th>\n",
       "      <th>1</th>\n",
       "      <th>2</th>\n",
       "      <th>3</th>\n",
       "      <th>4</th>\n",
       "      <th>5</th>\n",
       "      <th>6</th>\n",
       "      <th>7</th>\n",
       "      <th>8</th>\n",
       "      <th>9</th>\n",
       "      <th>10</th>\n",
       "      <th>...</th>\n",
       "      <th>161084</th>\n",
       "      <th>161155</th>\n",
       "      <th>161594</th>\n",
       "      <th>161830</th>\n",
       "      <th>161918</th>\n",
       "      <th>161944</th>\n",
       "      <th>162376</th>\n",
       "      <th>162542</th>\n",
       "      <th>162672</th>\n",
       "      <th>163949</th>\n",
       "    </tr>\n",
       "    <tr>\n",
       "      <th>userId</th>\n",
       "      <th></th>\n",
       "      <th></th>\n",
       "      <th></th>\n",
       "      <th></th>\n",
       "      <th></th>\n",
       "      <th></th>\n",
       "      <th></th>\n",
       "      <th></th>\n",
       "      <th></th>\n",
       "      <th></th>\n",
       "      <th></th>\n",
       "      <th></th>\n",
       "      <th></th>\n",
       "      <th></th>\n",
       "      <th></th>\n",
       "      <th></th>\n",
       "      <th></th>\n",
       "      <th></th>\n",
       "      <th></th>\n",
       "      <th></th>\n",
       "      <th></th>\n",
       "    </tr>\n",
       "  </thead>\n",
       "  <tbody>\n",
       "    <tr>\n",
       "      <th>1</th>\n",
       "      <td>0.0</td>\n",
       "      <td>0.0</td>\n",
       "      <td>0.0</td>\n",
       "      <td>0.0</td>\n",
       "      <td>0.0</td>\n",
       "      <td>0.0</td>\n",
       "      <td>0.0</td>\n",
       "      <td>0.0</td>\n",
       "      <td>0.0</td>\n",
       "      <td>0.0</td>\n",
       "      <td>...</td>\n",
       "      <td>0.0</td>\n",
       "      <td>0.0</td>\n",
       "      <td>0.0</td>\n",
       "      <td>0.0</td>\n",
       "      <td>0.0</td>\n",
       "      <td>0.0</td>\n",
       "      <td>0.0</td>\n",
       "      <td>0.0</td>\n",
       "      <td>0.0</td>\n",
       "      <td>0.0</td>\n",
       "    </tr>\n",
       "    <tr>\n",
       "      <th>2</th>\n",
       "      <td>0.0</td>\n",
       "      <td>0.0</td>\n",
       "      <td>0.0</td>\n",
       "      <td>0.0</td>\n",
       "      <td>0.0</td>\n",
       "      <td>0.0</td>\n",
       "      <td>0.0</td>\n",
       "      <td>0.0</td>\n",
       "      <td>0.0</td>\n",
       "      <td>1.0</td>\n",
       "      <td>...</td>\n",
       "      <td>0.0</td>\n",
       "      <td>0.0</td>\n",
       "      <td>0.0</td>\n",
       "      <td>0.0</td>\n",
       "      <td>0.0</td>\n",
       "      <td>0.0</td>\n",
       "      <td>0.0</td>\n",
       "      <td>0.0</td>\n",
       "      <td>0.0</td>\n",
       "      <td>0.0</td>\n",
       "    </tr>\n",
       "    <tr>\n",
       "      <th>3</th>\n",
       "      <td>0.0</td>\n",
       "      <td>0.0</td>\n",
       "      <td>0.0</td>\n",
       "      <td>0.0</td>\n",
       "      <td>0.0</td>\n",
       "      <td>0.0</td>\n",
       "      <td>0.0</td>\n",
       "      <td>0.0</td>\n",
       "      <td>0.0</td>\n",
       "      <td>0.0</td>\n",
       "      <td>...</td>\n",
       "      <td>0.0</td>\n",
       "      <td>0.0</td>\n",
       "      <td>0.0</td>\n",
       "      <td>0.0</td>\n",
       "      <td>0.0</td>\n",
       "      <td>0.0</td>\n",
       "      <td>0.0</td>\n",
       "      <td>0.0</td>\n",
       "      <td>0.0</td>\n",
       "      <td>0.0</td>\n",
       "    </tr>\n",
       "    <tr>\n",
       "      <th>4</th>\n",
       "      <td>0.0</td>\n",
       "      <td>0.0</td>\n",
       "      <td>0.0</td>\n",
       "      <td>0.0</td>\n",
       "      <td>0.0</td>\n",
       "      <td>0.0</td>\n",
       "      <td>0.0</td>\n",
       "      <td>0.0</td>\n",
       "      <td>0.0</td>\n",
       "      <td>1.0</td>\n",
       "      <td>...</td>\n",
       "      <td>0.0</td>\n",
       "      <td>0.0</td>\n",
       "      <td>0.0</td>\n",
       "      <td>0.0</td>\n",
       "      <td>0.0</td>\n",
       "      <td>0.0</td>\n",
       "      <td>0.0</td>\n",
       "      <td>0.0</td>\n",
       "      <td>0.0</td>\n",
       "      <td>0.0</td>\n",
       "    </tr>\n",
       "    <tr>\n",
       "      <th>5</th>\n",
       "      <td>0.0</td>\n",
       "      <td>0.0</td>\n",
       "      <td>1.0</td>\n",
       "      <td>0.0</td>\n",
       "      <td>0.0</td>\n",
       "      <td>0.0</td>\n",
       "      <td>0.0</td>\n",
       "      <td>0.0</td>\n",
       "      <td>0.0</td>\n",
       "      <td>0.0</td>\n",
       "      <td>...</td>\n",
       "      <td>0.0</td>\n",
       "      <td>0.0</td>\n",
       "      <td>0.0</td>\n",
       "      <td>0.0</td>\n",
       "      <td>0.0</td>\n",
       "      <td>0.0</td>\n",
       "      <td>0.0</td>\n",
       "      <td>0.0</td>\n",
       "      <td>0.0</td>\n",
       "      <td>0.0</td>\n",
       "    </tr>\n",
       "  </tbody>\n",
       "</table>\n",
       "<p>5 rows × 9066 columns</p>\n",
       "</div>"
      ],
      "text/plain": [
       "movieId  1       2       3       4       5       6       7       8       \\\n",
       "userId                                                                    \n",
       "1           0.0     0.0     0.0     0.0     0.0     0.0     0.0     0.0   \n",
       "2           0.0     0.0     0.0     0.0     0.0     0.0     0.0     0.0   \n",
       "3           0.0     0.0     0.0     0.0     0.0     0.0     0.0     0.0   \n",
       "4           0.0     0.0     0.0     0.0     0.0     0.0     0.0     0.0   \n",
       "5           0.0     0.0     1.0     0.0     0.0     0.0     0.0     0.0   \n",
       "\n",
       "movieId  9       10       ...    161084  161155  161594  161830  161918  \\\n",
       "userId                    ...                                             \n",
       "1           0.0     0.0   ...       0.0     0.0     0.0     0.0     0.0   \n",
       "2           0.0     1.0   ...       0.0     0.0     0.0     0.0     0.0   \n",
       "3           0.0     0.0   ...       0.0     0.0     0.0     0.0     0.0   \n",
       "4           0.0     1.0   ...       0.0     0.0     0.0     0.0     0.0   \n",
       "5           0.0     0.0   ...       0.0     0.0     0.0     0.0     0.0   \n",
       "\n",
       "movieId  161944  162376  162542  162672  163949  \n",
       "userId                                           \n",
       "1           0.0     0.0     0.0     0.0     0.0  \n",
       "2           0.0     0.0     0.0     0.0     0.0  \n",
       "3           0.0     0.0     0.0     0.0     0.0  \n",
       "4           0.0     0.0     0.0     0.0     0.0  \n",
       "5           0.0     0.0     0.0     0.0     0.0  \n",
       "\n",
       "[5 rows x 9066 columns]"
      ]
     },
     "execution_count": 9,
     "metadata": {},
     "output_type": "execute_result"
    }
   ],
   "source": [
    "# create user-item matrix\n",
    "user_item_matrix = ratings_data.pivot(index='userId',\n",
    "                                      columns='movieId',\n",
    "                                      values='rating')\n",
    "\n",
    "# convert ratings to likes (>=4 is a like (1), <4 is not (0))\n",
    "user_item_matrix[user_item_matrix < 4] = 0\n",
    "user_item_matrix[user_item_matrix >= 4] = 1\n",
    "user_item_matrix = user_item_matrix.fillna(0)\n",
    "\n",
    "user_item_matrix.head()"
   ]
  },
  {
   "cell_type": "markdown",
   "metadata": {},
   "source": [
    "Now that we have the user-item matrix, we can use it to find similar users. The process is to first pick a user that needs recommendations. We then find the top K similar users based on their preferences and recommend movies that were liked by those K users."
   ]
  },
  {
   "cell_type": "code",
   "execution_count": 11,
   "metadata": {
    "collapsed": true
   },
   "outputs": [],
   "source": [
    "# select a random user\n",
    "user_id = user_item_matrix.sample(1).index\n",
    "random_user = user_item_matrix.loc[user_id]\n",
    "\n",
    "# calculate similarity between that user and all other users\n",
    "metric = 'jaccard' # what other distance metrics can we use?\n",
    "distances = cdist(user_item_matrix, random_user, metric=metric).squeeze()\n",
    "distances = pd.Series(data=distances,\n",
    "                      index=user_item_matrix.index)\n",
    "\n",
    "# find the most similar K users\n",
    "K = 10\n",
    "similar_users = distances.sort_values()[:K].index"
   ]
  },
  {
   "cell_type": "code",
   "execution_count": 12,
   "metadata": {},
   "outputs": [
    {
     "data": {
      "text/plain": [
       "Int64Index([170, 327, 422, 219, 344, 647, 41, 574, 646, 177], dtype='int64', name=u'userId')"
      ]
     },
     "execution_count": 12,
     "metadata": {},
     "output_type": "execute_result"
    }
   ],
   "source": [
    "similar_users"
   ]
  },
  {
   "cell_type": "markdown",
   "metadata": {},
   "source": [
    "After finding the most similar K users, we find movies that were liked by those users, and recommend the top M most liked movies."
   ]
  },
  {
   "cell_type": "code",
   "execution_count": 14,
   "metadata": {
    "collapsed": true
   },
   "outputs": [],
   "source": [
    "# extract rows of most smiliar K users from user-item matrix\n",
    "similar_user_ratings = user_item_matrix.loc[similar_users,:]\n",
    "\n",
    "# remove movies already liked by user\n",
    "similar_user_ratings = similar_user_ratings.loc[:, (random_user==0).squeeze()]\n",
    "\n",
    "# add up the number of likes for each movie\n",
    "overall_movie_ratings = similar_user_ratings.sum()\n",
    "\n",
    "# find the top M movies\n",
    "M = 5\n",
    "movie_recs_ids = overall_movie_ratings.sort_values(ascending=False)[:M].index\n",
    "movie_recs = movies_data[movies_data['movieId'].isin(movie_recs_ids)]['title'].tolist()"
   ]
  },
  {
   "cell_type": "code",
   "execution_count": 15,
   "metadata": {},
   "outputs": [
    {
     "data": {
      "text/plain": [
       "['Toy Story (1995)',\n",
       " 'Star Wars: Episode IV - A New Hope (1977)',\n",
       " 'Forrest Gump (1994)',\n",
       " 'Star Wars: Episode V - The Empire Strikes Back (1980)',\n",
       " 'Back to the Future (1985)']"
      ]
     },
     "execution_count": 15,
     "metadata": {},
     "output_type": "execute_result"
    }
   ],
   "source": [
    "movie_recs"
   ]
  },
  {
   "cell_type": "markdown",
   "metadata": {},
   "source": [
    "Let's create a movie recommender function"
   ]
  },
  {
   "cell_type": "code",
   "execution_count": 18,
   "metadata": {
    "collapsed": true
   },
   "outputs": [],
   "source": [
    "def movie_recommender(user_id, num_recs=5, num_similar_users=10):\n",
    "    random_user = user_item_matrix.loc[user_id]\n",
    "    metric = 'jaccard' # what other distance metrics can we use?\n",
    "    distances = cdist(user_item_matrix, random_user, metric=metric).squeeze()\n",
    "    distances = pd.Series(data=distances,\n",
    "                          index=user_item_matrix.index)\n",
    "    similar_users = distances.sort_values()[:num_similar_users].index\n",
    "    similar_user_ratings = user_item_matrix.loc[similar_users,:]\n",
    "    similar_user_ratings = similar_user_ratings.loc[:, (random_user==0).squeeze()]\n",
    "    overall_movie_ratings = similar_user_ratings.sum()\n",
    "    movie_recs_ids = overall_movie_ratings.sort_values(ascending=False)[:M].index\n",
    "    movie_recs = movies_data[movies_data['movieId'].isin(movie_recs_ids)]['title'].tolist()\n",
    "    \n",
    "    user_likes_ids = random_user.loc[:, (random_user==1).squeeze()].columns\n",
    "    user_likes = movies_data[movies_data['movieId'].isin(user_likes_ids)]['title'].tolist()\n",
    "    \n",
    "    return user_likes, movie_recs"
   ]
  },
  {
   "cell_type": "markdown",
   "metadata": {},
   "source": [
    "Run the function and print out the user's likes along with their recommendations"
   ]
  },
  {
   "cell_type": "code",
   "execution_count": 22,
   "metadata": {},
   "outputs": [
    {
     "name": "stdout",
     "output_type": "stream",
     "text": [
      "------------\n",
      "USER'S LIKES\n",
      "------------\n",
      "['Jumanji (1995)', 'Heat (1995)', 'American President, The (1995)', 'Money Train (1995)', 'Copycat (1995)', 'Assassins (1995)', 'Now and Then (1995)', 'Dangerous Minds (1995)', 'Eye for an Eye (1996)', \"Mr. Holland's Opus (1995)\", 'Fair Game (1995)', 'Juror, The (1996)', 'Nick of Time (1995)', 'Broken Arrow (1996)', 'Bridges of Madison County, The (1995)', 'Braveheart (1995)', 'Up Close and Personal (1996)', 'Apollo 13 (1995)', 'Rob Roy (1995)', 'Casper (1995)', 'Crimson Tide (1995)', 'Die Hard: With a Vengeance (1995)', 'First Knight (1995)', 'Net, The (1995)', 'Under Siege 2: Dark Territory (1995)', 'Walk in the Clouds, A (1995)', 'Waterworld (1995)', 'Disclosure (1994)', 'Drop Zone (1994)', 'Dolores Claiborne (1995)', 'French Kiss (1995)', 'Forget Paris (1995)', 'Hideaway (1995)', 'I.Q. (1994)', 'Interview with the Vampire: The Vampire Chronicles (1994)', 'Just Cause (1995)', 'Legends of the Fall (1994)', 'Losing Isaiah (1995)', 'Miracle on 34th Street (1994)', 'Murder in the First (1995)', \"Nobody's Fool (1994)\", 'Nell (1994)', 'Outbreak (1995)', 'L\\xc3\\xa9on: The Professional (a.k.a. The Professional) (L\\xc3\\xa9on) (1994)', 'Roommates (1995)', 'Specialist, The (1994)', 'Stargate (1994)', 'Shawshank Redemption, The (1994)', 'Star Trek: Generations (1994)', 'Virtuosity (1995)', 'Clear and Present Danger (1994)', 'Client, The (1994)', 'Forrest Gump (1994)', 'Lion King, The (1994)', 'Maverick (1994)', 'River Wild, The (1994)', 'True Lies (1994)', 'Wyatt Earp (1994)', 'Cliffhanger (1993)', 'Dave (1993)', 'Demolition Man (1993)', 'With Honors (1994)', 'Fugitive, The (1993)', 'In the Line of Fire (1993)', 'Jurassic Park (1993)', 'Executive Decision (1996)', 'Mrs. Doubtfire (1993)', 'Rudy (1993)', 'Sleepless in Seattle (1993)', 'Striking Distance (1993)', 'Tombstone (1993)', 'True Romance (1993)', 'Ghost (1990)', 'Aladdin (1992)', 'Terminator 2: Judgment Day (1991)', 'Dances with Wolves (1990)', 'Silence of the Lambs, The (1991)', 'Beauty and the Beast (1991)', 'Pretty Woman (1990)', 'Mission: Impossible (1996)', 'Dragonheart (1996)', 'Rock, The (1996)', 'Independence Day (a.k.a. ID4) (1996)', 'Eraser (1996)', 'Phenomenon (1996)', 'Time to Kill, A (1996)', 'Foxfire (1996)', 'Die Hard (1988)']\n",
      "\n",
      "---------------\n",
      "RECOMMENDATIONS\n",
      "---------------\n",
      "['GoldenEye (1995)', 'Ace Ventura: Pet Detective (1994)', 'Four Weddings and a Funeral (1994)', 'Speed (1994)', 'Firm, The (1993)']\n"
     ]
    }
   ],
   "source": [
    "user_id = user_item_matrix.sample(1).index\n",
    "user_likes, movie_recs = movie_recommender(user_id)\n",
    "\n",
    "print('------------')\n",
    "print('USER\\'S LIKES')\n",
    "print('------------')\n",
    "print (movie) for movie in user_likes]\n",
    "print('')\n",
    "print('---------------')\n",
    "print('RECOMMENDATIONS')\n",
    "print('---------------')\n",
    "print [(movie) for movie in movie_recs]"
   ]
  },
  {
   "cell_type": "code",
   "execution_count": null,
   "metadata": {
    "collapsed": true
   },
   "outputs": [],
   "source": []
  }
 ],
 "metadata": {
  "kernelspec": {
   "display_name": "Python 2",
   "language": "python",
   "name": "python2"
  },
  "language_info": {
   "codemirror_mode": {
    "name": "ipython",
    "version": 2
   },
   "file_extension": ".py",
   "mimetype": "text/x-python",
   "name": "python",
   "nbconvert_exporter": "python",
   "pygments_lexer": "ipython2",
   "version": "2.7.13"
  }
 },
 "nbformat": 4,
 "nbformat_minor": 2
}
