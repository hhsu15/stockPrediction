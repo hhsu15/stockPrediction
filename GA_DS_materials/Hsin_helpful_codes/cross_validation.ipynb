{
 "cells": [
  {
   "cell_type": "code",
   "execution_count": 3,
   "metadata": {
    "collapsed": true
   },
   "outputs": [],
   "source": [
    "from sklearn.linear_model import LinearRegression\n",
    "from sklearn.cross_validation import cross_val_score, cross_val_predict\n",
    "from sklearn import metrics\n",
    "\n",
    "def show_cross_validation(X,y,k):\n",
    "    print '--------------THIS IS THE K-FOLD----------------------\\n'\n",
    "    K = k\n",
    "    print 'K:', K\n",
    "    model = LinearRegression()\n",
    "\n",
    "    # Perform cross-validation\n",
    "    scores = cross_val_score(model, X, y, cv=K)\n",
    "    print \"Cross-validated scores:\", scores\n",
    "    print \"Mean CV R2:\", np.mean(scores)\n",
    "    print 'Std CV R2:', np.std(scores)\n",
    "\n",
    "    # Make cross-validated predictions\n",
    "    predictions = cross_val_predict(model, X[labels], y, cv=K)\n",
    "    #print 'Crodd-validated predictions', predictions\n",
    "    r2 = metrics.r2_score(y, predictions)\n",
    "    print \"Cross-Predicted R2:\", r2"
   ]
  },
  {
   "cell_type": "code",
   "execution_count": null,
   "metadata": {
    "collapsed": true
   },
   "outputs": [],
   "source": [
    "from sklearn.cross_validation import train_test_split\n",
    "\n",
    "# Define a function that accepts a list of features and returns testing RMSE.\n",
    "def train_test_rmse(df, feature_cols):\n",
    "    X = df[feature_cols]\n",
    "    y = df.total_rentals\n",
    "    \n",
    "    X_train, X_test, y_train, y_test = train_test_split(X, y, random_state=123)\n",
    "    \n",
    "    linreg = LinearRegression()\n",
    "    linreg.fit(X_train, y_train)\n",
    "    \n",
    "    y_pred = linreg.predict(X_test)\n",
    "    return np.sqrt(metrics.mean_squared_error(y_test, y_pred))"
   ]
  }
 ],
 "metadata": {
  "kernelspec": {
   "display_name": "Python 2",
   "language": "python",
   "name": "python2"
  },
  "language_info": {
   "codemirror_mode": {
    "name": "ipython",
    "version": 2
   },
   "file_extension": ".py",
   "mimetype": "text/x-python",
   "name": "python",
   "nbconvert_exporter": "python",
   "pygments_lexer": "ipython2",
   "version": "2.7.13"
  }
 },
 "nbformat": 4,
 "nbformat_minor": 2
}
