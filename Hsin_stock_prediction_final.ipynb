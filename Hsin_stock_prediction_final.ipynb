{
 "cells": [
  {
   "cell_type": "markdown",
   "metadata": {
    "slideshow": {
     "slide_type": "slide"
    }
   },
   "source": [
    "# Stock Predictive Model\n",
    "## Goal \n",
    "\n",
    "* The primary goal is to build a machine learning model that can predict if a stock's price is likely to go up given the variables of fundamentals data. I am tackling this as a binary classification problem in that we predict either the next year price is likely to go up or not.\n",
    "\n",
    "\n",
    "\n",
    "\n",
    "\n",
    "\n",
    "\n",
    "\n"
   ]
  },
  {
   "cell_type": "markdown",
   "metadata": {
    "slideshow": {
     "slide_type": "subslide"
    }
   },
   "source": [
    "## Dataset\n",
    "\n",
    "- ***New York Stock Exchange S&P 500 companies historical prices with fundamental data***\n",
    "\n",
    "- URL: https://www.kaggle.com/dgawlik/nyse\n",
    "- There are 4 csv files in this dataset\n",
    "    * Fundamentals - fundamentals data for S&P 500 companies from 2011 - 2016\n",
    "    * Prices - Daily prices from 2011 - 2016 for the same companies\n",
    "    * Split-Adjusted Prices - Prices data as above but adjusted for shares splits\n",
    "    * Securities - Company information including company name, sector, address \n",
    "   "
   ]
  },
  {
   "cell_type": "code",
   "execution_count": 10,
   "metadata": {
    "slideshow": {
     "slide_type": "slide"
    }
   },
   "outputs": [],
   "source": [
    "import pandas as pd\n",
    "import numpy as np\n",
    "import seaborn as sns\n",
    "import matplotlib.pyplot as plt\n",
    "\n",
    "# Allow plots to appear in the notebook.\n",
    "%matplotlib inline\n",
    "plt.rcParams['figure.figsize'] = (8, 6)\n",
    "plt.rcParams['font.size'] = 14\n",
    "plt.style.use(\"fivethirtyeight\")"
   ]
  },
  {
   "cell_type": "code",
   "execution_count": 11,
   "metadata": {
    "slideshow": {
     "slide_type": "subslide"
    }
   },
   "outputs": [],
   "source": [
    "# Get all data\n",
    "fundamentals = pd.read_csv('fundamentals.csv')\n",
    "prices = pd.read_csv('prices-split-adjusted.csv') # we will use the split-adjusted price for better prediction \n",
    "securities = pd.read_csv('securities.csv')\n"
   ]
  },
  {
   "cell_type": "code",
   "execution_count": 12,
   "metadata": {
    "slideshow": {
     "slide_type": "subslide"
    }
   },
   "outputs": [],
   "source": [
    "#Some helper functions\n",
    "def lowercase_with_underscore_header(df):\n",
    "    '''This function will replace the space in the column labels with underscore\n",
    "       and convert all letters to lowercase\n",
    "    '''\n",
    "    underscore_labels = {label:label.replace(' ','_').lower() for label in df.columns} \n",
    "    return df.rename(columns = underscore_labels)\n"
   ]
  },
  {
   "cell_type": "code",
   "execution_count": 13,
   "metadata": {
    "slideshow": {
     "slide_type": "subslide"
    }
   },
   "outputs": [
    {
     "name": "stdout",
     "output_type": "stream",
     "text": [
      "(1781, 79)\n"
     ]
    },
    {
     "data": {
      "text/html": [
       "<div>\n",
       "<style scoped>\n",
       "    .dataframe tbody tr th:only-of-type {\n",
       "        vertical-align: middle;\n",
       "    }\n",
       "\n",
       "    .dataframe tbody tr th {\n",
       "        vertical-align: top;\n",
       "    }\n",
       "\n",
       "    .dataframe thead th {\n",
       "        text-align: right;\n",
       "    }\n",
       "</style>\n",
       "<table border=\"1\" class=\"dataframe\">\n",
       "  <thead>\n",
       "    <tr style=\"text-align: right;\">\n",
       "      <th></th>\n",
       "      <th>Unnamed: 0</th>\n",
       "      <th>Ticker Symbol</th>\n",
       "      <th>Period Ending</th>\n",
       "      <th>Accounts Payable</th>\n",
       "      <th>Accounts Receivable</th>\n",
       "      <th>Add'l income/expense items</th>\n",
       "      <th>After Tax ROE</th>\n",
       "      <th>Capital Expenditures</th>\n",
       "      <th>Capital Surplus</th>\n",
       "      <th>Cash Ratio</th>\n",
       "      <th>...</th>\n",
       "      <th>Total Current Assets</th>\n",
       "      <th>Total Current Liabilities</th>\n",
       "      <th>Total Equity</th>\n",
       "      <th>Total Liabilities</th>\n",
       "      <th>Total Liabilities &amp; Equity</th>\n",
       "      <th>Total Revenue</th>\n",
       "      <th>Treasury Stock</th>\n",
       "      <th>For Year</th>\n",
       "      <th>Earnings Per Share</th>\n",
       "      <th>Estimated Shares Outstanding</th>\n",
       "    </tr>\n",
       "  </thead>\n",
       "  <tbody>\n",
       "    <tr>\n",
       "      <th>0</th>\n",
       "      <td>0</td>\n",
       "      <td>AAL</td>\n",
       "      <td>2012-12-31</td>\n",
       "      <td>3.068000e+09</td>\n",
       "      <td>-222000000.0</td>\n",
       "      <td>-1.961000e+09</td>\n",
       "      <td>23.0</td>\n",
       "      <td>-1.888000e+09</td>\n",
       "      <td>4.695000e+09</td>\n",
       "      <td>53.0</td>\n",
       "      <td>...</td>\n",
       "      <td>7.072000e+09</td>\n",
       "      <td>9.011000e+09</td>\n",
       "      <td>-7.987000e+09</td>\n",
       "      <td>2.489100e+10</td>\n",
       "      <td>1.690400e+10</td>\n",
       "      <td>2.485500e+10</td>\n",
       "      <td>-367000000.0</td>\n",
       "      <td>2012.0</td>\n",
       "      <td>-5.60</td>\n",
       "      <td>3.350000e+08</td>\n",
       "    </tr>\n",
       "    <tr>\n",
       "      <th>1</th>\n",
       "      <td>1</td>\n",
       "      <td>AAL</td>\n",
       "      <td>2013-12-31</td>\n",
       "      <td>4.975000e+09</td>\n",
       "      <td>-93000000.0</td>\n",
       "      <td>-2.723000e+09</td>\n",
       "      <td>67.0</td>\n",
       "      <td>-3.114000e+09</td>\n",
       "      <td>1.059200e+10</td>\n",
       "      <td>75.0</td>\n",
       "      <td>...</td>\n",
       "      <td>1.432300e+10</td>\n",
       "      <td>1.380600e+10</td>\n",
       "      <td>-2.731000e+09</td>\n",
       "      <td>4.500900e+10</td>\n",
       "      <td>4.227800e+10</td>\n",
       "      <td>2.674300e+10</td>\n",
       "      <td>0.0</td>\n",
       "      <td>2013.0</td>\n",
       "      <td>-11.25</td>\n",
       "      <td>1.630222e+08</td>\n",
       "    </tr>\n",
       "    <tr>\n",
       "      <th>2</th>\n",
       "      <td>2</td>\n",
       "      <td>AAL</td>\n",
       "      <td>2014-12-31</td>\n",
       "      <td>4.668000e+09</td>\n",
       "      <td>-160000000.0</td>\n",
       "      <td>-1.500000e+08</td>\n",
       "      <td>143.0</td>\n",
       "      <td>-5.311000e+09</td>\n",
       "      <td>1.513500e+10</td>\n",
       "      <td>60.0</td>\n",
       "      <td>...</td>\n",
       "      <td>1.175000e+10</td>\n",
       "      <td>1.340400e+10</td>\n",
       "      <td>2.021000e+09</td>\n",
       "      <td>4.120400e+10</td>\n",
       "      <td>4.322500e+10</td>\n",
       "      <td>4.265000e+10</td>\n",
       "      <td>0.0</td>\n",
       "      <td>2014.0</td>\n",
       "      <td>4.02</td>\n",
       "      <td>7.169154e+08</td>\n",
       "    </tr>\n",
       "    <tr>\n",
       "      <th>3</th>\n",
       "      <td>3</td>\n",
       "      <td>AAL</td>\n",
       "      <td>2015-12-31</td>\n",
       "      <td>5.102000e+09</td>\n",
       "      <td>352000000.0</td>\n",
       "      <td>-7.080000e+08</td>\n",
       "      <td>135.0</td>\n",
       "      <td>-6.151000e+09</td>\n",
       "      <td>1.159100e+10</td>\n",
       "      <td>51.0</td>\n",
       "      <td>...</td>\n",
       "      <td>9.985000e+09</td>\n",
       "      <td>1.360500e+10</td>\n",
       "      <td>5.635000e+09</td>\n",
       "      <td>4.278000e+10</td>\n",
       "      <td>4.841500e+10</td>\n",
       "      <td>4.099000e+10</td>\n",
       "      <td>0.0</td>\n",
       "      <td>2015.0</td>\n",
       "      <td>11.39</td>\n",
       "      <td>6.681299e+08</td>\n",
       "    </tr>\n",
       "    <tr>\n",
       "      <th>4</th>\n",
       "      <td>4</td>\n",
       "      <td>AAP</td>\n",
       "      <td>2012-12-29</td>\n",
       "      <td>2.409453e+09</td>\n",
       "      <td>-89482000.0</td>\n",
       "      <td>6.000000e+05</td>\n",
       "      <td>32.0</td>\n",
       "      <td>-2.711820e+08</td>\n",
       "      <td>5.202150e+08</td>\n",
       "      <td>23.0</td>\n",
       "      <td>...</td>\n",
       "      <td>3.184200e+09</td>\n",
       "      <td>2.559638e+09</td>\n",
       "      <td>1.210694e+09</td>\n",
       "      <td>3.403120e+09</td>\n",
       "      <td>4.613814e+09</td>\n",
       "      <td>6.205003e+09</td>\n",
       "      <td>-27095000.0</td>\n",
       "      <td>2012.0</td>\n",
       "      <td>5.29</td>\n",
       "      <td>7.328355e+07</td>\n",
       "    </tr>\n",
       "  </tbody>\n",
       "</table>\n",
       "<p>5 rows × 79 columns</p>\n",
       "</div>"
      ],
      "text/plain": [
       "   Unnamed: 0 Ticker Symbol Period Ending  Accounts Payable  \\\n",
       "0           0           AAL    2012-12-31      3.068000e+09   \n",
       "1           1           AAL    2013-12-31      4.975000e+09   \n",
       "2           2           AAL    2014-12-31      4.668000e+09   \n",
       "3           3           AAL    2015-12-31      5.102000e+09   \n",
       "4           4           AAP    2012-12-29      2.409453e+09   \n",
       "\n",
       "   Accounts Receivable  Add'l income/expense items  After Tax ROE  \\\n",
       "0         -222000000.0               -1.961000e+09           23.0   \n",
       "1          -93000000.0               -2.723000e+09           67.0   \n",
       "2         -160000000.0               -1.500000e+08          143.0   \n",
       "3          352000000.0               -7.080000e+08          135.0   \n",
       "4          -89482000.0                6.000000e+05           32.0   \n",
       "\n",
       "   Capital Expenditures  Capital Surplus  Cash Ratio  \\\n",
       "0         -1.888000e+09     4.695000e+09        53.0   \n",
       "1         -3.114000e+09     1.059200e+10        75.0   \n",
       "2         -5.311000e+09     1.513500e+10        60.0   \n",
       "3         -6.151000e+09     1.159100e+10        51.0   \n",
       "4         -2.711820e+08     5.202150e+08        23.0   \n",
       "\n",
       "               ...               Total Current Assets  \\\n",
       "0              ...                       7.072000e+09   \n",
       "1              ...                       1.432300e+10   \n",
       "2              ...                       1.175000e+10   \n",
       "3              ...                       9.985000e+09   \n",
       "4              ...                       3.184200e+09   \n",
       "\n",
       "   Total Current Liabilities  Total Equity  Total Liabilities  \\\n",
       "0               9.011000e+09 -7.987000e+09       2.489100e+10   \n",
       "1               1.380600e+10 -2.731000e+09       4.500900e+10   \n",
       "2               1.340400e+10  2.021000e+09       4.120400e+10   \n",
       "3               1.360500e+10  5.635000e+09       4.278000e+10   \n",
       "4               2.559638e+09  1.210694e+09       3.403120e+09   \n",
       "\n",
       "   Total Liabilities & Equity  Total Revenue  Treasury Stock  For Year  \\\n",
       "0                1.690400e+10   2.485500e+10    -367000000.0    2012.0   \n",
       "1                4.227800e+10   2.674300e+10             0.0    2013.0   \n",
       "2                4.322500e+10   4.265000e+10             0.0    2014.0   \n",
       "3                4.841500e+10   4.099000e+10             0.0    2015.0   \n",
       "4                4.613814e+09   6.205003e+09     -27095000.0    2012.0   \n",
       "\n",
       "   Earnings Per Share  Estimated Shares Outstanding  \n",
       "0               -5.60                  3.350000e+08  \n",
       "1              -11.25                  1.630222e+08  \n",
       "2                4.02                  7.169154e+08  \n",
       "3               11.39                  6.681299e+08  \n",
       "4                5.29                  7.328355e+07  \n",
       "\n",
       "[5 rows x 79 columns]"
      ]
     },
     "execution_count": 13,
     "metadata": {},
     "output_type": "execute_result"
    }
   ],
   "source": [
    "# Let's see the fundamentals data\n",
    "print(fundamentals.shape)\n",
    "fundamentals.head()"
   ]
  },
  {
   "cell_type": "code",
   "execution_count": 14,
   "metadata": {
    "slideshow": {
     "slide_type": "slide"
    }
   },
   "outputs": [],
   "source": [
    "# Drop the first column since it's useless\n",
    "fundamentals.drop(labels='Unnamed: 0', inplace=True, axis=1)\n",
    "\n",
    "# Standardize the column labels usning the helper function we created so it's easier to reference the columns\n",
    "fundamentals =lowercase_with_underscore_header(fundamentals) \n",
    "\n",
    "# Crate a year column named 'year' for later on merge\n",
    "# I want to keep the 'for_year' column as float type for later on use\n",
    "fundamentals['year'] = fundamentals.period_ending.str[:4]\n"
   ]
  },
  {
   "cell_type": "code",
   "execution_count": 15,
   "metadata": {
    "slideshow": {
     "slide_type": "subslide"
    }
   },
   "outputs": [
    {
     "data": {
      "text/html": [
       "<div>\n",
       "<style scoped>\n",
       "    .dataframe tbody tr th:only-of-type {\n",
       "        vertical-align: middle;\n",
       "    }\n",
       "\n",
       "    .dataframe tbody tr th {\n",
       "        vertical-align: top;\n",
       "    }\n",
       "\n",
       "    .dataframe thead th {\n",
       "        text-align: right;\n",
       "    }\n",
       "</style>\n",
       "<table border=\"1\" class=\"dataframe\">\n",
       "  <thead>\n",
       "    <tr style=\"text-align: right;\">\n",
       "      <th></th>\n",
       "      <th>ticker_symbol</th>\n",
       "      <th>period_ending</th>\n",
       "      <th>accounts_payable</th>\n",
       "      <th>accounts_receivable</th>\n",
       "      <th>add'l_income/expense_items</th>\n",
       "      <th>after_tax_roe</th>\n",
       "      <th>capital_expenditures</th>\n",
       "      <th>capital_surplus</th>\n",
       "      <th>cash_ratio</th>\n",
       "      <th>cash_and_cash_equivalents</th>\n",
       "      <th>...</th>\n",
       "      <th>total_current_liabilities</th>\n",
       "      <th>total_equity</th>\n",
       "      <th>total_liabilities</th>\n",
       "      <th>total_liabilities_&amp;_equity</th>\n",
       "      <th>total_revenue</th>\n",
       "      <th>treasury_stock</th>\n",
       "      <th>for_year</th>\n",
       "      <th>earnings_per_share</th>\n",
       "      <th>estimated_shares_outstanding</th>\n",
       "      <th>year</th>\n",
       "    </tr>\n",
       "  </thead>\n",
       "  <tbody>\n",
       "    <tr>\n",
       "      <th>0</th>\n",
       "      <td>AAL</td>\n",
       "      <td>2012-12-31</td>\n",
       "      <td>3.068000e+09</td>\n",
       "      <td>-222000000.0</td>\n",
       "      <td>-1.961000e+09</td>\n",
       "      <td>23.0</td>\n",
       "      <td>-1.888000e+09</td>\n",
       "      <td>4.695000e+09</td>\n",
       "      <td>53.0</td>\n",
       "      <td>1.330000e+09</td>\n",
       "      <td>...</td>\n",
       "      <td>9.011000e+09</td>\n",
       "      <td>-7.987000e+09</td>\n",
       "      <td>2.489100e+10</td>\n",
       "      <td>1.690400e+10</td>\n",
       "      <td>2.485500e+10</td>\n",
       "      <td>-367000000.0</td>\n",
       "      <td>2012.0</td>\n",
       "      <td>-5.60</td>\n",
       "      <td>3.350000e+08</td>\n",
       "      <td>2012</td>\n",
       "    </tr>\n",
       "    <tr>\n",
       "      <th>1</th>\n",
       "      <td>AAL</td>\n",
       "      <td>2013-12-31</td>\n",
       "      <td>4.975000e+09</td>\n",
       "      <td>-93000000.0</td>\n",
       "      <td>-2.723000e+09</td>\n",
       "      <td>67.0</td>\n",
       "      <td>-3.114000e+09</td>\n",
       "      <td>1.059200e+10</td>\n",
       "      <td>75.0</td>\n",
       "      <td>2.175000e+09</td>\n",
       "      <td>...</td>\n",
       "      <td>1.380600e+10</td>\n",
       "      <td>-2.731000e+09</td>\n",
       "      <td>4.500900e+10</td>\n",
       "      <td>4.227800e+10</td>\n",
       "      <td>2.674300e+10</td>\n",
       "      <td>0.0</td>\n",
       "      <td>2013.0</td>\n",
       "      <td>-11.25</td>\n",
       "      <td>1.630222e+08</td>\n",
       "      <td>2013</td>\n",
       "    </tr>\n",
       "    <tr>\n",
       "      <th>2</th>\n",
       "      <td>AAL</td>\n",
       "      <td>2014-12-31</td>\n",
       "      <td>4.668000e+09</td>\n",
       "      <td>-160000000.0</td>\n",
       "      <td>-1.500000e+08</td>\n",
       "      <td>143.0</td>\n",
       "      <td>-5.311000e+09</td>\n",
       "      <td>1.513500e+10</td>\n",
       "      <td>60.0</td>\n",
       "      <td>1.768000e+09</td>\n",
       "      <td>...</td>\n",
       "      <td>1.340400e+10</td>\n",
       "      <td>2.021000e+09</td>\n",
       "      <td>4.120400e+10</td>\n",
       "      <td>4.322500e+10</td>\n",
       "      <td>4.265000e+10</td>\n",
       "      <td>0.0</td>\n",
       "      <td>2014.0</td>\n",
       "      <td>4.02</td>\n",
       "      <td>7.169154e+08</td>\n",
       "      <td>2014</td>\n",
       "    </tr>\n",
       "    <tr>\n",
       "      <th>3</th>\n",
       "      <td>AAL</td>\n",
       "      <td>2015-12-31</td>\n",
       "      <td>5.102000e+09</td>\n",
       "      <td>352000000.0</td>\n",
       "      <td>-7.080000e+08</td>\n",
       "      <td>135.0</td>\n",
       "      <td>-6.151000e+09</td>\n",
       "      <td>1.159100e+10</td>\n",
       "      <td>51.0</td>\n",
       "      <td>1.085000e+09</td>\n",
       "      <td>...</td>\n",
       "      <td>1.360500e+10</td>\n",
       "      <td>5.635000e+09</td>\n",
       "      <td>4.278000e+10</td>\n",
       "      <td>4.841500e+10</td>\n",
       "      <td>4.099000e+10</td>\n",
       "      <td>0.0</td>\n",
       "      <td>2015.0</td>\n",
       "      <td>11.39</td>\n",
       "      <td>6.681299e+08</td>\n",
       "      <td>2015</td>\n",
       "    </tr>\n",
       "    <tr>\n",
       "      <th>4</th>\n",
       "      <td>AAP</td>\n",
       "      <td>2012-12-29</td>\n",
       "      <td>2.409453e+09</td>\n",
       "      <td>-89482000.0</td>\n",
       "      <td>6.000000e+05</td>\n",
       "      <td>32.0</td>\n",
       "      <td>-2.711820e+08</td>\n",
       "      <td>5.202150e+08</td>\n",
       "      <td>23.0</td>\n",
       "      <td>5.981110e+08</td>\n",
       "      <td>...</td>\n",
       "      <td>2.559638e+09</td>\n",
       "      <td>1.210694e+09</td>\n",
       "      <td>3.403120e+09</td>\n",
       "      <td>4.613814e+09</td>\n",
       "      <td>6.205003e+09</td>\n",
       "      <td>-27095000.0</td>\n",
       "      <td>2012.0</td>\n",
       "      <td>5.29</td>\n",
       "      <td>7.328355e+07</td>\n",
       "      <td>2012</td>\n",
       "    </tr>\n",
       "  </tbody>\n",
       "</table>\n",
       "<p>5 rows × 79 columns</p>\n",
       "</div>"
      ],
      "text/plain": [
       "  ticker_symbol period_ending  accounts_payable  accounts_receivable  \\\n",
       "0           AAL    2012-12-31      3.068000e+09         -222000000.0   \n",
       "1           AAL    2013-12-31      4.975000e+09          -93000000.0   \n",
       "2           AAL    2014-12-31      4.668000e+09         -160000000.0   \n",
       "3           AAL    2015-12-31      5.102000e+09          352000000.0   \n",
       "4           AAP    2012-12-29      2.409453e+09          -89482000.0   \n",
       "\n",
       "   add'l_income/expense_items  after_tax_roe  capital_expenditures  \\\n",
       "0               -1.961000e+09           23.0         -1.888000e+09   \n",
       "1               -2.723000e+09           67.0         -3.114000e+09   \n",
       "2               -1.500000e+08          143.0         -5.311000e+09   \n",
       "3               -7.080000e+08          135.0         -6.151000e+09   \n",
       "4                6.000000e+05           32.0         -2.711820e+08   \n",
       "\n",
       "   capital_surplus  cash_ratio  cash_and_cash_equivalents  ...   \\\n",
       "0     4.695000e+09        53.0               1.330000e+09  ...    \n",
       "1     1.059200e+10        75.0               2.175000e+09  ...    \n",
       "2     1.513500e+10        60.0               1.768000e+09  ...    \n",
       "3     1.159100e+10        51.0               1.085000e+09  ...    \n",
       "4     5.202150e+08        23.0               5.981110e+08  ...    \n",
       "\n",
       "   total_current_liabilities  total_equity  total_liabilities  \\\n",
       "0               9.011000e+09 -7.987000e+09       2.489100e+10   \n",
       "1               1.380600e+10 -2.731000e+09       4.500900e+10   \n",
       "2               1.340400e+10  2.021000e+09       4.120400e+10   \n",
       "3               1.360500e+10  5.635000e+09       4.278000e+10   \n",
       "4               2.559638e+09  1.210694e+09       3.403120e+09   \n",
       "\n",
       "   total_liabilities_&_equity  total_revenue  treasury_stock  for_year  \\\n",
       "0                1.690400e+10   2.485500e+10    -367000000.0    2012.0   \n",
       "1                4.227800e+10   2.674300e+10             0.0    2013.0   \n",
       "2                4.322500e+10   4.265000e+10             0.0    2014.0   \n",
       "3                4.841500e+10   4.099000e+10             0.0    2015.0   \n",
       "4                4.613814e+09   6.205003e+09     -27095000.0    2012.0   \n",
       "\n",
       "   earnings_per_share  estimated_shares_outstanding  year  \n",
       "0               -5.60                  3.350000e+08  2012  \n",
       "1              -11.25                  1.630222e+08  2013  \n",
       "2                4.02                  7.169154e+08  2014  \n",
       "3               11.39                  6.681299e+08  2015  \n",
       "4                5.29                  7.328355e+07  2012  \n",
       "\n",
       "[5 rows x 79 columns]"
      ]
     },
     "execution_count": 15,
     "metadata": {},
     "output_type": "execute_result"
    }
   ],
   "source": [
    "# Headers look better now\n",
    "fundamentals.head() "
   ]
  },
  {
   "cell_type": "code",
   "execution_count": 16,
   "metadata": {
    "slideshow": {
     "slide_type": "subslide"
    }
   },
   "outputs": [
    {
     "data": {
      "text/html": [
       "<div>\n",
       "<style scoped>\n",
       "    .dataframe tbody tr th:only-of-type {\n",
       "        vertical-align: middle;\n",
       "    }\n",
       "\n",
       "    .dataframe tbody tr th {\n",
       "        vertical-align: top;\n",
       "    }\n",
       "\n",
       "    .dataframe thead th {\n",
       "        text-align: right;\n",
       "    }\n",
       "</style>\n",
       "<table border=\"1\" class=\"dataframe\">\n",
       "  <thead>\n",
       "    <tr style=\"text-align: right;\">\n",
       "      <th></th>\n",
       "      <th>date</th>\n",
       "      <th>symbol</th>\n",
       "      <th>open</th>\n",
       "      <th>close</th>\n",
       "      <th>low</th>\n",
       "      <th>high</th>\n",
       "      <th>volume</th>\n",
       "    </tr>\n",
       "  </thead>\n",
       "  <tbody>\n",
       "    <tr>\n",
       "      <th>0</th>\n",
       "      <td>2016-01-05</td>\n",
       "      <td>WLTW</td>\n",
       "      <td>123.430000</td>\n",
       "      <td>125.839996</td>\n",
       "      <td>122.309998</td>\n",
       "      <td>126.250000</td>\n",
       "      <td>2163600.0</td>\n",
       "    </tr>\n",
       "    <tr>\n",
       "      <th>1</th>\n",
       "      <td>2016-01-06</td>\n",
       "      <td>WLTW</td>\n",
       "      <td>125.239998</td>\n",
       "      <td>119.980003</td>\n",
       "      <td>119.940002</td>\n",
       "      <td>125.540001</td>\n",
       "      <td>2386400.0</td>\n",
       "    </tr>\n",
       "    <tr>\n",
       "      <th>2</th>\n",
       "      <td>2016-01-07</td>\n",
       "      <td>WLTW</td>\n",
       "      <td>116.379997</td>\n",
       "      <td>114.949997</td>\n",
       "      <td>114.930000</td>\n",
       "      <td>119.739998</td>\n",
       "      <td>2489500.0</td>\n",
       "    </tr>\n",
       "    <tr>\n",
       "      <th>3</th>\n",
       "      <td>2016-01-08</td>\n",
       "      <td>WLTW</td>\n",
       "      <td>115.480003</td>\n",
       "      <td>116.620003</td>\n",
       "      <td>113.500000</td>\n",
       "      <td>117.440002</td>\n",
       "      <td>2006300.0</td>\n",
       "    </tr>\n",
       "    <tr>\n",
       "      <th>4</th>\n",
       "      <td>2016-01-11</td>\n",
       "      <td>WLTW</td>\n",
       "      <td>117.010002</td>\n",
       "      <td>114.970001</td>\n",
       "      <td>114.089996</td>\n",
       "      <td>117.330002</td>\n",
       "      <td>1408600.0</td>\n",
       "    </tr>\n",
       "  </tbody>\n",
       "</table>\n",
       "</div>"
      ],
      "text/plain": [
       "         date symbol        open       close         low        high  \\\n",
       "0  2016-01-05   WLTW  123.430000  125.839996  122.309998  126.250000   \n",
       "1  2016-01-06   WLTW  125.239998  119.980003  119.940002  125.540001   \n",
       "2  2016-01-07   WLTW  116.379997  114.949997  114.930000  119.739998   \n",
       "3  2016-01-08   WLTW  115.480003  116.620003  113.500000  117.440002   \n",
       "4  2016-01-11   WLTW  117.010002  114.970001  114.089996  117.330002   \n",
       "\n",
       "      volume  \n",
       "0  2163600.0  \n",
       "1  2386400.0  \n",
       "2  2489500.0  \n",
       "3  2006300.0  \n",
       "4  1408600.0  "
      ]
     },
     "execution_count": 16,
     "metadata": {},
     "output_type": "execute_result"
    }
   ],
   "source": [
    "# Now let's take a look at the prices data\n",
    "prices.head()"
   ]
  },
  {
   "cell_type": "code",
   "execution_count": 17,
   "metadata": {
    "slideshow": {
     "slide_type": "subslide"
    }
   },
   "outputs": [
    {
     "data": {
      "text/html": [
       "<div>\n",
       "<style scoped>\n",
       "    .dataframe tbody tr th:only-of-type {\n",
       "        vertical-align: middle;\n",
       "    }\n",
       "\n",
       "    .dataframe tbody tr th {\n",
       "        vertical-align: top;\n",
       "    }\n",
       "\n",
       "    .dataframe thead th {\n",
       "        text-align: right;\n",
       "    }\n",
       "</style>\n",
       "<table border=\"1\" class=\"dataframe\">\n",
       "  <thead>\n",
       "    <tr style=\"text-align: right;\">\n",
       "      <th></th>\n",
       "      <th>symbol</th>\n",
       "      <th>price_year</th>\n",
       "      <th>close</th>\n",
       "    </tr>\n",
       "  </thead>\n",
       "  <tbody>\n",
       "    <tr>\n",
       "      <th>1593</th>\n",
       "      <td>IBM</td>\n",
       "      <td>2010</td>\n",
       "      <td>131.865238</td>\n",
       "    </tr>\n",
       "    <tr>\n",
       "      <th>1594</th>\n",
       "      <td>IBM</td>\n",
       "      <td>2011</td>\n",
       "      <td>170.924285</td>\n",
       "    </tr>\n",
       "    <tr>\n",
       "      <th>1595</th>\n",
       "      <td>IBM</td>\n",
       "      <td>2012</td>\n",
       "      <td>196.590959</td>\n",
       "    </tr>\n",
       "    <tr>\n",
       "      <th>1596</th>\n",
       "      <td>IBM</td>\n",
       "      <td>2013</td>\n",
       "      <td>194.148770</td>\n",
       "    </tr>\n",
       "    <tr>\n",
       "      <th>1597</th>\n",
       "      <td>IBM</td>\n",
       "      <td>2014</td>\n",
       "      <td>182.304127</td>\n",
       "    </tr>\n",
       "    <tr>\n",
       "      <th>1598</th>\n",
       "      <td>IBM</td>\n",
       "      <td>2015</td>\n",
       "      <td>155.351944</td>\n",
       "    </tr>\n",
       "    <tr>\n",
       "      <th>1599</th>\n",
       "      <td>IBM</td>\n",
       "      <td>2016</td>\n",
       "      <td>150.514921</td>\n",
       "    </tr>\n",
       "  </tbody>\n",
       "</table>\n",
       "</div>"
      ],
      "text/plain": [
       "     symbol price_year       close\n",
       "1593    IBM       2010  131.865238\n",
       "1594    IBM       2011  170.924285\n",
       "1595    IBM       2012  196.590959\n",
       "1596    IBM       2013  194.148770\n",
       "1597    IBM       2014  182.304127\n",
       "1598    IBM       2015  155.351944\n",
       "1599    IBM       2016  150.514921"
      ]
     },
     "execution_count": 17,
     "metadata": {},
     "output_type": "execute_result"
    }
   ],
   "source": [
    "# Here we need to tie the prices to the fundamentals dataset\n",
    "# Since the prices data is daily but the fundamentasls is yearly, I am converting the price to annaul by just using the mean\n",
    "\n",
    "prices['price_year'] = prices.date.str[:4] # add a column called 'price_year'\n",
    "\n",
    "# group by symbol and year\n",
    "yearly_prices = prices.groupby(['symbol','price_year']).close.mean().reset_index()\n",
    "\n",
    "#let's pick IBM and check \n",
    "yearly_prices[yearly_prices['symbol']=='IBM']"
   ]
  },
  {
   "cell_type": "code",
   "execution_count": 18,
   "metadata": {
    "slideshow": {
     "slide_type": "slide"
    }
   },
   "outputs": [],
   "source": [
    "# Now we can merge fundamentals and prices and name it master\n",
    "\n",
    "master = fundamentals.merge(yearly_prices, \n",
    "                            left_on=['ticker_symbol', 'year'],\n",
    "                            right_on=['symbol', 'price_year'],\n",
    "                            how='inner' # use inner join becasue I don't need the ones without price\n",
    "                            )\n",
    "master.rename(columns={'close':'yearly_price'}, inplace=True) # change the name for the price "
   ]
  },
  {
   "cell_type": "code",
   "execution_count": 19,
   "metadata": {
    "slideshow": {
     "slide_type": "subslide"
    }
   },
   "outputs": [
    {
     "data": {
      "text/html": [
       "<div>\n",
       "<style scoped>\n",
       "    .dataframe tbody tr th:only-of-type {\n",
       "        vertical-align: middle;\n",
       "    }\n",
       "\n",
       "    .dataframe tbody tr th {\n",
       "        vertical-align: top;\n",
       "    }\n",
       "\n",
       "    .dataframe thead th {\n",
       "        text-align: right;\n",
       "    }\n",
       "</style>\n",
       "<table border=\"1\" class=\"dataframe\">\n",
       "  <thead>\n",
       "    <tr style=\"text-align: right;\">\n",
       "      <th></th>\n",
       "      <th>Ticker symbol</th>\n",
       "      <th>Security</th>\n",
       "      <th>SEC filings</th>\n",
       "      <th>GICS Sector</th>\n",
       "      <th>GICS Sub Industry</th>\n",
       "      <th>Address of Headquarters</th>\n",
       "      <th>Date first added</th>\n",
       "      <th>CIK</th>\n",
       "    </tr>\n",
       "  </thead>\n",
       "  <tbody>\n",
       "    <tr>\n",
       "      <th>0</th>\n",
       "      <td>MMM</td>\n",
       "      <td>3M Company</td>\n",
       "      <td>reports</td>\n",
       "      <td>Industrials</td>\n",
       "      <td>Industrial Conglomerates</td>\n",
       "      <td>St. Paul, Minnesota</td>\n",
       "      <td>NaN</td>\n",
       "      <td>66740</td>\n",
       "    </tr>\n",
       "    <tr>\n",
       "      <th>1</th>\n",
       "      <td>ABT</td>\n",
       "      <td>Abbott Laboratories</td>\n",
       "      <td>reports</td>\n",
       "      <td>Health Care</td>\n",
       "      <td>Health Care Equipment</td>\n",
       "      <td>North Chicago, Illinois</td>\n",
       "      <td>1964-03-31</td>\n",
       "      <td>1800</td>\n",
       "    </tr>\n",
       "    <tr>\n",
       "      <th>2</th>\n",
       "      <td>ABBV</td>\n",
       "      <td>AbbVie</td>\n",
       "      <td>reports</td>\n",
       "      <td>Health Care</td>\n",
       "      <td>Pharmaceuticals</td>\n",
       "      <td>North Chicago, Illinois</td>\n",
       "      <td>2012-12-31</td>\n",
       "      <td>1551152</td>\n",
       "    </tr>\n",
       "    <tr>\n",
       "      <th>3</th>\n",
       "      <td>ACN</td>\n",
       "      <td>Accenture plc</td>\n",
       "      <td>reports</td>\n",
       "      <td>Information Technology</td>\n",
       "      <td>IT Consulting &amp; Other Services</td>\n",
       "      <td>Dublin, Ireland</td>\n",
       "      <td>2011-07-06</td>\n",
       "      <td>1467373</td>\n",
       "    </tr>\n",
       "    <tr>\n",
       "      <th>4</th>\n",
       "      <td>ATVI</td>\n",
       "      <td>Activision Blizzard</td>\n",
       "      <td>reports</td>\n",
       "      <td>Information Technology</td>\n",
       "      <td>Home Entertainment Software</td>\n",
       "      <td>Santa Monica, California</td>\n",
       "      <td>2015-08-31</td>\n",
       "      <td>718877</td>\n",
       "    </tr>\n",
       "  </tbody>\n",
       "</table>\n",
       "</div>"
      ],
      "text/plain": [
       "  Ticker symbol             Security SEC filings             GICS Sector  \\\n",
       "0           MMM           3M Company     reports             Industrials   \n",
       "1           ABT  Abbott Laboratories     reports             Health Care   \n",
       "2          ABBV               AbbVie     reports             Health Care   \n",
       "3           ACN        Accenture plc     reports  Information Technology   \n",
       "4          ATVI  Activision Blizzard     reports  Information Technology   \n",
       "\n",
       "                GICS Sub Industry   Address of Headquarters Date first added  \\\n",
       "0        Industrial Conglomerates       St. Paul, Minnesota              NaN   \n",
       "1           Health Care Equipment   North Chicago, Illinois       1964-03-31   \n",
       "2                 Pharmaceuticals   North Chicago, Illinois       2012-12-31   \n",
       "3  IT Consulting & Other Services           Dublin, Ireland       2011-07-06   \n",
       "4     Home Entertainment Software  Santa Monica, California       2015-08-31   \n",
       "\n",
       "       CIK  \n",
       "0    66740  \n",
       "1     1800  \n",
       "2  1551152  \n",
       "3  1467373  \n",
       "4   718877  "
      ]
     },
     "execution_count": 19,
     "metadata": {},
     "output_type": "execute_result"
    }
   ],
   "source": [
    "# Now the last file - securities. \n",
    "securities.head()"
   ]
  },
  {
   "cell_type": "code",
   "execution_count": 20,
   "metadata": {
    "slideshow": {
     "slide_type": "subslide"
    }
   },
   "outputs": [
    {
     "data": {
      "text/plain": [
       "Ticker symbol                0\n",
       "Security                     0\n",
       "SEC filings                  0\n",
       "GICS Sector                  0\n",
       "GICS Sub Industry            0\n",
       "Address of Headquarters      0\n",
       "Date first added           198\n",
       "CIK                          0\n",
       "dtype: int64"
      ]
     },
     "execution_count": 20,
     "metadata": {},
     "output_type": "execute_result"
    }
   ],
   "source": [
    "# I am only interested in the GICS Sector and sub industry. Confirm if we have all data populated\n",
    "securities.isnull().sum()"
   ]
  },
  {
   "cell_type": "code",
   "execution_count": 21,
   "metadata": {
    "slideshow": {
     "slide_type": "slide"
    }
   },
   "outputs": [],
   "source": [
    "# Good. looks like there is not much work we need to do with the securites data,  \n",
    "# Simply just merge this to the master file \n",
    "\n",
    "master = master.merge(securities, \n",
    "                      left_on='ticker_symbol',\n",
    "                      right_on='Ticker symbol',\n",
    "                      how='left'\n",
    "                     )\n",
    "\n",
    "master.drop(labels='Ticker symbol', inplace=True, axis=1) # drop dupe ticker column\n",
    "master = lowercase_with_underscore_header(master) # convert the column labels for evertying again\n"
   ]
  },
  {
   "cell_type": "code",
   "execution_count": 22,
   "metadata": {
    "slideshow": {
     "slide_type": "subslide"
    }
   },
   "outputs": [
    {
     "data": {
      "text/plain": [
       "0"
      ]
     },
     "execution_count": 22,
     "metadata": {},
     "output_type": "execute_result"
    }
   ],
   "source": [
    "# Just double check we are not missing the price data\n",
    "master.yearly_price.isnull().sum()"
   ]
  },
  {
   "cell_type": "code",
   "execution_count": 23,
   "metadata": {
    "slideshow": {
     "slide_type": "slide"
    }
   },
   "outputs": [],
   "source": [
    "# Now we are done with merging all three files. Time for some feature engineering\n",
    "# Make a column for PE ratio which is price devided by earning per share\n",
    "\n",
    "master['pe_ratio'] = master.yearly_price/master.earnings_per_share  \n"
   ]
  },
  {
   "cell_type": "code",
   "execution_count": 24,
   "metadata": {
    "slideshow": {
     "slide_type": "slide"
    }
   },
   "outputs": [],
   "source": [
    "# Ok, here we have a problem...\n",
    "# The actual values of most fundamentals variables actually are not really useful\n",
    "# Because we cannot perform individual ticker level prediction given the limited amount of data per ticker\n",
    "# I need to standardize the values, making them comparable across tickers\n",
    "# The way to do this is I will use the year-over-year growth rate for all measures that are numeric\n",
    "\n",
    "# there must be some other way to do this more efficiently but I will go with this fucntion for now \n",
    "# since performance is not the primary concern right now\n",
    "def get_yoy_rate(df, feature, ticker, year):\n",
    "    '''get year-over-year rate\n",
    "    \n",
    "     Args:\n",
    "         df(pandas DataFrame instance): your dataframe obj. Needs to have columns ['for_year','ticker_symbol','your_feature']\n",
    "         feature(str): feature/column name. Values for the feature must be numeric. Can only take one feature\n",
    "         ticker(str): target ticker\n",
    "         year(int): target year\n",
    "         \n",
    "     Returns:\n",
    "         year-over-year growth rate (float)\n",
    "         \n",
    "    '''\n",
    "    if isinstance(year,(int, float)): # by pass if year is not available\n",
    "        last_year_value = df[feature][(df['for_year'] == year - 1) & (df['ticker_symbol'] == ticker)].values \n",
    "        if last_year_value and isinstance(last_year_value[0],(float, int)): # if value is not numeric then do nothing (return None)\n",
    "            current_year_value = df[feature][(df['for_year'] == year) & (df['ticker_symbol'] == ticker)].values[0]\n",
    "            return float(current_year_value - last_year_value[0]) / last_year_value[0] \n"
   ]
  },
  {
   "cell_type": "code",
   "execution_count": 25,
   "metadata": {
    "slideshow": {
     "slide_type": "subslide"
    }
   },
   "outputs": [
    {
     "data": {
      "text/plain": [
       "\"\\nyoy_data_arr = []\\nfor col in master.columns:\\n    yoy_list = []\\n    for index, row in master.iterrows():\\n        ticker = row['ticker_symbol']\\n        year = row['for_year']\\n        yoy_list.append(get_yoy_rate(master, col, ticker, year))\\n    yoy_data_arr.append(yoy_list)\\n    \\n# transpose the data and assign the column names\\n_transposed = pd.DataFrame(yoy_data_arr).transpose()\\ncolumn_names_map = {index:name for index, name in enumerate(master.columns)}\\nyoy_data = _transposed.rename(columns=column_names_map)\\n\\n# for columns that do not have numertical values, replace with the original values\\ntemp_series = yoy_data.sum().isnull()\\nnon_numeric_cols = temp_series[temp_series==True].index\\nfor each_col in non_numeric_cols: \\n    yoy_data[each_col] = master[each_col]\\n\\n# save as csv so I don't have to do this again\\nyoy_data.to_csv('master_yoy.csv')\\n\""
      ]
     },
     "execution_count": 25,
     "metadata": {},
     "output_type": "execute_result"
    }
   ],
   "source": [
    "# Writing a for loop and tranform everything into growth rate\n",
    "# Note apprently this will take a good amount of time so I will save the reuslt as a csv file named 'master_yoy.csv'\n",
    "# uncomment the following codes if need to reproduce the result\n",
    "\n",
    "\"\"\"\n",
    "yoy_data_arr = []\n",
    "for col in master.columns:\n",
    "    yoy_list = []\n",
    "    for index, row in master.iterrows():\n",
    "        ticker = row['ticker_symbol']\n",
    "        year = row['for_year']\n",
    "        yoy_list.append(get_yoy_rate(master, col, ticker, year))\n",
    "    yoy_data_arr.append(yoy_list)\n",
    "    \n",
    "# transpose the data and assign the column names\n",
    "_transposed = pd.DataFrame(yoy_data_arr).transpose()\n",
    "column_names_map = {index:name for index, name in enumerate(master.columns)}\n",
    "yoy_data = _transposed.rename(columns=column_names_map)\n",
    "\n",
    "# for columns that do not have numertical values, replace with the original values\n",
    "temp_series = yoy_data.sum().isnull()\n",
    "non_numeric_cols = temp_series[temp_series==True].index\n",
    "for each_col in non_numeric_cols: \n",
    "    yoy_data[each_col] = master[each_col]\n",
    "\n",
    "# save as csv so I don't have to do this again\n",
    "yoy_data.to_csv('master_yoy.csv')\n",
    "\"\"\""
   ]
  },
  {
   "cell_type": "code",
   "execution_count": 26,
   "metadata": {
    "slideshow": {
     "slide_type": "slide"
    }
   },
   "outputs": [
    {
     "data": {
      "text/html": [
       "<div>\n",
       "<style scoped>\n",
       "    .dataframe tbody tr th:only-of-type {\n",
       "        vertical-align: middle;\n",
       "    }\n",
       "\n",
       "    .dataframe tbody tr th {\n",
       "        vertical-align: top;\n",
       "    }\n",
       "\n",
       "    .dataframe thead th {\n",
       "        text-align: right;\n",
       "    }\n",
       "</style>\n",
       "<table border=\"1\" class=\"dataframe\">\n",
       "  <thead>\n",
       "    <tr style=\"text-align: right;\">\n",
       "      <th></th>\n",
       "      <th>ticker_symbol</th>\n",
       "      <th>period_ending</th>\n",
       "      <th>accounts_payable</th>\n",
       "      <th>accounts_receivable</th>\n",
       "      <th>add'l_income/expense_items</th>\n",
       "      <th>after_tax_roe</th>\n",
       "      <th>capital_expenditures</th>\n",
       "      <th>capital_surplus</th>\n",
       "      <th>cash_ratio</th>\n",
       "      <th>cash_and_cash_equivalents</th>\n",
       "      <th>...</th>\n",
       "      <th>price_year</th>\n",
       "      <th>yearly_price</th>\n",
       "      <th>security</th>\n",
       "      <th>sec_filings</th>\n",
       "      <th>gics_sector</th>\n",
       "      <th>gics_sub_industry</th>\n",
       "      <th>address_of_headquarters</th>\n",
       "      <th>date_first_added</th>\n",
       "      <th>cik</th>\n",
       "      <th>pe_ratio</th>\n",
       "    </tr>\n",
       "  </thead>\n",
       "  <tbody>\n",
       "    <tr>\n",
       "      <th>0</th>\n",
       "      <td>AAL</td>\n",
       "      <td>12/31/2012</td>\n",
       "      <td>NaN</td>\n",
       "      <td>NaN</td>\n",
       "      <td>NaN</td>\n",
       "      <td>NaN</td>\n",
       "      <td>NaN</td>\n",
       "      <td>NaN</td>\n",
       "      <td>NaN</td>\n",
       "      <td>NaN</td>\n",
       "      <td>...</td>\n",
       "      <td>2012</td>\n",
       "      <td>NaN</td>\n",
       "      <td>American Airlines Group</td>\n",
       "      <td>reports</td>\n",
       "      <td>Industrials</td>\n",
       "      <td>Airlines</td>\n",
       "      <td>Fort Worth, Texas</td>\n",
       "      <td>3/23/2015</td>\n",
       "      <td>6201</td>\n",
       "      <td>NaN</td>\n",
       "    </tr>\n",
       "    <tr>\n",
       "      <th>1</th>\n",
       "      <td>AAL</td>\n",
       "      <td>12/31/2013</td>\n",
       "      <td>0.621578</td>\n",
       "      <td>-0.581081</td>\n",
       "      <td>0.388577</td>\n",
       "      <td>1.913043</td>\n",
       "      <td>0.649364</td>\n",
       "      <td>1.256017</td>\n",
       "      <td>0.415094</td>\n",
       "      <td>0.635338</td>\n",
       "      <td>...</td>\n",
       "      <td>2013</td>\n",
       "      <td>0.732818</td>\n",
       "      <td>American Airlines Group</td>\n",
       "      <td>reports</td>\n",
       "      <td>Industrials</td>\n",
       "      <td>Airlines</td>\n",
       "      <td>Fort Worth, Texas</td>\n",
       "      <td>3/23/2015</td>\n",
       "      <td>6201</td>\n",
       "      <td>-0.137442</td>\n",
       "    </tr>\n",
       "    <tr>\n",
       "      <th>2</th>\n",
       "      <td>AAL</td>\n",
       "      <td>12/31/2014</td>\n",
       "      <td>-0.061709</td>\n",
       "      <td>0.720430</td>\n",
       "      <td>-0.944914</td>\n",
       "      <td>1.134328</td>\n",
       "      <td>0.705523</td>\n",
       "      <td>0.428909</td>\n",
       "      <td>-0.200000</td>\n",
       "      <td>-0.187126</td>\n",
       "      <td>...</td>\n",
       "      <td>2014</td>\n",
       "      <td>1.140081</td>\n",
       "      <td>American Airlines Group</td>\n",
       "      <td>reports</td>\n",
       "      <td>Industrials</td>\n",
       "      <td>Airlines</td>\n",
       "      <td>Fort Worth, Texas</td>\n",
       "      <td>3/23/2015</td>\n",
       "      <td>6201</td>\n",
       "      <td>-6.989032</td>\n",
       "    </tr>\n",
       "    <tr>\n",
       "      <th>3</th>\n",
       "      <td>AAL</td>\n",
       "      <td>12/31/2015</td>\n",
       "      <td>0.092973</td>\n",
       "      <td>-3.200000</td>\n",
       "      <td>3.720000</td>\n",
       "      <td>-0.055944</td>\n",
       "      <td>0.158162</td>\n",
       "      <td>-0.234159</td>\n",
       "      <td>-0.150000</td>\n",
       "      <td>-0.386312</td>\n",
       "      <td>...</td>\n",
       "      <td>2015</td>\n",
       "      <td>0.159246</td>\n",
       "      <td>American Airlines Group</td>\n",
       "      <td>reports</td>\n",
       "      <td>Industrials</td>\n",
       "      <td>Airlines</td>\n",
       "      <td>Fort Worth, Texas</td>\n",
       "      <td>3/23/2015</td>\n",
       "      <td>6201</td>\n",
       "      <td>-0.590854</td>\n",
       "    </tr>\n",
       "    <tr>\n",
       "      <th>4</th>\n",
       "      <td>AAP</td>\n",
       "      <td>12/29/2012</td>\n",
       "      <td>NaN</td>\n",
       "      <td>NaN</td>\n",
       "      <td>NaN</td>\n",
       "      <td>NaN</td>\n",
       "      <td>NaN</td>\n",
       "      <td>NaN</td>\n",
       "      <td>NaN</td>\n",
       "      <td>NaN</td>\n",
       "      <td>...</td>\n",
       "      <td>2012</td>\n",
       "      <td>NaN</td>\n",
       "      <td>Advance Auto Parts</td>\n",
       "      <td>reports</td>\n",
       "      <td>Consumer Discretionary</td>\n",
       "      <td>Automotive Retail</td>\n",
       "      <td>Roanoke, Virginia</td>\n",
       "      <td>7/9/2015</td>\n",
       "      <td>1158449</td>\n",
       "      <td>NaN</td>\n",
       "    </tr>\n",
       "  </tbody>\n",
       "</table>\n",
       "<p>5 rows × 90 columns</p>\n",
       "</div>"
      ],
      "text/plain": [
       "  ticker_symbol period_ending  accounts_payable  accounts_receivable  \\\n",
       "0           AAL    12/31/2012               NaN                  NaN   \n",
       "1           AAL    12/31/2013          0.621578            -0.581081   \n",
       "2           AAL    12/31/2014         -0.061709             0.720430   \n",
       "3           AAL    12/31/2015          0.092973            -3.200000   \n",
       "4           AAP    12/29/2012               NaN                  NaN   \n",
       "\n",
       "   add'l_income/expense_items  after_tax_roe  capital_expenditures  \\\n",
       "0                         NaN            NaN                   NaN   \n",
       "1                    0.388577       1.913043              0.649364   \n",
       "2                   -0.944914       1.134328              0.705523   \n",
       "3                    3.720000      -0.055944              0.158162   \n",
       "4                         NaN            NaN                   NaN   \n",
       "\n",
       "   capital_surplus  cash_ratio  cash_and_cash_equivalents    ...     \\\n",
       "0              NaN         NaN                        NaN    ...      \n",
       "1         1.256017    0.415094                   0.635338    ...      \n",
       "2         0.428909   -0.200000                  -0.187126    ...      \n",
       "3        -0.234159   -0.150000                  -0.386312    ...      \n",
       "4              NaN         NaN                        NaN    ...      \n",
       "\n",
       "   price_year  yearly_price                 security  sec_filings  \\\n",
       "0        2012           NaN  American Airlines Group      reports   \n",
       "1        2013      0.732818  American Airlines Group      reports   \n",
       "2        2014      1.140081  American Airlines Group      reports   \n",
       "3        2015      0.159246  American Airlines Group      reports   \n",
       "4        2012           NaN       Advance Auto Parts      reports   \n",
       "\n",
       "              gics_sector  gics_sub_industry  address_of_headquarters  \\\n",
       "0             Industrials           Airlines        Fort Worth, Texas   \n",
       "1             Industrials           Airlines        Fort Worth, Texas   \n",
       "2             Industrials           Airlines        Fort Worth, Texas   \n",
       "3             Industrials           Airlines        Fort Worth, Texas   \n",
       "4  Consumer Discretionary  Automotive Retail        Roanoke, Virginia   \n",
       "\n",
       "   date_first_added      cik  pe_ratio  \n",
       "0         3/23/2015     6201       NaN  \n",
       "1         3/23/2015     6201 -0.137442  \n",
       "2         3/23/2015     6201 -6.989032  \n",
       "3         3/23/2015     6201 -0.590854  \n",
       "4          7/9/2015  1158449       NaN  \n",
       "\n",
       "[5 rows x 90 columns]"
      ]
     },
     "execution_count": 26,
     "metadata": {},
     "output_type": "execute_result"
    }
   ],
   "source": [
    "# ok we will start with a fresh engineered data here\n",
    "# Notice, everything now is in year-over-year rate\n",
    "master_yoy = pd.read_csv('master_yoy.csv')\n",
    "master_yoy.head()\n"
   ]
  },
  {
   "cell_type": "code",
   "execution_count": 27,
   "metadata": {
    "slideshow": {
     "slide_type": "slide"
    }
   },
   "outputs": [
    {
     "name": "stderr",
     "output_type": "stream",
     "text": [
      "/anaconda3/lib/python3.6/site-packages/matplotlib/axes/_axes.py:6462: UserWarning: The 'normed' kwarg is deprecated, and has been replaced by the 'density' kwarg.\n",
      "  warnings.warn(\"The 'normed' kwarg is deprecated, and has been \"\n"
     ]
    },
    {
     "data": {
      "text/plain": [
       "<matplotlib.axes._subplots.AxesSubplot at 0x1167b9588>"
      ]
     },
     "execution_count": 27,
     "metadata": {},
     "output_type": "execute_result"
    },
    {
     "data": {
      "image/png": "[encoded data removed]",
      "text/plain": [
       "<Figure size 576x432 with 1 Axes>"
      ]
     },
     "metadata": {},
     "output_type": "display_data"
    }
   ],
   "source": [
    "# Just pick one feature and check the distribution\n",
    "# now it does look pretty centralized\n",
    "data = master_yoy[['yearly_price']]\n",
    "sns.distplot(data.dropna(), axlabel='YOY Price Growth Distribution')"
   ]
  },
  {
   "cell_type": "code",
   "execution_count": 28,
   "metadata": {
    "slideshow": {
     "slide_type": "slide"
    }
   },
   "outputs": [
    {
     "data": {
      "text/plain": [
       "<matplotlib.axes._subplots.AxesSubplot at 0x11df7f630>"
      ]
     },
     "execution_count": 28,
     "metadata": {},
     "output_type": "execute_result"
    },
    {
     "data": {
      "image/png": "[encoded data removed]",
      "text/plain": [
       "<Figure size 576x432 with 2 Axes>"
      ]
     },
     "metadata": {},
     "output_type": "display_data"
    }
   ],
   "source": [
    "# See the correlation matrix just to get a sense\n",
    "sns.heatmap(master_yoy.corr())"
   ]
  },
  {
   "cell_type": "code",
   "execution_count": 29,
   "metadata": {
    "slideshow": {
     "slide_type": "slide"
    }
   },
   "outputs": [
    {
     "data": {
      "text/plain": [
       "<seaborn.axisgrid.PairGrid at 0x116385128>"
      ]
     },
     "execution_count": 29,
     "metadata": {},
     "output_type": "execute_result"
    },
    {
     "data": {
      "image/png": "[encoded data removed]",
      "text/plain": [
       "<Figure size 360x180 with 2 Axes>"
      ]
     },
     "metadata": {},
     "output_type": "display_data"
    }
   ],
   "source": [
    "# plot to see the pe ratio vs certain features for top 10 companies\n",
    "# multiple scatterplots in Seaborn\n",
    "\n",
    "feature_cols = ['pe_ratio','after_tax_roe']\n",
    "sns.pairplot(master_yoy, x_vars=feature_cols, y_vars='yearly_price',kind='reg')\n"
   ]
  },
  {
   "cell_type": "code",
   "execution_count": 30,
   "metadata": {
    "slideshow": {
     "slide_type": "slide"
    }
   },
   "outputs": [
    {
     "data": {
      "text/plain": [
       "<seaborn.axisgrid.PairGrid at 0x119e8e438>"
      ]
     },
     "execution_count": 30,
     "metadata": {},
     "output_type": "execute_result"
    },
    {
     "data": {
      "image/png": "[encoded data removed]",
      "text/plain": [
       "<Figure size 360x180 with 2 Axes>"
      ]
     },
     "metadata": {},
     "output_type": "display_data"
    }
   ],
   "source": [
    "# compare to the original (prior to the yoy transormation), the transformation does make more sense\n",
    "sns.pairplot(master, x_vars=feature_cols, y_vars='yearly_price',kind='reg')"
   ]
  },
  {
   "cell_type": "code",
   "execution_count": 31,
   "metadata": {
    "slideshow": {
     "slide_type": "slide"
    }
   },
   "outputs": [
    {
     "data": {
      "text/plain": [
       "Consumer Discretionary         311\n",
       "Industrials                    246\n",
       "Information Technology         234\n",
       "Financials                     199\n",
       "Health Care                    191\n",
       "Consumer Staples               128\n",
       "Energy                         122\n",
       "Real Estate                    108\n",
       "Utilities                       96\n",
       "Materials                       94\n",
       "Telecommunications Services     20\n",
       "Name: gics_sector, dtype: int64"
      ]
     },
     "execution_count": 31,
     "metadata": {},
     "output_type": "execute_result"
    }
   ],
   "source": [
    "# now a bit more exploratory with the non-numerical data\n",
    "# First check the largest sectors\n",
    "master_yoy.gics_sector.value_counts()"
   ]
  },
  {
   "cell_type": "code",
   "execution_count": 32,
   "metadata": {
    "slideshow": {
     "slide_type": "subslide"
    }
   },
   "outputs": [
    {
     "data": {
      "text/html": [
       "<div>\n",
       "<style scoped>\n",
       "    .dataframe tbody tr th:only-of-type {\n",
       "        vertical-align: middle;\n",
       "    }\n",
       "\n",
       "    .dataframe tbody tr th {\n",
       "        vertical-align: top;\n",
       "    }\n",
       "\n",
       "    .dataframe thead th {\n",
       "        text-align: right;\n",
       "    }\n",
       "</style>\n",
       "<table border=\"1\" class=\"dataframe\">\n",
       "  <thead>\n",
       "    <tr style=\"text-align: right;\">\n",
       "      <th></th>\n",
       "      <th>yearly_price</th>\n",
       "    </tr>\n",
       "  </thead>\n",
       "  <tbody>\n",
       "    <tr>\n",
       "      <th>yearly_price</th>\n",
       "      <td>1.000000</td>\n",
       "    </tr>\n",
       "    <tr>\n",
       "      <th>for_year</th>\n",
       "      <td>0.389317</td>\n",
       "    </tr>\n",
       "    <tr>\n",
       "      <th>common_stocks</th>\n",
       "      <td>0.369805</td>\n",
       "    </tr>\n",
       "    <tr>\n",
       "      <th>gross_profit</th>\n",
       "      <td>0.299871</td>\n",
       "    </tr>\n",
       "    <tr>\n",
       "      <th>total_revenue</th>\n",
       "      <td>0.294673</td>\n",
       "    </tr>\n",
       "    <tr>\n",
       "      <th>accounts_payable</th>\n",
       "      <td>0.264436</td>\n",
       "    </tr>\n",
       "    <tr>\n",
       "      <th>net_cash_flow-operating</th>\n",
       "      <td>0.231454</td>\n",
       "    </tr>\n",
       "    <tr>\n",
       "      <th>net_receivables</th>\n",
       "      <td>0.215696</td>\n",
       "    </tr>\n",
       "    <tr>\n",
       "      <th>sales,_general_and_admin.</th>\n",
       "      <td>0.214221</td>\n",
       "    </tr>\n",
       "    <tr>\n",
       "      <th>capital_expenditures</th>\n",
       "      <td>0.199775</td>\n",
       "    </tr>\n",
       "  </tbody>\n",
       "</table>\n",
       "</div>"
      ],
      "text/plain": [
       "                           yearly_price\n",
       "yearly_price                   1.000000\n",
       "for_year                       0.389317\n",
       "common_stocks                  0.369805\n",
       "gross_profit                   0.299871\n",
       "total_revenue                  0.294673\n",
       "accounts_payable               0.264436\n",
       "net_cash_flow-operating        0.231454\n",
       "net_receivables                0.215696\n",
       "sales,_general_and_admin.      0.214221\n",
       "capital_expenditures           0.199775"
      ]
     },
     "execution_count": 32,
     "metadata": {},
     "output_type": "execute_result"
    }
   ],
   "source": [
    "# The goal here is to find out if sector is attributable to the variables\n",
    "# Let's try the Consumer Discretionary sector\n",
    "consumer_disc = master_yoy[master_yoy.gics_sector=='Consumer Discretionary']\n",
    "\n",
    "# Get the correlation\n",
    "consumer_disc_corr = consumer_disc.corr()[['yearly_price']].sort_values(by=['yearly_price'], ascending=False)\n",
    "consumer_disc_corr.head(10)\n",
    "\n",
    "# Ignore the for_year as it does not make sense\n"
   ]
  },
  {
   "cell_type": "code",
   "execution_count": 33,
   "metadata": {
    "slideshow": {
     "slide_type": "subslide"
    }
   },
   "outputs": [
    {
     "data": {
      "text/html": [
       "<div>\n",
       "<style scoped>\n",
       "    .dataframe tbody tr th:only-of-type {\n",
       "        vertical-align: middle;\n",
       "    }\n",
       "\n",
       "    .dataframe tbody tr th {\n",
       "        vertical-align: top;\n",
       "    }\n",
       "\n",
       "    .dataframe thead th {\n",
       "        text-align: right;\n",
       "    }\n",
       "</style>\n",
       "<table border=\"1\" class=\"dataframe\">\n",
       "  <thead>\n",
       "    <tr style=\"text-align: right;\">\n",
       "      <th></th>\n",
       "      <th>yearly_price</th>\n",
       "    </tr>\n",
       "  </thead>\n",
       "  <tbody>\n",
       "    <tr>\n",
       "      <th>yearly_price</th>\n",
       "      <td>1.000000</td>\n",
       "    </tr>\n",
       "    <tr>\n",
       "      <th>misc._stocks</th>\n",
       "      <td>0.902549</td>\n",
       "    </tr>\n",
       "    <tr>\n",
       "      <th>gross_profit</th>\n",
       "      <td>0.560156</td>\n",
       "    </tr>\n",
       "    <tr>\n",
       "      <th>total_revenue</th>\n",
       "      <td>0.474557</td>\n",
       "    </tr>\n",
       "    <tr>\n",
       "      <th>research_and_development</th>\n",
       "      <td>0.399668</td>\n",
       "    </tr>\n",
       "    <tr>\n",
       "      <th>for_year</th>\n",
       "      <td>0.388397</td>\n",
       "    </tr>\n",
       "    <tr>\n",
       "      <th>capital_expenditures</th>\n",
       "      <td>0.359367</td>\n",
       "    </tr>\n",
       "    <tr>\n",
       "      <th>estimated_shares_outstanding</th>\n",
       "      <td>0.332368</td>\n",
       "    </tr>\n",
       "    <tr>\n",
       "      <th>accounts_payable</th>\n",
       "      <td>0.303950</td>\n",
       "    </tr>\n",
       "    <tr>\n",
       "      <th>other_equity</th>\n",
       "      <td>0.298279</td>\n",
       "    </tr>\n",
       "  </tbody>\n",
       "</table>\n",
       "</div>"
      ],
      "text/plain": [
       "                              yearly_price\n",
       "yearly_price                      1.000000\n",
       "misc._stocks                      0.902549\n",
       "gross_profit                      0.560156\n",
       "total_revenue                     0.474557\n",
       "research_and_development          0.399668\n",
       "for_year                          0.388397\n",
       "capital_expenditures              0.359367\n",
       "estimated_shares_outstanding      0.332368\n",
       "accounts_payable                  0.303950\n",
       "other_equity                      0.298279"
      ]
     },
     "execution_count": 33,
     "metadata": {},
     "output_type": "execute_result"
    }
   ],
   "source": [
    "# What about Industrials?\n",
    "consumer_disc = master_yoy[master_yoy.gics_sector=='Industrials']\n",
    "consumer_disc_corr = consumer_disc.corr()[['yearly_price']].sort_values(by=['yearly_price'], ascending=False)\n",
    "consumer_disc_corr.head(10)\n",
    "\n",
    "# hmm, not quite the same as Consumer Discretionary, as we can see the correlation order on other features changed\n",
    "# So it appears that the Sector does make some difference here"
   ]
  },
  {
   "cell_type": "code",
   "execution_count": 34,
   "metadata": {
    "slideshow": {
     "slide_type": "slide"
    }
   },
   "outputs": [
    {
     "data": {
      "text/plain": [
       "<matplotlib.axes._subplots.AxesSubplot at 0x11a1bf3c8>"
      ]
     },
     "execution_count": 34,
     "metadata": {},
     "output_type": "execute_result"
    },
    {
     "data": {
      "image/png": "[encoded data removed]",
      "text/plain": [
       "<Figure size 576x432 with 1 Axes>"
      ]
     },
     "metadata": {},
     "output_type": "display_data"
    }
   ],
   "source": [
    "# Would be also intersting to see the pe ratio distribution by the sectors\n",
    "sns.barplot(data=master_yoy, x='pe_ratio',y='gics_sector')\n",
    "\n",
    "# So it looks like 'informtion technology' grows the most - which makes sense!"
   ]
  },
  {
   "cell_type": "code",
   "execution_count": 35,
   "metadata": {
    "slideshow": {
     "slide_type": "slide"
    }
   },
   "outputs": [],
   "source": [
    "# With what we dicovered, I'd like to make the sectors my features too\n",
    "# Create dummies features\n",
    "sector_dummies = pd.get_dummies(master_yoy.gics_sector, prefix='sector')\n",
    "\n",
    "# Drop the last column - I still want to be able to see the biggest sector \n",
    "sector_dummies.drop(sector_dummies.columns[-1], axis=1, inplace=True)"
   ]
  },
  {
   "cell_type": "code",
   "execution_count": 36,
   "metadata": {
    "slideshow": {
     "slide_type": "subslide"
    }
   },
   "outputs": [
    {
     "data": {
      "text/html": [
       "<div>\n",
       "<style scoped>\n",
       "    .dataframe tbody tr th:only-of-type {\n",
       "        vertical-align: middle;\n",
       "    }\n",
       "\n",
       "    .dataframe tbody tr th {\n",
       "        vertical-align: top;\n",
       "    }\n",
       "\n",
       "    .dataframe thead th {\n",
       "        text-align: right;\n",
       "    }\n",
       "</style>\n",
       "<table border=\"1\" class=\"dataframe\">\n",
       "  <thead>\n",
       "    <tr style=\"text-align: right;\">\n",
       "      <th></th>\n",
       "      <th>sector_Consumer Discretionary</th>\n",
       "      <th>sector_Consumer Staples</th>\n",
       "      <th>sector_Energy</th>\n",
       "      <th>sector_Financials</th>\n",
       "      <th>sector_Health Care</th>\n",
       "      <th>sector_Industrials</th>\n",
       "      <th>sector_Information Technology</th>\n",
       "      <th>sector_Materials</th>\n",
       "      <th>sector_Real Estate</th>\n",
       "      <th>sector_Telecommunications Services</th>\n",
       "    </tr>\n",
       "  </thead>\n",
       "  <tbody>\n",
       "    <tr>\n",
       "      <th>0</th>\n",
       "      <td>0</td>\n",
       "      <td>0</td>\n",
       "      <td>0</td>\n",
       "      <td>0</td>\n",
       "      <td>0</td>\n",
       "      <td>1</td>\n",
       "      <td>0</td>\n",
       "      <td>0</td>\n",
       "      <td>0</td>\n",
       "      <td>0</td>\n",
       "    </tr>\n",
       "    <tr>\n",
       "      <th>1</th>\n",
       "      <td>0</td>\n",
       "      <td>0</td>\n",
       "      <td>0</td>\n",
       "      <td>0</td>\n",
       "      <td>0</td>\n",
       "      <td>1</td>\n",
       "      <td>0</td>\n",
       "      <td>0</td>\n",
       "      <td>0</td>\n",
       "      <td>0</td>\n",
       "    </tr>\n",
       "    <tr>\n",
       "      <th>2</th>\n",
       "      <td>0</td>\n",
       "      <td>0</td>\n",
       "      <td>0</td>\n",
       "      <td>0</td>\n",
       "      <td>0</td>\n",
       "      <td>1</td>\n",
       "      <td>0</td>\n",
       "      <td>0</td>\n",
       "      <td>0</td>\n",
       "      <td>0</td>\n",
       "    </tr>\n",
       "    <tr>\n",
       "      <th>3</th>\n",
       "      <td>0</td>\n",
       "      <td>0</td>\n",
       "      <td>0</td>\n",
       "      <td>0</td>\n",
       "      <td>0</td>\n",
       "      <td>1</td>\n",
       "      <td>0</td>\n",
       "      <td>0</td>\n",
       "      <td>0</td>\n",
       "      <td>0</td>\n",
       "    </tr>\n",
       "    <tr>\n",
       "      <th>4</th>\n",
       "      <td>1</td>\n",
       "      <td>0</td>\n",
       "      <td>0</td>\n",
       "      <td>0</td>\n",
       "      <td>0</td>\n",
       "      <td>0</td>\n",
       "      <td>0</td>\n",
       "      <td>0</td>\n",
       "      <td>0</td>\n",
       "      <td>0</td>\n",
       "    </tr>\n",
       "  </tbody>\n",
       "</table>\n",
       "</div>"
      ],
      "text/plain": [
       "   sector_Consumer Discretionary  sector_Consumer Staples  sector_Energy  \\\n",
       "0                              0                        0              0   \n",
       "1                              0                        0              0   \n",
       "2                              0                        0              0   \n",
       "3                              0                        0              0   \n",
       "4                              1                        0              0   \n",
       "\n",
       "   sector_Financials  sector_Health Care  sector_Industrials  \\\n",
       "0                  0                   0                   1   \n",
       "1                  0                   0                   1   \n",
       "2                  0                   0                   1   \n",
       "3                  0                   0                   1   \n",
       "4                  0                   0                   0   \n",
       "\n",
       "   sector_Information Technology  sector_Materials  sector_Real Estate  \\\n",
       "0                              0                 0                   0   \n",
       "1                              0                 0                   0   \n",
       "2                              0                 0                   0   \n",
       "3                              0                 0                   0   \n",
       "4                              0                 0                   0   \n",
       "\n",
       "   sector_Telecommunications Services  \n",
       "0                                   0  \n",
       "1                                   0  \n",
       "2                                   0  \n",
       "3                                   0  \n",
       "4                                   0  "
      ]
     },
     "execution_count": 36,
     "metadata": {},
     "output_type": "execute_result"
    }
   ],
   "source": [
    "sector_dummies.head()"
   ]
  },
  {
   "cell_type": "code",
   "execution_count": 37,
   "metadata": {
    "slideshow": {
     "slide_type": "subslide"
    }
   },
   "outputs": [
    {
     "data": {
      "text/html": [
       "<div>\n",
       "<style scoped>\n",
       "    .dataframe tbody tr th:only-of-type {\n",
       "        vertical-align: middle;\n",
       "    }\n",
       "\n",
       "    .dataframe tbody tr th {\n",
       "        vertical-align: top;\n",
       "    }\n",
       "\n",
       "    .dataframe thead th {\n",
       "        text-align: right;\n",
       "    }\n",
       "</style>\n",
       "<table border=\"1\" class=\"dataframe\">\n",
       "  <thead>\n",
       "    <tr style=\"text-align: right;\">\n",
       "      <th></th>\n",
       "      <th>ticker_symbol</th>\n",
       "      <th>period_ending</th>\n",
       "      <th>accounts_payable</th>\n",
       "      <th>accounts_receivable</th>\n",
       "      <th>add'l_income/expense_items</th>\n",
       "      <th>after_tax_roe</th>\n",
       "      <th>capital_expenditures</th>\n",
       "      <th>capital_surplus</th>\n",
       "      <th>cash_ratio</th>\n",
       "      <th>cash_and_cash_equivalents</th>\n",
       "      <th>...</th>\n",
       "      <th>sector_consumer_discretionary</th>\n",
       "      <th>sector_consumer_staples</th>\n",
       "      <th>sector_energy</th>\n",
       "      <th>sector_financials</th>\n",
       "      <th>sector_health_care</th>\n",
       "      <th>sector_industrials</th>\n",
       "      <th>sector_information_technology</th>\n",
       "      <th>sector_materials</th>\n",
       "      <th>sector_real_estate</th>\n",
       "      <th>sector_telecommunications_services</th>\n",
       "    </tr>\n",
       "  </thead>\n",
       "  <tbody>\n",
       "    <tr>\n",
       "      <th>0</th>\n",
       "      <td>AAL</td>\n",
       "      <td>12/31/2012</td>\n",
       "      <td>NaN</td>\n",
       "      <td>NaN</td>\n",
       "      <td>NaN</td>\n",
       "      <td>NaN</td>\n",
       "      <td>NaN</td>\n",
       "      <td>NaN</td>\n",
       "      <td>NaN</td>\n",
       "      <td>NaN</td>\n",
       "      <td>...</td>\n",
       "      <td>0</td>\n",
       "      <td>0</td>\n",
       "      <td>0</td>\n",
       "      <td>0</td>\n",
       "      <td>0</td>\n",
       "      <td>1</td>\n",
       "      <td>0</td>\n",
       "      <td>0</td>\n",
       "      <td>0</td>\n",
       "      <td>0</td>\n",
       "    </tr>\n",
       "    <tr>\n",
       "      <th>1</th>\n",
       "      <td>AAL</td>\n",
       "      <td>12/31/2013</td>\n",
       "      <td>0.621578</td>\n",
       "      <td>-0.581081</td>\n",
       "      <td>0.388577</td>\n",
       "      <td>1.913043</td>\n",
       "      <td>0.649364</td>\n",
       "      <td>1.256017</td>\n",
       "      <td>0.415094</td>\n",
       "      <td>0.635338</td>\n",
       "      <td>...</td>\n",
       "      <td>0</td>\n",
       "      <td>0</td>\n",
       "      <td>0</td>\n",
       "      <td>0</td>\n",
       "      <td>0</td>\n",
       "      <td>1</td>\n",
       "      <td>0</td>\n",
       "      <td>0</td>\n",
       "      <td>0</td>\n",
       "      <td>0</td>\n",
       "    </tr>\n",
       "    <tr>\n",
       "      <th>2</th>\n",
       "      <td>AAL</td>\n",
       "      <td>12/31/2014</td>\n",
       "      <td>-0.061709</td>\n",
       "      <td>0.720430</td>\n",
       "      <td>-0.944914</td>\n",
       "      <td>1.134328</td>\n",
       "      <td>0.705523</td>\n",
       "      <td>0.428909</td>\n",
       "      <td>-0.200000</td>\n",
       "      <td>-0.187126</td>\n",
       "      <td>...</td>\n",
       "      <td>0</td>\n",
       "      <td>0</td>\n",
       "      <td>0</td>\n",
       "      <td>0</td>\n",
       "      <td>0</td>\n",
       "      <td>1</td>\n",
       "      <td>0</td>\n",
       "      <td>0</td>\n",
       "      <td>0</td>\n",
       "      <td>0</td>\n",
       "    </tr>\n",
       "    <tr>\n",
       "      <th>3</th>\n",
       "      <td>AAL</td>\n",
       "      <td>12/31/2015</td>\n",
       "      <td>0.092973</td>\n",
       "      <td>-3.200000</td>\n",
       "      <td>3.720000</td>\n",
       "      <td>-0.055944</td>\n",
       "      <td>0.158162</td>\n",
       "      <td>-0.234159</td>\n",
       "      <td>-0.150000</td>\n",
       "      <td>-0.386312</td>\n",
       "      <td>...</td>\n",
       "      <td>0</td>\n",
       "      <td>0</td>\n",
       "      <td>0</td>\n",
       "      <td>0</td>\n",
       "      <td>0</td>\n",
       "      <td>1</td>\n",
       "      <td>0</td>\n",
       "      <td>0</td>\n",
       "      <td>0</td>\n",
       "      <td>0</td>\n",
       "    </tr>\n",
       "    <tr>\n",
       "      <th>4</th>\n",
       "      <td>AAP</td>\n",
       "      <td>12/29/2012</td>\n",
       "      <td>NaN</td>\n",
       "      <td>NaN</td>\n",
       "      <td>NaN</td>\n",
       "      <td>NaN</td>\n",
       "      <td>NaN</td>\n",
       "      <td>NaN</td>\n",
       "      <td>NaN</td>\n",
       "      <td>NaN</td>\n",
       "      <td>...</td>\n",
       "      <td>1</td>\n",
       "      <td>0</td>\n",
       "      <td>0</td>\n",
       "      <td>0</td>\n",
       "      <td>0</td>\n",
       "      <td>0</td>\n",
       "      <td>0</td>\n",
       "      <td>0</td>\n",
       "      <td>0</td>\n",
       "      <td>0</td>\n",
       "    </tr>\n",
       "  </tbody>\n",
       "</table>\n",
       "<p>5 rows × 100 columns</p>\n",
       "</div>"
      ],
      "text/plain": [
       "  ticker_symbol period_ending  accounts_payable  accounts_receivable  \\\n",
       "0           AAL    12/31/2012               NaN                  NaN   \n",
       "1           AAL    12/31/2013          0.621578            -0.581081   \n",
       "2           AAL    12/31/2014         -0.061709             0.720430   \n",
       "3           AAL    12/31/2015          0.092973            -3.200000   \n",
       "4           AAP    12/29/2012               NaN                  NaN   \n",
       "\n",
       "   add'l_income/expense_items  after_tax_roe  capital_expenditures  \\\n",
       "0                         NaN            NaN                   NaN   \n",
       "1                    0.388577       1.913043              0.649364   \n",
       "2                   -0.944914       1.134328              0.705523   \n",
       "3                    3.720000      -0.055944              0.158162   \n",
       "4                         NaN            NaN                   NaN   \n",
       "\n",
       "   capital_surplus  cash_ratio  cash_and_cash_equivalents  \\\n",
       "0              NaN         NaN                        NaN   \n",
       "1         1.256017    0.415094                   0.635338   \n",
       "2         0.428909   -0.200000                  -0.187126   \n",
       "3        -0.234159   -0.150000                  -0.386312   \n",
       "4              NaN         NaN                        NaN   \n",
       "\n",
       "                  ...                  sector_consumer_discretionary  \\\n",
       "0                 ...                                              0   \n",
       "1                 ...                                              0   \n",
       "2                 ...                                              0   \n",
       "3                 ...                                              0   \n",
       "4                 ...                                              1   \n",
       "\n",
       "   sector_consumer_staples  sector_energy  sector_financials  \\\n",
       "0                        0              0                  0   \n",
       "1                        0              0                  0   \n",
       "2                        0              0                  0   \n",
       "3                        0              0                  0   \n",
       "4                        0              0                  0   \n",
       "\n",
       "   sector_health_care  sector_industrials  sector_information_technology  \\\n",
       "0                   0                   1                              0   \n",
       "1                   0                   1                              0   \n",
       "2                   0                   1                              0   \n",
       "3                   0                   1                              0   \n",
       "4                   0                   0                              0   \n",
       "\n",
       "   sector_materials  sector_real_estate  sector_telecommunications_services  \n",
       "0                 0                   0                                   0  \n",
       "1                 0                   0                                   0  \n",
       "2                 0                   0                                   0  \n",
       "3                 0                   0                                   0  \n",
       "4                 0                   0                                   0  \n",
       "\n",
       "[5 rows x 100 columns]"
      ]
     },
     "execution_count": 37,
     "metadata": {},
     "output_type": "execute_result"
    }
   ],
   "source": [
    "# Concatenate the dummies to the master\n",
    "master_with_dummies = pd.concat([master_yoy, sector_dummies], axis=1)\n",
    "# Make the column names consistent\n",
    "master_with_dummies = lowercase_with_underscore_header(master_with_dummies)\n",
    "master_with_dummies.head()"
   ]
  },
  {
   "cell_type": "code",
   "execution_count": 38,
   "metadata": {
    "slideshow": {
     "slide_type": "slide"
    }
   },
   "outputs": [],
   "source": [
    "# Here we have a caviet,\n",
    "# Since we are trying to predict \"if the Next Year Price will the go up\", \n",
    "# We should indicate if next year is going up or not\n",
    "\n",
    "# Essntially we are just shifting down the growth rate, e.g., 2012 will take 2013's value, 2016 becomes NA\n",
    "for_next_year_growth = list(master_with_dummies['yearly_price'][1:]) # shift one down \n",
    "for_next_year_growth.append(None) # append a nan in the end \n"
   ]
  },
  {
   "cell_type": "code",
   "execution_count": 39,
   "metadata": {
    "slideshow": {
     "slide_type": "subslide"
    }
   },
   "outputs": [],
   "source": [
    "# Create the 'price_go_up' column using the shifted growth rate\n",
    "master_with_dummies['price_go_up'] = for_next_year_growth\n",
    "\n",
    "# remove the rows that is null \n",
    "master_with_dummies.dropna(subset=['price_go_up'], inplace=True)"
   ]
  },
  {
   "cell_type": "code",
   "execution_count": 40,
   "metadata": {
    "slideshow": {
     "slide_type": "subslide"
    }
   },
   "outputs": [],
   "source": [
    "# We also have to drop the first year for all tickers since we are missing all the features (remember it's growth rate)\n",
    "# I know..the downside is we will cut a lot of rows but I just want to have useful data\n",
    "new_list = []\n",
    "last_ticker = None\n",
    "for row in master_with_dummies.values:\n",
    "    ticker = row[0]\n",
    "    if ticker == last_ticker:\n",
    "        new_list.append(row)\n",
    "        \n",
    "    last_ticker = ticker\n",
    "\n",
    "master_with_dummies_final = pd.DataFrame(new_list, columns=master_with_dummies.columns )"
   ]
  },
  {
   "cell_type": "code",
   "execution_count": 41,
   "metadata": {
    "slideshow": {
     "slide_type": "subslide"
    }
   },
   "outputs": [],
   "source": [
    "# As long as the price growth rate is greater than 0, mark it as 1. Otherwise 0\n",
    "# Make another column for this binary class\n",
    "master_with_dummies_final['class_price_go_up'] = (master_with_dummies_final['price_go_up'] > 0).map({True:1, False:0})\n"
   ]
  },
  {
   "cell_type": "code",
   "execution_count": 42,
   "metadata": {
    "slideshow": {
     "slide_type": "slide"
    }
   },
   "outputs": [
    {
     "data": {
      "text/html": [
       "<div>\n",
       "<style scoped>\n",
       "    .dataframe tbody tr th:only-of-type {\n",
       "        vertical-align: middle;\n",
       "    }\n",
       "\n",
       "    .dataframe tbody tr th {\n",
       "        vertical-align: top;\n",
       "    }\n",
       "\n",
       "    .dataframe thead th {\n",
       "        text-align: right;\n",
       "    }\n",
       "</style>\n",
       "<table border=\"1\" class=\"dataframe\">\n",
       "  <thead>\n",
       "    <tr style=\"text-align: right;\">\n",
       "      <th></th>\n",
       "      <th>ticker_symbol</th>\n",
       "      <th>period_ending</th>\n",
       "      <th>accounts_payable</th>\n",
       "      <th>accounts_receivable</th>\n",
       "      <th>add'l_income/expense_items</th>\n",
       "      <th>after_tax_roe</th>\n",
       "      <th>capital_expenditures</th>\n",
       "      <th>capital_surplus</th>\n",
       "      <th>cash_ratio</th>\n",
       "      <th>cash_and_cash_equivalents</th>\n",
       "      <th>...</th>\n",
       "      <th>sector_energy</th>\n",
       "      <th>sector_financials</th>\n",
       "      <th>sector_health_care</th>\n",
       "      <th>sector_industrials</th>\n",
       "      <th>sector_information_technology</th>\n",
       "      <th>sector_materials</th>\n",
       "      <th>sector_real_estate</th>\n",
       "      <th>sector_telecommunications_services</th>\n",
       "      <th>price_go_up</th>\n",
       "      <th>class_price_go_up</th>\n",
       "    </tr>\n",
       "  </thead>\n",
       "  <tbody>\n",
       "    <tr>\n",
       "      <th>0</th>\n",
       "      <td>AAL</td>\n",
       "      <td>12/31/2013</td>\n",
       "      <td>0.621578</td>\n",
       "      <td>-0.581081</td>\n",
       "      <td>0.388577</td>\n",
       "      <td>1.913043</td>\n",
       "      <td>0.649364</td>\n",
       "      <td>1.256017</td>\n",
       "      <td>0.415094</td>\n",
       "      <td>0.635338</td>\n",
       "      <td>...</td>\n",
       "      <td>0</td>\n",
       "      <td>0</td>\n",
       "      <td>0</td>\n",
       "      <td>1</td>\n",
       "      <td>0</td>\n",
       "      <td>0</td>\n",
       "      <td>0</td>\n",
       "      <td>0</td>\n",
       "      <td>1.140081</td>\n",
       "      <td>1</td>\n",
       "    </tr>\n",
       "    <tr>\n",
       "      <th>1</th>\n",
       "      <td>AAL</td>\n",
       "      <td>12/31/2014</td>\n",
       "      <td>-0.061709</td>\n",
       "      <td>0.720430</td>\n",
       "      <td>-0.944914</td>\n",
       "      <td>1.134328</td>\n",
       "      <td>0.705523</td>\n",
       "      <td>0.428909</td>\n",
       "      <td>-0.200000</td>\n",
       "      <td>-0.187126</td>\n",
       "      <td>...</td>\n",
       "      <td>0</td>\n",
       "      <td>0</td>\n",
       "      <td>0</td>\n",
       "      <td>1</td>\n",
       "      <td>0</td>\n",
       "      <td>0</td>\n",
       "      <td>0</td>\n",
       "      <td>0</td>\n",
       "      <td>0.159246</td>\n",
       "      <td>1</td>\n",
       "    </tr>\n",
       "    <tr>\n",
       "      <th>2</th>\n",
       "      <td>AAP</td>\n",
       "      <td>12/28/2013</td>\n",
       "      <td>0.082918</td>\n",
       "      <td>-0.637603</td>\n",
       "      <td>3.496667</td>\n",
       "      <td>-0.187500</td>\n",
       "      <td>-0.278134</td>\n",
       "      <td>0.021295</td>\n",
       "      <td>0.739130</td>\n",
       "      <td>0.859974</td>\n",
       "      <td>...</td>\n",
       "      <td>0</td>\n",
       "      <td>0</td>\n",
       "      <td>0</td>\n",
       "      <td>0</td>\n",
       "      <td>0</td>\n",
       "      <td>0</td>\n",
       "      <td>0</td>\n",
       "      <td>0</td>\n",
       "      <td>0.920514</td>\n",
       "      <td>1</td>\n",
       "    </tr>\n",
       "    <tr>\n",
       "      <th>3</th>\n",
       "      <td>AAP</td>\n",
       "      <td>1/3/2015</td>\n",
       "      <td>0.385859</td>\n",
       "      <td>0.486647</td>\n",
       "      <td>0.146034</td>\n",
       "      <td>-0.038462</td>\n",
       "      <td>0.166988</td>\n",
       "      <td>0.059575</td>\n",
       "      <td>-0.925000</td>\n",
       "      <td>-0.905911</td>\n",
       "      <td>...</td>\n",
       "      <td>0</td>\n",
       "      <td>0</td>\n",
       "      <td>0</td>\n",
       "      <td>0</td>\n",
       "      <td>0</td>\n",
       "      <td>0</td>\n",
       "      <td>0</td>\n",
       "      <td>0</td>\n",
       "      <td>-0.049858</td>\n",
       "      <td>0</td>\n",
       "    </tr>\n",
       "    <tr>\n",
       "      <th>4</th>\n",
       "      <td>AAPL</td>\n",
       "      <td>9/27/2014</td>\n",
       "      <td>0.343042</td>\n",
       "      <td>2.310416</td>\n",
       "      <td>-0.152249</td>\n",
       "      <td>0.166667</td>\n",
       "      <td>0.172198</td>\n",
       "      <td>NaN</td>\n",
       "      <td>-0.569892</td>\n",
       "      <td>-0.029104</td>\n",
       "      <td>...</td>\n",
       "      <td>0</td>\n",
       "      <td>0</td>\n",
       "      <td>0</td>\n",
       "      <td>0</td>\n",
       "      <td>1</td>\n",
       "      <td>0</td>\n",
       "      <td>0</td>\n",
       "      <td>0</td>\n",
       "      <td>0.301040</td>\n",
       "      <td>1</td>\n",
       "    </tr>\n",
       "  </tbody>\n",
       "</table>\n",
       "<p>5 rows × 102 columns</p>\n",
       "</div>"
      ],
      "text/plain": [
       "  ticker_symbol period_ending  accounts_payable  accounts_receivable  \\\n",
       "0           AAL    12/31/2013          0.621578            -0.581081   \n",
       "1           AAL    12/31/2014         -0.061709             0.720430   \n",
       "2           AAP    12/28/2013          0.082918            -0.637603   \n",
       "3           AAP      1/3/2015          0.385859             0.486647   \n",
       "4          AAPL     9/27/2014          0.343042             2.310416   \n",
       "\n",
       "   add'l_income/expense_items  after_tax_roe  capital_expenditures  \\\n",
       "0                    0.388577       1.913043              0.649364   \n",
       "1                   -0.944914       1.134328              0.705523   \n",
       "2                    3.496667      -0.187500             -0.278134   \n",
       "3                    0.146034      -0.038462              0.166988   \n",
       "4                   -0.152249       0.166667              0.172198   \n",
       "\n",
       "   capital_surplus  cash_ratio  cash_and_cash_equivalents        ...          \\\n",
       "0         1.256017    0.415094                   0.635338        ...           \n",
       "1         0.428909   -0.200000                  -0.187126        ...           \n",
       "2         0.021295    0.739130                   0.859974        ...           \n",
       "3         0.059575   -0.925000                  -0.905911        ...           \n",
       "4              NaN   -0.569892                  -0.029104        ...           \n",
       "\n",
       "   sector_energy  sector_financials  sector_health_care  sector_industrials  \\\n",
       "0              0                  0                   0                   1   \n",
       "1              0                  0                   0                   1   \n",
       "2              0                  0                   0                   0   \n",
       "3              0                  0                   0                   0   \n",
       "4              0                  0                   0                   0   \n",
       "\n",
       "   sector_information_technology  sector_materials  sector_real_estate  \\\n",
       "0                              0                 0                   0   \n",
       "1                              0                 0                   0   \n",
       "2                              0                 0                   0   \n",
       "3                              0                 0                   0   \n",
       "4                              1                 0                   0   \n",
       "\n",
       "   sector_telecommunications_services  price_go_up  class_price_go_up  \n",
       "0                                   0     1.140081                  1  \n",
       "1                                   0     0.159246                  1  \n",
       "2                                   0     0.920514                  1  \n",
       "3                                   0    -0.049858                  0  \n",
       "4                                   0     0.301040                  1  \n",
       "\n",
       "[5 rows x 102 columns]"
      ]
     },
     "execution_count": 42,
     "metadata": {},
     "output_type": "execute_result"
    }
   ],
   "source": [
    "# let's take a look\n",
    "master_with_dummies_final.head()"
   ]
  },
  {
   "cell_type": "code",
   "execution_count": 44,
   "metadata": {
    "slideshow": {
     "slide_type": "slide"
    }
   },
   "outputs": [
    {
     "name": "stdout",
     "output_type": "stream",
     "text": [
      "Count of feature: 23\n"
     ]
    },
    {
     "data": {
      "text/plain": [
       "{'changes_in_inventories',\n",
       " 'class_price_go_up',\n",
       " 'effect_of_exchange_rate',\n",
       " 'equity_earnings/loss_unconsolidated_subsidiary',\n",
       " 'for_year',\n",
       " 'goodwill',\n",
       " 'gross_margin',\n",
       " 'income_tax',\n",
       " 'long-term_investments',\n",
       " 'misc._stocks',\n",
       " 'net_cash_flow-operating',\n",
       " 'non-recurring_items',\n",
       " 'operating_income',\n",
       " 'operating_margin',\n",
       " 'other_operating_items',\n",
       " 'price_go_up',\n",
       " 'research_and_development',\n",
       " 'short-term_investments',\n",
       " 'total_current_assets',\n",
       " 'total_equity',\n",
       " 'total_liabilities_&_equity',\n",
       " 'treasury_stock',\n",
       " 'yearly_price'}"
      ]
     },
     "execution_count": 44,
     "metadata": {},
     "output_type": "execute_result"
    }
   ],
   "source": [
    "# Now we are finally almost ready to start building the model \n",
    "# But we still have a lot of features (80+). How do I select the features so to make the model less complex?\n",
    "# Well I'll start with getting a set of top 5 corelated features from each sector\n",
    "num_feature_from_each_sector = 5\n",
    "# Get the feature columns first\n",
    "orig_features = list(master_with_dummies_final.columns[2:78]) # Get the original fundamentals features \n",
    "orig_features = orig_features + ['pe_ratio'] # need to add this pe_ratio\n",
    "\n",
    "feature_cols = master_with_dummies_final[orig_features]\n",
    "\n",
    "sector_set = set([]) # Initiate a set object\n",
    "for each_sector in master_with_dummies_final.gics_sector.unique():\n",
    "    sector_df = master_with_dummies_final[master_with_dummies_final.gics_sector==each_sector]\n",
    "    sector_corr = sector_df.corr()[['price_go_up']].sort_values(by=['price_go_up'], ascending=False) # Get the correlations for earch sector \n",
    "    sector_set.update(set(sector_corr.head(num_feature_from_each_sector).index)) # add the top 5 to my set\n",
    "    \n",
    "# Take a look\n",
    "print('Count of feature:',len(sector_set))\n",
    "sector_set"
   ]
  },
  {
   "cell_type": "code",
   "execution_count": 45,
   "metadata": {
    "slideshow": {
     "slide_type": "subslide"
    }
   },
   "outputs": [],
   "source": [
    "# Remove the features that I don't want because they are dupes\n",
    "sector_set.remove('class_price_go_up')\n",
    "sector_set.remove('price_go_up')\n",
    "sector_set.remove('yearly_price')\n",
    "sector_set.remove('for_year')"
   ]
  },
  {
   "cell_type": "code",
   "execution_count": 46,
   "metadata": {
    "slideshow": {
     "slide_type": "subslide"
    }
   },
   "outputs": [],
   "source": [
    "# ok I will go with these features for now plus the sector dummies that I just created\n",
    "sector_col_names = [i for i in master_with_dummies.columns if i[:6]=='sector']\n",
    "feature_cols = list(sector_set) + sector_col_names"
   ]
  },
  {
   "cell_type": "code",
   "execution_count": 47,
   "metadata": {
    "slideshow": {
     "slide_type": "subslide"
    }
   },
   "outputs": [
    {
     "ename": "SyntaxError",
     "evalue": "Missing parentheses in call to 'print'. Did you mean print('Accuracy Score:', score)? (<ipython-input-47-faec6c2bca81>, line 15)",
     "output_type": "error",
     "traceback": [
      "\u001b[0;36m  File \u001b[0;32m\"<ipython-input-47-faec6c2bca81>\"\u001b[0;36m, line \u001b[0;32m15\u001b[0m\n\u001b[0;31m    print 'Accuracy Score:', score\u001b[0m\n\u001b[0m                          ^\u001b[0m\n\u001b[0;31mSyntaxError\u001b[0m\u001b[0;31m:\u001b[0m Missing parentheses in call to 'print'. Did you mean print('Accuracy Score:', score)?\n"
     ]
    }
   ],
   "source": [
    "# Finally we can start building the model - first I am trying logisic regression\n",
    "from sklearn.linear_model import LogisticRegression\n",
    "from sklearn.model_selection import train_test_split\n",
    "\n",
    "X = master_with_dummies_final[feature_cols].fillna(0) # filling zero for all the mssing data\n",
    "y = master_with_dummies_final['class_price_go_up']\n",
    "X_train, X_test, y_train, y_test = train_test_split(X, y, random_state=99)\n",
    "\n",
    "logreg = LogisticRegression()\n",
    "logreg.fit(X_train, y_train)\n",
    "\n",
    "y_pred = logreg.predict(X_test)\n",
    "y_pred_prob = logreg.predict_proba(X_test) # get the probabilities as well\n",
    "score = logreg.score(X_test,y_test)\n",
    "print 'Accuracy Score:', score"
   ]
  },
  {
   "cell_type": "code",
   "execution_count": 48,
   "metadata": {
    "slideshow": {
     "slide_type": "slide"
    }
   },
   "outputs": [
    {
     "data": {
      "text/plain": [
       "<matplotlib.collections.PathCollection at 0x11cba0748>"
      ]
     },
     "execution_count": 48,
     "metadata": {},
     "output_type": "execute_result"
    },
    {
     "data": {
      "image/png": "[encoded data removed]",
      "text/plain": [
       "<Figure size 576x432 with 1 Axes>"
      ]
     },
     "metadata": {},
     "output_type": "display_data"
    }
   ],
   "source": [
    "# Plotting some features just to see if we can identify some pattern\n",
    "plt.scatter(master_with_dummies_final['short-term_investments'],\n",
    "            master_with_dummies_final['research_and_development'], \n",
    "            c=master_with_dummies_final['class_price_go_up'],\n",
    "            cmap='tab20b'\n",
    "            )\n"
   ]
  },
  {
   "cell_type": "code",
   "execution_count": 49,
   "metadata": {
    "slideshow": {
     "slide_type": "subslide"
    }
   },
   "outputs": [],
   "source": [
    "# This time, try to use all features to build the model\n",
    "orig_features = list(master_with_dummies_final.columns[2:78]) # Get the original fundamentals features \n",
    "orig_features = orig_features + ['pe_ratio'] # need to add this pe_ratio\n",
    "orig_features = orig_features + sector_col_names # and the sector dummy columns"
   ]
  },
  {
   "cell_type": "code",
   "execution_count": 51,
   "metadata": {
    "slideshow": {
     "slide_type": "subslide"
    }
   },
   "outputs": [
    {
     "name": "stdout",
     "output_type": "stream",
     "text": [
      "Accuracy Score: 0.7457627118644068\n"
     ]
    }
   ],
   "source": [
    "# Try all features..\n",
    "from sklearn.linear_model import LogisticRegression\n",
    "from sklearn.model_selection import train_test_split\n",
    "\n",
    "X = master_with_dummies_final[orig_features].fillna(0) # filling zero for all the mssing data\n",
    "y = master_with_dummies_final['class_price_go_up']\n",
    "X_train, X_test, y_train, y_test = train_test_split(X, y, random_state=10)\n",
    "\n",
    "logreg = LogisticRegression()\n",
    "logreg.fit(X_train, y_train)\n",
    "\n",
    "y_pred = logreg.predict(X_test)\n",
    "y_pred_prob = logreg.predict_proba(X_test) # get the probabilities as well\n",
    "score = logreg.score(X_test,y_test)\n",
    "print('Accuracy Score:', score)"
   ]
  },
  {
   "cell_type": "code",
   "execution_count": 54,
   "metadata": {
    "slideshow": {
     "slide_type": "subslide"
    }
   },
   "outputs": [],
   "source": [
    "# Try cross validation with 5 folds\n",
    "\n",
    "from sklearn.cross_validation import cross_val_score, cross_val_predict\n",
    "from sklearn import metrics\n",
    "\n",
    "def show_cross_validation(X,y,k_fold=5):\n",
    "    print('--------------THIS IS THE K-FOLD----------------------\\n')\n",
    "    K = k_fold\n",
    "    print('K:', K)\n",
    "    model = LogisticRegression()\n",
    "\n",
    "    # Perform cross-validation\n",
    "    scores = cross_val_score(model, X, y, cv=K)\n",
    "    print(\"Cross-validated scores:\", scores)\n",
    "    print(\"Mean CV R2:\", np.mean(scores))\n",
    "    print('Std CV R2:', np.std(scores))\n",
    "\n",
    "    # Make cross-validated predictions\n",
    "    predictions = cross_val_predict(model, X, y, cv=K)\n",
    "    #print 'Crodd-validated predictions', predictions\n",
    "    r2 = metrics.r2_score(y, predictions)\n",
    "    print(\"Cross-Predicted R2:\", r2)"
   ]
  },
  {
   "cell_type": "code",
   "execution_count": 55,
   "metadata": {
    "slideshow": {
     "slide_type": "subslide"
    }
   },
   "outputs": [
    {
     "name": "stdout",
     "output_type": "stream",
     "text": [
      "--------------THIS IS THE K-FOLD----------------------\n",
      "\n",
      "K: 5\n",
      "Cross-validated scores: [0.73426573 0.70422535 0.67375887 0.72340426 0.70212766]\n",
      "Mean CV R2: 0.7075563733040509\n",
      "Std CV R2: 0.02072381969167171\n",
      "Cross-Predicted R2: -0.5308987590356411\n"
     ]
    }
   ],
   "source": [
    "show_cross_validation(X,y)"
   ]
  },
  {
   "cell_type": "code",
   "execution_count": 57,
   "metadata": {
    "slideshow": {
     "slide_type": "slide"
    }
   },
   "outputs": [
    {
     "name": "stdout",
     "output_type": "stream",
     "text": [
      "Accuracy: 0.7457627118644068\n",
      "TPR: 0.9117647058823529\n",
      "FPR: 0.8048780487804879\n"
     ]
    }
   ],
   "source": [
    "# The confusion metrics \n",
    "# Let me get the probability predictions.\n",
    "logreg_pred_proba = logreg.predict_proba(X_test)[:,1]\n",
    "cm = metrics.confusion_matrix(y_true=y_test, y_pred=logreg_pred_proba > .5)\n",
    "TN, FP, FN, TP = cm.flatten()\n",
    "total = cm.flatten().sum()\n",
    "acutal_positive = y_test.sum()\n",
    "actual_negative = total - acutal_positive\n",
    "accuracy = float(TP+TN)/total\n",
    "TPR = float(TP)/acutal_positive\n",
    "FPR = float(FP)/actual_negative\n",
    "print('Accuracy:', accuracy)\n",
    "print('TPR:', TPR)\n",
    "print('FPR:', FPR)"
   ]
  },
  {
   "cell_type": "code",
   "execution_count": 58,
   "metadata": {
    "slideshow": {
     "slide_type": "subslide"
    }
   },
   "outputs": [],
   "source": [
    "# The False positive rate is way to high.. this time I want to change how we define \"price go up\"\n",
    "# ie, if price growth rate is greater than x (x % increase), mark it as 1. Otherwise 0\n",
    "\n",
    "# Create a function so I can easily reproduce the dataset\n",
    "from sklearn.model_selection import train_test_split\n",
    "def train_split_model(data, features, increase_by=0):\n",
    "    '''dynamically create train-split given the threshold'''\n",
    "    X = data[features].fillna(0) \n",
    "    y = (master_with_dummies_final['price_go_up'] > increase_by).map({True:1, False:0})\n",
    "    return train_test_split(X, y, random_state=10)"
   ]
  },
  {
   "cell_type": "code",
   "execution_count": 60,
   "metadata": {
    "slideshow": {
     "slide_type": "slide"
    }
   },
   "outputs": [
    {
     "name": "stdout",
     "output_type": "stream",
     "text": [
      "Accuracy Score: 0.6892655367231638\n"
     ]
    }
   ],
   "source": [
    "# Retrain the model\n",
    "# Use 20% growth rate \n",
    "X_train, X_test, y_train, y_test = train_split_model(master_with_dummies_final, orig_features, increase_by=0.20)\n",
    "\n",
    "logreg = LogisticRegression()\n",
    "logreg.fit(X_train, y_train)\n",
    "\n",
    "y_pred = logreg.predict(X_test)\n",
    "y_pred_prob = logreg.predict_proba(X_test) # get the probabilities as well\n",
    "score = logreg.score(X_test,y_test)\n",
    "print('Accuracy Score:', score)"
   ]
  },
  {
   "cell_type": "code",
   "execution_count": 61,
   "metadata": {
    "slideshow": {
     "slide_type": "subslide"
    }
   },
   "outputs": [
    {
     "name": "stdout",
     "output_type": "stream",
     "text": [
      "--------------THIS IS THE K-FOLD----------------------\n",
      "\n",
      "K: 5\n",
      "Cross-validated scores: [0.73426573 0.70422535 0.67375887 0.72340426 0.70212766]\n",
      "Mean CV R2: 0.7075563733040509\n",
      "Std CV R2: 0.02072381969167171\n",
      "Cross-Predicted R2: -0.5308987590356411\n"
     ]
    }
   ],
   "source": [
    "show_cross_validation(X,y)"
   ]
  },
  {
   "cell_type": "code",
   "execution_count": 62,
   "metadata": {
    "slideshow": {
     "slide_type": "subslide"
    }
   },
   "outputs": [
    {
     "data": {
      "text/plain": [
       "0.7231638418079096"
      ]
     },
     "execution_count": 62,
     "metadata": {},
     "output_type": "execute_result"
    }
   ],
   "source": [
    "# baseline score \n",
    "1. - y_train.mean()"
   ]
  },
  {
   "cell_type": "code",
   "execution_count": 63,
   "metadata": {
    "slideshow": {
     "slide_type": "slide"
    }
   },
   "outputs": [],
   "source": [
    "def get_metrics_by_growth(data, features, clf, threshold=20):\n",
    "    '''This is useful to quickly retrive the components from confusion metric\n",
    "       To see the movement for accuracy, TPR, and FPR given the changes of the threshold\n",
    "       \n",
    "    Args: data: pandas dataframe \n",
    "          features(list): list of the feature names\n",
    "          clf: sklearn classifier instance\n",
    "          threshold(int): threshold for growth rate\n",
    "    \n",
    "    Returns: A tuple of accuracy, TPR and FPR\n",
    "    '''\n",
    "    X_train, X_test, y_train, y_test = train_split_model(data, features, increase_by=float(threshold)/100)\n",
    "    clf.fit(X_train, y_train)\n",
    "    y_pred = clf.predict(X_test)\n",
    "    y_pred_prob =clf.predict_proba(X_test) # get the probabilities as well\n",
    "    clf_pred_proba = clf.predict_proba(X_test)[:,1]\n",
    "    cm = metrics.confusion_matrix(y_true=y_test, y_pred=clf_pred_proba > .5)\n",
    "    TN, FP, FN, TP = cm.flatten()\n",
    "    total = cm.flatten().sum()\n",
    "    acutal_positive = y_test.sum()\n",
    "    actual_negative = total - acutal_positive\n",
    "    accuracy = float(TP+TN)/total\n",
    "    TPR = float(TP)/acutal_positive\n",
    "    FPR = float(FP)/actual_negative\n",
    "    return (accuracy, TPR, FPR)"
   ]
  },
  {
   "cell_type": "code",
   "execution_count": 65,
   "metadata": {
    "slideshow": {
     "slide_type": "subslide"
    }
   },
   "outputs": [
    {
     "name": "stdout",
     "output_type": "stream",
     "text": [
      "accuracy: 0.632768361581921\n",
      "TPR: 0.20833333333333334\n",
      "FPR: 0.0761904761904762\n"
     ]
    }
   ],
   "source": [
    "# Logistic regression using 15%\n",
    "logreg = LogisticRegression()\n",
    "accuracy, TPR, FPR = get_metrics_by_growth(master_with_dummies_final, feature_cols, logreg, threshold=15)\n",
    "print('accuracy:',accuracy)\n",
    "print('TPR:', TPR)\n",
    "print('FPR:', FPR)"
   ]
  },
  {
   "cell_type": "code",
   "execution_count": 66,
   "metadata": {
    "slideshow": {
     "slide_type": "slide"
    }
   },
   "outputs": [
    {
     "name": "stdout",
     "output_type": "stream",
     "text": [
      "accuracy: 0.5988700564971752\n",
      "TPR: 0.1111111111111111\n",
      "FPR: 0.06666666666666667\n"
     ]
    }
   ],
   "source": [
    "# Logistic regression using 15%\n",
    "# what if I use all features\n",
    "logreg = LogisticRegression()\n",
    "accuracy, TPR, FPR = get_metrics_by_growth(master_with_dummies_final, orig_features, logreg, threshold=15)\n",
    "print('accuracy:',accuracy)\n",
    "print('TPR:', TPR)\n",
    "print('FPR:', FPR)"
   ]
  },
  {
   "cell_type": "code",
   "execution_count": 68,
   "metadata": {
    "slideshow": {
     "slide_type": "slide"
    }
   },
   "outputs": [
    {
     "name": "stdout",
     "output_type": "stream",
     "text": [
      "accuracy: 0.5988700564971752\n",
      "TPR: 0.1111111111111111\n",
      "FPR: 0.06666666666666667\n"
     ]
    }
   ],
   "source": [
    "# Now try the decision tree\n",
    "from sklearn.tree import DecisionTreeClassifier\n",
    "from sklearn.tree import export_graphviz\n",
    "\n",
    "treeclf = DecisionTreeClassifier(max_depth=3, random_state=1)\n",
    "accuracy, TPR, FPR = get_metrics_by_growth(master_with_dummies_final, feature_cols, treeclf, threshold=15)\n",
    "print('accuracy:',accuracy)\n",
    "print('TPR:', TPR)\n",
    "print('FPR:', FPR)"
   ]
  },
  {
   "cell_type": "code",
   "execution_count": 70,
   "metadata": {
    "slideshow": {
     "slide_type": "slide"
    }
   },
   "outputs": [
    {
     "name": "stdout",
     "output_type": "stream",
     "text": [
      "accuracy: 0.6101694915254238\n",
      "TPR: 0.2222222222222222\n",
      "FPR: 0.12380952380952381\n"
     ]
    }
   ],
   "source": [
    "treeclf = DecisionTreeClassifier(max_depth=3, random_state=1)\n",
    "accuracy, TPR, FPR = get_metrics_by_growth(master_with_dummies_final, orig_features, treeclf, threshold=15)\n",
    "print('accuracy:',accuracy)\n",
    "print('TPR:', TPR)\n",
    "print('FPR:', FPR)"
   ]
  },
  {
   "cell_type": "code",
   "execution_count": 71,
   "metadata": {
    "slideshow": {
     "slide_type": "slide"
    }
   },
   "outputs": [
    {
     "data": {
      "text/html": [
       "<div>\n",
       "<style scoped>\n",
       "    .dataframe tbody tr th:only-of-type {\n",
       "        vertical-align: middle;\n",
       "    }\n",
       "\n",
       "    .dataframe tbody tr th {\n",
       "        vertical-align: top;\n",
       "    }\n",
       "\n",
       "    .dataframe thead th {\n",
       "        text-align: right;\n",
       "    }\n",
       "</style>\n",
       "<table border=\"1\" class=\"dataframe\">\n",
       "  <thead>\n",
       "    <tr style=\"text-align: right;\">\n",
       "      <th></th>\n",
       "      <th>feature</th>\n",
       "      <th>importance</th>\n",
       "    </tr>\n",
       "  </thead>\n",
       "  <tbody>\n",
       "    <tr>\n",
       "      <th>45</th>\n",
       "      <td>operating_margin</td>\n",
       "      <td>0.226495</td>\n",
       "    </tr>\n",
       "    <tr>\n",
       "      <th>73</th>\n",
       "      <td>for_year</td>\n",
       "      <td>0.219218</td>\n",
       "    </tr>\n",
       "    <tr>\n",
       "      <th>65</th>\n",
       "      <td>total_assets</td>\n",
       "      <td>0.174118</td>\n",
       "    </tr>\n",
       "    <tr>\n",
       "      <th>48</th>\n",
       "      <td>other_current_liabilities</td>\n",
       "      <td>0.123122</td>\n",
       "    </tr>\n",
       "    <tr>\n",
       "      <th>81</th>\n",
       "      <td>sector_health_care</td>\n",
       "      <td>0.093061</td>\n",
       "    </tr>\n",
       "    <tr>\n",
       "      <th>7</th>\n",
       "      <td>cash_and_cash_equivalents</td>\n",
       "      <td>0.086289</td>\n",
       "    </tr>\n",
       "    <tr>\n",
       "      <th>19</th>\n",
       "      <td>fixed_assets</td>\n",
       "      <td>0.077697</td>\n",
       "    </tr>\n",
       "    <tr>\n",
       "      <th>57</th>\n",
       "      <td>profit_margin</td>\n",
       "      <td>0.000000</td>\n",
       "    </tr>\n",
       "    <tr>\n",
       "      <th>63</th>\n",
       "      <td>short-term_debt_/_current_portion_of_long-term...</td>\n",
       "      <td>0.000000</td>\n",
       "    </tr>\n",
       "    <tr>\n",
       "      <th>62</th>\n",
       "      <td>sales,_general_and_admin.</td>\n",
       "      <td>0.000000</td>\n",
       "    </tr>\n",
       "  </tbody>\n",
       "</table>\n",
       "</div>"
      ],
      "text/plain": [
       "                                              feature  importance\n",
       "45                                   operating_margin    0.226495\n",
       "73                                           for_year    0.219218\n",
       "65                                       total_assets    0.174118\n",
       "48                          other_current_liabilities    0.123122\n",
       "81                                 sector_health_care    0.093061\n",
       "7                           cash_and_cash_equivalents    0.086289\n",
       "19                                       fixed_assets    0.077697\n",
       "57                                      profit_margin    0.000000\n",
       "63  short-term_debt_/_current_portion_of_long-term...    0.000000\n",
       "62                          sales,_general_and_admin.    0.000000"
      ]
     },
     "execution_count": 71,
     "metadata": {},
     "output_type": "execute_result"
    }
   ],
   "source": [
    "# How about the feature importance? \n",
    "pd.DataFrame({'feature':orig_features,\n",
    "              'importance':treeclf.feature_importances_}).sort_values(by='importance', ascending=False).head(10)"
   ]
  },
  {
   "cell_type": "code",
   "execution_count": 72,
   "metadata": {
    "slideshow": {
     "slide_type": "slide"
    }
   },
   "outputs": [
    {
     "data": {
      "text/plain": [
       "<seaborn.axisgrid.PairGrid at 0x11cbcdc18>"
      ]
     },
     "execution_count": 72,
     "metadata": {},
     "output_type": "execute_result"
    },
    {
     "data": {
      "image/png": "[encoded data removed]",
      "text/plain": [
       "<Figure size 360x360 with 1 Axes>"
      ]
     },
     "metadata": {},
     "output_type": "display_data"
    }
   ],
   "source": [
    "import seaborn as sns\n",
    "\n",
    "feature_cols = ['operating_margin']\n",
    "sns.pairplot(master_with_dummies_final, x_vars=feature_cols, y_vars='class_price_go_up',kind='reg', size=5)\n"
   ]
  },
  {
   "cell_type": "code",
   "execution_count": 73,
   "metadata": {
    "slideshow": {
     "slide_type": "subslide"
    }
   },
   "outputs": [],
   "source": [
    "important_features = pd.DataFrame({'feature':orig_features,\n",
    "              'importance':treeclf.feature_importances_}).sort_values(by='importance', ascending=False).head(5)['feature'].values"
   ]
  },
  {
   "cell_type": "code",
   "execution_count": 75,
   "metadata": {
    "slideshow": {
     "slide_type": "slide"
    }
   },
   "outputs": [
    {
     "name": "stdout",
     "output_type": "stream",
     "text": [
      "accuracy: 0.7175141242937854\n",
      "TPR: 0.08\n",
      "FPR: 0.031496062992125984\n"
     ]
    }
   ],
   "source": [
    "# Now, let's try the random forest\n",
    "from sklearn.ensemble import RandomForestClassifier\n",
    "rfclf = RandomForestClassifier(n_estimators=200, max_features=20, oob_score=True, random_state=1)\n",
    "accuracy, TPR, FPR = get_metrics_by_growth(master_with_dummies_final, orig_features, rfclf, threshold=20)\n",
    "print('accuracy:',accuracy)\n",
    "print('TPR:', TPR)\n",
    "print('FPR:', FPR)"
   ]
  },
  {
   "cell_type": "code",
   "execution_count": 76,
   "metadata": {
    "slideshow": {
     "slide_type": "slide"
    }
   },
   "outputs": [],
   "source": [
    "# Collect the metrics \n",
    "accuracy_list = []\n",
    "TPR_list = []\n",
    "FPR_list = []\n",
    "rfclf = RandomForestClassifier(n_estimators=200, max_features=20, oob_score=True, random_state=1)\n",
    "for i in range(0, 30, 1):\n",
    "    accuracy, TPR, FPR = get_metrics_by_growth(master_with_dummies_final, orig_features, rfclf, threshold=i)\n",
    "    accuracy_list.append(accuracy)\n",
    "    TPR_list.append(TPR)\n",
    "    FPR_list.append(FPR)"
   ]
  },
  {
   "cell_type": "code",
   "execution_count": 77,
   "metadata": {
    "slideshow": {
     "slide_type": "slide"
    }
   },
   "outputs": [
    {
     "data": {
      "image/png": "[encoded data removed]",
      "text/plain": [
       "<Figure size 576x432 with 1 Axes>"
      ]
     },
     "metadata": {},
     "output_type": "display_data"
    }
   ],
   "source": [
    "# Plot the chart to see the measures given the growth rate\n",
    "plt.plot(FPR_list,); # \n",
    "plt.plot(TPR_list) # blue line\n",
    "plt.plot(accuracy_list) \n",
    "plt.legend(['FPR', 'TPR', 'Accuracy'], loc='upper right')\n",
    "plt.xlabel('growth rate');\n",
    "plt.ylabel('measure');"
   ]
  },
  {
   "cell_type": "code",
   "execution_count": 101,
   "metadata": {
    "collapsed": true,
    "slideshow": {
     "slide_type": "slide"
    }
   },
   "outputs": [],
   "source": [
    "# I am more concerned about false positive rate than the true positive rate and accuracy\n",
    "# That is, if I predict a stock that will go up, I want to have high confidence that it will go up\n",
    "# With that said, I will go with 20%\n",
    "gowth_rate = 0.2 \n",
    "y = (master_with_dummies_final['price_go_up'] > gowth_rate).map({True:1, False:0})"
   ]
  },
  {
   "cell_type": "code",
   "execution_count": null,
   "metadata": {
    "slideshow": {
     "slide_type": "slide"
    }
   },
   "outputs": [],
   "source": [
    "# Now tunning the parameters for n_estimators and number of features\n",
    "# Use the GridSearchCV\n",
    "# Get the best n_estimators and max_features\n",
    "from sklearn.model_selection import GridSearchCV\n",
    "\n",
    "param_grid = {'n_estimators':range(10,210, 10),\n",
    "             'max_features':range(5,70)}\n",
    "\n",
    "rfclf = RandomForestClassifier()\n",
    "gs = GridSearchCV(estimator=rfclf,\n",
    "                 param_grid=param_grid,\n",
    "                 cv=5)\n",
    "gs.fit(X,y)"
   ]
  },
  {
   "cell_type": "code",
   "execution_count": 103,
   "metadata": {
    "slideshow": {
     "slide_type": "subslide"
    }
   },
   "outputs": [
    {
     "data": {
      "text/plain": [
       "RandomForestClassifier(bootstrap=True, class_weight=None, criterion='gini',\n",
       "            max_depth=None, max_features=28, max_leaf_nodes=None,\n",
       "            min_impurity_split=1e-07, min_samples_leaf=1,\n",
       "            min_samples_split=2, min_weight_fraction_leaf=0.0,\n",
       "            n_estimators=110, n_jobs=1, oob_score=False, random_state=None,\n",
       "            verbose=0, warm_start=False)"
      ]
     },
     "execution_count": 103,
     "metadata": {},
     "output_type": "execute_result"
    }
   ],
   "source": [
    "# Best estimator \n",
    "gs.best_estimator_"
   ]
  },
  {
   "cell_type": "code",
   "execution_count": null,
   "metadata": {
    "slideshow": {
     "slide_type": "slide"
    }
   },
   "outputs": [],
   "source": [
    "# Try it out\n",
    "rfclf = RandomForestClassifier(n_estimators=110, max_features=28, oob_score=True, random_state=1)\n",
    "accuracy, TPR, FPR = get_metrics_by_growth(master_with_dummies_final, orig_features, rfclf, threshold=20)\n",
    "print('accuracy:',accuracy)\n",
    "print('TPR:', TPR)\n",
    "print('FPR:', FPR)"
   ]
  },
  {
   "cell_type": "code",
   "execution_count": null,
   "metadata": {
    "slideshow": {
     "slide_type": "slide"
    }
   },
   "outputs": [],
   "source": [
    "# OK, finally I am saving the model\n",
    "import pickle\n",
    "\n",
    "rfclf.fit(X_train, y_train)\n",
    "\n",
    "filename = 'stock_model.pickle'\n",
    "pickle.dump(rfclf, open(filename, 'wb'))"
   ]
  },
  {
   "cell_type": "code",
   "execution_count": null,
   "metadata": {
    "slideshow": {
     "slide_type": "subslide"
    }
   },
   "outputs": [],
   "source": [
    "# Try loading the model and testing it\n",
    "loaded_model = pickle.load(open(filename, 'rb'))\n",
    "result = loaded_model.score(X_test, y_test)\n",
    "print(result)"
   ]
  },
  {
   "cell_type": "markdown",
   "metadata": {
    "slideshow": {
     "slide_type": "slide"
    }
   },
   "source": [
    "## Performace Summary\n",
    "#### The model predicts if a stock price is likely to go up by 20%\n",
    "#### Overall Accuracy: 73%\n",
    "#### False positive rate: 1.5%\n",
    "\n",
    "---\n"
   ]
  },
  {
   "cell_type": "code",
   "execution_count": null,
   "metadata": {
    "collapsed": true
   },
   "outputs": [],
   "source": []
  }
 ],
 "metadata": {
  "celltoolbar": "Slideshow",
  "kernelspec": {
   "display_name": "Python 3",
   "language": "python",
   "name": "python3"
  },
  "language_info": {
   "codemirror_mode": {
    "name": "ipython",
    "version": 3
   },
   "file_extension": ".py",
   "mimetype": "text/x-python",
   "name": "python",
   "nbconvert_exporter": "python",
   "pygments_lexer": "ipython3",
   "version": "3.6.5"
  }
 },
 "nbformat": 4,
 "nbformat_minor": 2
}
